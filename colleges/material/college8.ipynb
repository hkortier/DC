{
 "cells": [
  {
   "cell_type": "code",
   "execution_count": 16,
   "metadata": {
    "collapsed": false,
    "slideshow": {
     "slide_type": "-"
    }
   },
   "outputs": [],
   "source": [
    "%matplotlib inline"
   ]
  },
  {
   "cell_type": "code",
   "execution_count": 17,
   "metadata": {
    "collapsed": false,
    "scrolled": true
   },
   "outputs": [],
   "source": [
    "import numpy as np\n",
    "import scipy as sp\n",
    "import sympy as sym\n",
    "import matplotlib.pyplot as plt\n",
    "import sympy as smp\n",
    "import seaborn as sns\n",
    "\n",
    "from IPython.display import YouTubeVideo"
   ]
  },
  {
   "cell_type": "code",
   "execution_count": 18,
   "metadata": {
    "collapsed": false
   },
   "outputs": [],
   "source": [
    "from IPython.display import Image\n",
    "from IPython.core.display import HTML \n",
    "#Image(url= \"https://upload.wikimedia.org/wikipedia/commons/f/f9/Electron_shell_029_Copper.svg\", width=400)"
   ]
  },
  {
   "cell_type": "code",
   "execution_count": 19,
   "metadata": {
    "collapsed": false
   },
   "outputs": [
    {
     "name": "stdout",
     "output_type": "stream",
     "text": [
      "Installed circuitikz.py. To use it, type:\n",
      "  %load_ext circuitikz\n"
     ]
    },
    {
     "name": "stderr",
     "output_type": "stream",
     "text": [
      "/home/henk/anaconda3/lib/python3.5/site-packages/IPython/core/magics/extension.py:47: UserWarning: %install_ext` is deprecated, please distribute your extension(s)as a python packages.\n",
      "  \"as a python packages.\", UserWarning)\n"
     ]
    }
   ],
   "source": [
    "#import sys\n",
    "#sys.path.append('D:\\Dropbox\\python\\ipython-circuitikz')\n",
    "%install_ext circuitikz.py"
   ]
  },
  {
   "cell_type": "code",
   "execution_count": 20,
   "metadata": {
    "collapsed": true
   },
   "outputs": [],
   "source": [
    "%reload_ext circuitikz"
   ]
  },
  {
   "cell_type": "markdown",
   "metadata": {},
   "source": [
    "--------"
   ]
  },
  {
   "cell_type": "markdown",
   "metadata": {
    "slideshow": {
     "slide_type": "slide"
    }
   },
   "source": [
    "# Electrische circuits DC: Week 7"
   ]
  },
  {
   "cell_type": "markdown",
   "metadata": {},
   "source": [
    "-----"
   ]
  },
  {
   "cell_type": "markdown",
   "metadata": {},
   "source": [
    "## Inhoud:\n",
    "\n",
    "- Chapter 2: Voltage, Current, Resistance\n",
    "- Chapter 3: Ohm's Law\n",
    "- Chapter 4: Energy and Power\n",
    "- Chapter 5: Series Circuits\n",
    "- Chapter 6: Parallel Circuits\n",
    "- Chapter 7: Series-Parallel Circuits\n",
    "- Chapter 8: Circuit theorem and Conversions\n",
    "- Chatper 12: Capacitors\n",
    "- Chapter 13: Inductors"
   ]
  },
  {
   "cell_type": "markdown",
   "metadata": {},
   "source": [
    "----\n",
    "## TOETS 5-11-2015:\n",
    "----\n",
    "[Oefentoets 1](figures/oefentoets1.pdf)\n",
    "\n",
    "----"
   ]
  },
  {
   "cell_type": "markdown",
   "metadata": {},
   "source": [
    "- 1c / 1d [simulation link](http://www.falstad.com/circuit/circuitjs.html?cct=$+13+0.000005+10.200277308269968+50+5+43%0Ar+624+208+752+208+0+1%0Ar+784+208+784+320+0+2%0Ar+816+320+944+320+0+3%0Av+592+208+592+320+0+0+40+5+0+0+0.5%0Av+944+208+944+320+0+0+40+7+0+0+0.5%0Aw+592+320+784+320+0%0Aw+784+320+816+320+0%0Aw+944+208+784+208+0%0Aw+784+208+752+208+0%0Aw+624+208+592+208+0%0A)\n",
    "\n",
    "- 2a / 2b [simulation link](http://www.falstad.com/circuit/circuitjs.html?cct=$+13+0.000005+10.200277308269968+50+5+43%0Ar+624+208+752+208+0+2%0Ar+784+208+784+320+0+4%0Ar+784+320+624+320+0+3%0Aw+944+208+784+208+0%0Aw+784+208+752+208+0%0Ar+624+208+624+320+0+1%0Aw+624+208+528+208+0%0Aw+528+320+624+320+0%0Ar+944+208+944+320+0+12%0Aw+944+320+784+320+0%0Ai+528+320+528+208+0+5%0A)\n",
    "\n",
    "- 3a [simulation link](http://www.falstad.com/circuit/circuitjs.html?cct=$+17+0.000005+10.634267539816559+50+5+50%0Ar+608+272+608+400+0+1%0Ar+608+400+608+512+0+4%0Ar+720+400+720+272+0+2%0Ar+480+512+608+512+0+3%0Av+720+512+720+400+0+0+40+9+0+0+0.5%0Ai+480+272+480+400+0+3%0Aw+480+400+608+400+0%0Aw+608+400+720+400+0%0Aw+720+272+608+272+0%0Aw+608+272+480+272+0%0Aw+480+400+480+512+0%0Aw+608+512+720+512+0%0A)\n",
    "\n",
    "- 4a [simulation link](http://www.falstad.com/circuit/circuitjs.html?cct=$+17+0.000005+10.634267539816559+50+5+50%0Ar+496+272+656+272+0+1%0Ar+656+272+656+416+0+1%0Ar+912+272+912+416+0+1%0Av+464+416+464+272+0+0+40+3+0+0+0.5%0Ai+784+416+784+272+0+3%0Aw+656+272+784+272+0%0Aw+784+272+912+272+0%0Aw+912+416+784+416+0%0Aw+784+416+656+416+0%0Aw+656+416+464+416+0%0Aw+464+272+496+272+0%0A)\n",
    "\n",
    "- 5a / 5b [simulation link](http://www.falstad.com/circuit/circuitjs.html?cct=$+17+0.000005+10.634267539816559+50+5+50%0AS+704+272+560+272+0+0+false+0%0Ar+768+272+880+272+0+100%0Av+464+416+464+288+0+0+40+10+0+0+0.5%0Av+560+416+560+288+0+0+40+4+0+0+0.5%0Aw+464+288+464+256+0%0Aw+464+256+560+256+0%0Aw+464+416+560+416+0%0Aw+560+416+880+416+0%0Ac+880+272+880+416+0+0.000009999999999999999+4.000000000000177%0Aw+768+272+704+272+0%0Ao+8+64+0+551+20+0.1+0+-1%0A)\n"
   ]
  },
  {
   "cell_type": "markdown",
   "metadata": {},
   "source": [
    "----\n",
    "## TOETS XX:\n",
    "----\n",
    "[Oefentoets 2](figures/oefentoets2.pdf)\n",
    "\n",
    "----"
   ]
  },
  {
   "cell_type": "markdown",
   "metadata": {},
   "source": [
    "- 1b / 1c [simulation link](http://www.falstad.com/circuit/circuitjs.html?cct=$+13+0.000005+10.200277308269968+50+5+43%0Ar+624+208+752+208+0+4%0Ar+784+208+784+320+0+2%0Ar+816+320+944+320+0+3%0Av+592+320+592+208+0+0+40+20+0+0+0.5%0Av+944+208+944+320+0+0+40+10+0+0+0.5%0Aw+592+320+784+320+0%0Aw+784+320+816+320+0%0Aw+944+208+784+208+0%0Aw+784+208+752+208+0%0Aw+624+208+592+208+0%0A)\n",
    "\n",
    "- 2a / 2b [simulation link](http://www.falstad.com/circuit/circuitjs.html?cct=$+13+0.000005+10.200277308269968+50+5+43%0Ar+624+208+752+208+0+3%0Ar+784+208+784+320+0+2%0Ar+784+320+624+320+0+1%0Aw+944+208+784+208+0%0Aw+784+208+752+208+0%0Ar+624+208+624+320+0+4%0Aw+624+208+528+208+0%0Aw+528+320+624+320+0%0Ar+944+208+944+320+0+0.533333%0Aw+944+320+784+320+0%0Ai+528+320+528+208+0+10%0A)\n",
    "\n",
    "- 4a [simulation link](http://www.falstad.com/circuit/circuitjs.html?cct=$+17+0.000005+10.634267539816559+50+5+50%0Ar+496+272+656+272+0+1%0Ar+656+272+656+416+0+2%0Ar+912+272+912+416+0+3%0Av+464+416+464+272+0+0+40+4+0+0+0.5%0Ai+784+416+784+272+0+4%0Aw+656+272+784+272+0%0Aw+784+272+912+272+0%0Aw+912+416+784+416+0%0Aw+784+416+656+416+0%0Aw+656+416+464+416+0%0Aw+464+272+496+272+0%0A)"
   ]
  },
  {
   "cell_type": "markdown",
   "metadata": {},
   "source": [
    "----\n",
    "### Specifieke vragen:"
   ]
  },
  {
   "cell_type": "markdown",
   "metadata": {},
   "source": [
    "blz 608, vr 21:\n",
    "\n",
    "\\begin{equation}\n",
    "i_l = I_f + \\left( I_i - I_f \\right) \\cdot e^{\\left( \\dfrac{-t}{\\tau} \\right)}\n",
    "\\end{equation}\n",
    "\n",
    "met $I_i$ en $I_f$ de initiele (initial) en uiteindelijke (final) stromen zijn.\n",
    "\n",
    "Er geldt $I_i=0$. We kunnen de formule dan omschrijven naar: \n",
    "\n",
    "\\begin{equation}\n",
    "i_l = I_f \\cdot \\left( 1 - e^{\\left( \\dfrac{-t}{\\tau} \\right)} \\right)\n",
    "\\end{equation}"
   ]
  },
  {
   "cell_type": "code",
   "execution_count": 23,
   "metadata": {
    "collapsed": false
   },
   "outputs": [
    {
     "name": "stdout",
     "output_type": "stream",
     "text": [
      "0.00948180838243\n",
      "5.51819161757\n"
     ]
    }
   ],
   "source": [
    "tau = 10e-3/1e3\n",
    "t = 10e-6\n",
    "il = 15/1e3 * (1-np.exp(-t/tau))\n",
    "print(il)\n",
    "print(15-1e3*il)"
   ]
  },
  {
   "cell_type": "markdown",
   "metadata": {
    "collapsed": true
   },
   "source": [
    "## Extra links:\n",
    "\n",
    "- [Wikiversity: Electric Circuit](https://en.wikiversity.org/wiki/Electric_Circuit_Analysis)\n",
    "- [Pearson Floyd](https://media.pearsoncmg.com/bc/abp/floyd/)"
   ]
  },
  {
   "cell_type": "markdown",
   "metadata": {},
   "source": [
    "--------------------"
   ]
  },
  {
   "cell_type": "markdown",
   "metadata": {
    "collapsed": true
   },
   "source": [
    "# $SUCCES = (Voorbereiding \\cdot Geluk)^{Motivatie}$"
   ]
  }
 ],
 "metadata": {
  "kernelspec": {
   "display_name": "Python 3",
   "language": "python",
   "name": "python3"
  },
  "language_info": {
   "codemirror_mode": {
    "name": "ipython",
    "version": 3
   },
   "file_extension": ".py",
   "mimetype": "text/x-python",
   "name": "python",
   "nbconvert_exporter": "python",
   "pygments_lexer": "ipython3",
   "version": "3.5.1"
  }
 },
 "nbformat": 4,
 "nbformat_minor": 0
}
