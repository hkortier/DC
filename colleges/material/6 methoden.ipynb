{
 "cells": [
  {
   "cell_type": "code",
   "execution_count": 1,
   "metadata": {
    "collapsed": false,
    "slideshow": {
     "slide_type": "-"
    }
   },
   "outputs": [],
   "source": [
    "%matplotlib notebook"
   ]
  },
  {
   "cell_type": "code",
   "execution_count": 2,
   "metadata": {
    "collapsed": false,
    "scrolled": true
   },
   "outputs": [],
   "source": [
    "import numpy as np\n",
    "import scipy as sp\n",
    "import sympy as sym\n",
    "import matplotlib.pyplot as plt\n",
    "import sympy as smp\n",
    "#import seaborn as sns\n",
    "\n",
    "from IPython.display import YouTubeVideo"
   ]
  },
  {
   "cell_type": "code",
   "execution_count": 3,
   "metadata": {
    "collapsed": false
   },
   "outputs": [],
   "source": [
    "from IPython.display import Image\n",
    "from IPython.core.display import HTML \n",
    "#Image(url= \"https://upload.wikimedia.org/wikipedia/commons/f/f9/Electron_shell_029_Copper.svg\", width=400)"
   ]
  },
  {
   "cell_type": "code",
   "execution_count": 4,
   "metadata": {
    "collapsed": false
   },
   "outputs": [
    {
     "name": "stdout",
     "output_type": "stream",
     "text": [
      "Installed circuitikz.py. To use it, type:\n",
      "  %load_ext circuitikz\n"
     ]
    },
    {
     "name": "stderr",
     "output_type": "stream",
     "text": [
      "/Users/henkkortier/miniconda3/lib/python3.5/site-packages/IPython/core/magics/extension.py:47: UserWarning: %install_ext` is deprecated, please distribute your extension(s)as a python packages.\n",
      "  \"as a python packages.\", UserWarning)\n"
     ]
    }
   ],
   "source": [
    "#import sys\n",
    "#sys.path.append('D:\\Dropbox\\python\\ipython-circuitikz')\n",
    "%install_ext circuitikz.py"
   ]
  },
  {
   "cell_type": "code",
   "execution_count": 5,
   "metadata": {
    "collapsed": true
   },
   "outputs": [],
   "source": [
    "%reload_ext circuitikz"
   ]
  },
  {
   "cell_type": "markdown",
   "metadata": {},
   "source": [
    "--------"
   ]
  },
  {
   "cell_type": "markdown",
   "metadata": {},
   "source": [
    "----\n",
    "# Vraag: Bereken $I_1$ en $I_2$ in het onderstaande circuit:\n",
    "\n",
    "----"
   ]
  },
  {
   "cell_type": "code",
   "execution_count": 6,
   "metadata": {
    "collapsed": false
   },
   "outputs": [
    {
     "data": {
      "image/png": "[encoded data removed]",
      "text/plain": [
       "<IPython.core.display.Image object>"
      ]
     },
     "execution_count": 6,
     "metadata": {},
     "output_type": "execute_result"
    }
   ],
   "source": [
    "%%circuitikz filename=circuit dpi=175 options=american folder=circuits/6methoden/ replace=false\n",
    "\n",
    "\\begin{circuitikz}\n",
    "      \\draw (0,0)\n",
    "      to[I,i=$4A$] (0,3) \n",
    "      to[short] (2,3)\n",
    "      to [R, l=$4\\Omega$, i=$I_1$] (2,0)\n",
    "      to[short] (0,0); \n",
    "      \n",
    "      \\draw (2,3) \n",
    "      to [V, v^=$8V$] (5,3)\n",
    "      to [R, l=$12\\Omega$, i=$I_2$] (5,0);\n",
    "    \n",
    "      \\draw (5,0)\n",
    "      to[short] (2,0);\n",
    "      %to[I,i=$6~A$] (7,0)\n",
    "      %to[short] (2,0);\n",
    "\n",
    "    \\end{circuitikz}"
   ]
  },
  {
   "cell_type": "markdown",
   "metadata": {
    "slideshow": {
     "slide_type": "slide"
    }
   },
   "source": [
    "---\n",
    "# Oplossing via de 6 methoden:\n",
    "---"
   ]
  },
  {
   "cell_type": "markdown",
   "metadata": {},
   "source": [
    "## Links naar de oplossing van de verschillende methoden:\n",
    "\n",
    "1. [Wet van Ohm](#1.-Wet-van-Ohm)\n",
    "2. [Wetten van Kirchhoff](#2.-Wetten-van-Kirchhoff)\n",
    "3. [Super Positie](#3.-Super-Positie)\n",
    "4. [Norton / Thevenin](#4.-Norton-/-Thevenin)\n",
    "5. [Lusstromen](#5.-Lusstromen)\n",
    "6. [Weerstandsmatrx](#6.-Weerstandsmatrix)"
   ]
  },
  {
   "cell_type": "markdown",
   "metadata": {},
   "source": [
    "---\n",
    "## 1. Wet van Ohm\n",
    "---"
   ]
  },
  {
   "cell_type": "code",
   "execution_count": 7,
   "metadata": {
    "collapsed": false
   },
   "outputs": [
    {
     "data": {
      "image/png": "[encoded data removed]",
      "text/plain": [
       "<IPython.core.display.Image object>"
      ]
     },
     "execution_count": 7,
     "metadata": {},
     "output_type": "execute_result"
    }
   ],
   "source": [
    "%%circuitikz filename=methode1 dpi=175 options=american folder=circuits/6methoden/ replace=false\n",
    "\n",
    "\\begin{circuitikz}\n",
    "      \\draw (0,0)\n",
    "      to[I,i=$4A$] (0,3) \n",
    "      to[short] (2,3)\n",
    "      to [R, l=$4\\Omega$, i=$I_1$, v=$U_1$] (2,0)\n",
    "      to[short] (0,0); \n",
    "      \n",
    "      \\draw (2,3) \n",
    "      to [V, v^=$8V$] (5,3)\n",
    "      to [R, l=$12\\Omega$, i=$I_2$, v=$U_2$] (5,0);\n",
    "    \n",
    "      \\draw (5,0)\n",
    "      to[short] (2,0);\n",
    "      %to[I,i=$6~A$] (7,0)\n",
    "      %to[short] (2,0);\n",
    "\n",
    "    \\end{circuitikz}"
   ]
  },
  {
   "cell_type": "markdown",
   "metadata": {},
   "source": [
    "Defineer eerst de spanningen over de weerstanden ($U_1$ en $U_2$).\n",
    "\n",
    "Gebruik de wet van Ohm om de volgende vergelijking op te stellen:\n",
    "\n",
    "1. $U_1 = I_1 \\cdot 4$\n",
    "2. $U_2 = I_2 \\cdot 12$\n",
    "\n",
    "    Verder gelden de volgende vergelijkingen:\n",
    "\n",
    "3. $U_1 + 8 = U_2$\n",
    "4. $I_1 + I_2 = 4$\n",
    "\n",
    "Gebruik deze vergelijkingen om ze in elkaar in te vullen:\n",
    "\n",
    "Eerst [4] in [2]:\n",
    "\n",
    "$$U_2 = 12(4-I_1)$$\n",
    "\n",
    "Vervolgens deze nieuwe vergelijking in [3]:\n",
    "\n",
    "$$U_1 = 12(4-I_1)-8$$\n",
    "\n",
    "Vervolgens [1] in deze nieuwe vergelijking invullen:\n",
    "\n",
    "$$U_1 = 12 \\left( 4-\\dfrac{U_1}{4} \\right) -8$$\n",
    "\n",
    "Levert:\n",
    "\n",
    "$$U_1 = 10~V$$\n",
    "$$U_2 = 18~V$$\n",
    "\n",
    "Dus:\n",
    "$$I_1 = \\dfrac{U_1}{4}=\\dfrac{10}{4}=2.5~A$$\n",
    "\n",
    "en:\n",
    "\n",
    "$$I_2 = \\dfrac{U_2}{4}=\\dfrac{18}{12}=1.5~A$$\n"
   ]
  },
  {
   "cell_type": "markdown",
   "metadata": {},
   "source": [
    "---\n",
    "## 2. Wettten van Kirchhoff\n",
    "---"
   ]
  },
  {
   "cell_type": "code",
   "execution_count": 8,
   "metadata": {
    "collapsed": false,
    "scrolled": true
   },
   "outputs": [
    {
     "data": {
      "image/png": "[encoded data removed]",
      "text/plain": [
       "<IPython.core.display.Image object>"
      ]
     },
     "execution_count": 8,
     "metadata": {},
     "output_type": "execute_result"
    }
   ],
   "source": [
    "%%circuitikz filename=methode2 dpi=175 options=american folder=circuits/6methoden/ replace=false\n",
    "\n",
    "\\begin{circuitikz}\n",
    "      \\draw (0,0)\n",
    "      to[I,i=$4A$] (0,3) \n",
    "      to[short,-*] (2,3)\n",
    "      to [R, l=$4\\Omega$, i=$I_1$, v=$U_1$] (2,0)\n",
    "      to[short] (0,0); \n",
    "      \n",
    "      \\draw (2,3) \n",
    "      to [V, v^=$8V$] (5,3)\n",
    "      to [R, l=$12\\Omega$, i=$I_2$, v=$U_2$] (5,0);\n",
    "    \n",
    "      \\draw (5,0)\n",
    "      to[short] (2,0);\n",
    "      \n",
    "      \\begin{scope}[>=latex,color=magenta,thick,text=magenta]\n",
    "      \\draw[short] (2,3) node[label={above:$P_1$}] {};\n",
    "      \\draw[thin, <-, >=triangle 45] (3.5,1.5)node{$L_1$}  ++(-60:.75) arc (-60:170:.75);\n",
    "      %\\draw[thin, <-, >=triangle 45] (4.5,1.5)node{$L_2$}  ++(-60:.75) arc (-60:170:.75);\n",
    "      \\end{scope}\n",
    "\n",
    "    \\end{circuitikz}"
   ]
  },
  {
   "cell_type": "markdown",
   "metadata": {},
   "source": [
    "KCL geeft:\n",
    "\n",
    "$P_1$: $4 - I_1 - I_2 = 0$\n",
    "\n",
    "KVL geeft:\n",
    "\n",
    "$L_1$: $-4 I_1 - 8 + 12 I_2 = 0$\n",
    "\n",
    "2 vergelijkingen met 2 onbekenden oplossen (bijvoorbeeld voor $I_2$). Darvoor vermedigvuldigen we de eerst verkregen KCL vergelijking met 4:\n",
    "\n",
    "$16 - 4 I_1 - 4 I_2 = 0$\n",
    "\n",
    "Herschikken en aftrekken van deze vergelijking met de KVL vergelijking:\n",
    "\n",
    "\\begin{array}{ccccr}\n",
    "  - 4 I_1 & -4 I_2 & +16 & =0 & \\\\\n",
    "  - 4 I_1 & +12 I_2 & -8 & =0 & - \\\\\\hline\n",
    "  & -16 I_2 & +24 & =0 &\n",
    "\\end{array}\n",
    "\n",
    "Geeft: $I_2 = 1.5~A$\n",
    "\n",
    "Via de eerste KCL vergelijking vinden we $I_1$:  $4 - I_1 - 1.5 = 0$\n",
    "\n",
    "Geeft: $I_1 = 2.5~A$"
   ]
  },
  {
   "cell_type": "markdown",
   "metadata": {},
   "source": [
    "---\n",
    "## 3. Super Positie\n",
    "---"
   ]
  },
  {
   "cell_type": "markdown",
   "metadata": {},
   "source": [
    "Eerst maken we de stroombron actief: "
   ]
  },
  {
   "cell_type": "code",
   "execution_count": 9,
   "metadata": {
    "collapsed": false
   },
   "outputs": [
    {
     "data": {
      "image/png": "[encoded data removed]",
      "text/plain": [
       "<IPython.core.display.Image object>"
      ]
     },
     "execution_count": 9,
     "metadata": {},
     "output_type": "execute_result"
    }
   ],
   "source": [
    "%%circuitikz filename=methode3a dpi=175 options=american folder=circuits/6methoden/ replace=false\n",
    "\n",
    "\\begin{circuitikz}\n",
    "      \\draw (0,0)\n",
    "      to[I,i=$4A$] (0,3) \n",
    "      to[short] (2,3)\n",
    "      to [R, l=$4\\Omega$, i=$I_{1a}$] (2,0)\n",
    "      to[short] (0,0); \n",
    "      \n",
    "      \\draw (2,3) \n",
    "      to [short] (5,3)\n",
    "      to [R, l=$12\\Omega$, i=$I_{2a}$] (5,0);\n",
    "    \n",
    "      \\draw (5,0)\n",
    "      to[short] (2,0);\n",
    "      %to[I,i=$6~A$] (7,0)\n",
    "      %to[short] (2,0);\n",
    "\n",
    "    \\end{circuitikz}"
   ]
  },
  {
   "cell_type": "markdown",
   "metadata": {},
   "source": [
    "Dit betreft een stroom deler met als uitkomsten:\n",
    "\n",
    "$$I_{1a} = \\dfrac{12}{4+12} 4 = 3~A$$\n",
    "\n",
    "$$I_{1b} = \\dfrac{4}{4+12} 4 = 1~A$$"
   ]
  },
  {
   "cell_type": "markdown",
   "metadata": {},
   "source": [
    "Vervolgens maken we de spanningsbron actief:"
   ]
  },
  {
   "cell_type": "code",
   "execution_count": 10,
   "metadata": {
    "collapsed": false
   },
   "outputs": [
    {
     "data": {
      "image/png": "[encoded data removed]",
      "text/plain": [
       "<IPython.core.display.Image object>"
      ]
     },
     "execution_count": 10,
     "metadata": {},
     "output_type": "execute_result"
    }
   ],
   "source": [
    "%%circuitikz filename=methode3b dpi=175 options=american folder=circuits/6methoden/ replace=false\n",
    "\n",
    "\\begin{circuitikz}\n",
    "      %\\draw (0,0)\n",
    "      %to[I,i=$4A$] (0,3) \n",
    "      %to[short] (2,3)\n",
    "      \\draw (2,3)\n",
    "      to [R, l=$4\\Omega$, i=$I_{1b}$, v=$U_{1b}$] (2,0);\n",
    "      %to[short] (0,0); \n",
    "      \n",
    "      \\draw (2,3) \n",
    "      to [V, v^=$8V$, i=$I_{tot}$] (5,3)\n",
    "      to [R, l=$12\\Omega$, i=$I_{2b}$, v=$U_{2b}$] (5,0);\n",
    "    \n",
    "      \\draw (5,0)\n",
    "      to[short] (2,0);\n",
    "      %to[I,i=$6~A$] (7,0)\n",
    "      %to[short] (2,0);\n",
    "\n",
    "    \\end{circuitikz}"
   ]
  },
  {
   "cell_type": "markdown",
   "metadata": {},
   "source": [
    "De totale stroom wordt bepaald door:\n",
    "\n",
    "$$I_{tot} = I_{2b} = \\dfrac{8}{16} = 0.5~A$$\n",
    "\n",
    "Dus $I_{1b} = -0.5~A$\n",
    "\n",
    "\n",
    "Vervolgens sommen we de bijdragen op om tot de totaal stroom te komen:\n",
    "\n",
    "$$I_1=I_{1a}+I_{1b} = 3-0.5=2.5~A$$\n",
    "\n",
    "$$I_2=I_{2a}+I_{2b} = 1+0.5=1.5~A$$\n"
   ]
  },
  {
   "cell_type": "markdown",
   "metadata": {},
   "source": [
    "---\n",
    "## 4. Norten / Thevenin\n",
    "---"
   ]
  },
  {
   "cell_type": "markdown",
   "metadata": {},
   "source": [
    "### Thevenin\n",
    "\n",
    "Het Thevenin equivalent ziet er als volgt uit:"
   ]
  },
  {
   "cell_type": "code",
   "execution_count": 11,
   "metadata": {
    "collapsed": false
   },
   "outputs": [
    {
     "data": {
      "image/png": "[encoded data removed]",
      "text/plain": [
       "<IPython.core.display.Image object>"
      ]
     },
     "execution_count": 11,
     "metadata": {},
     "output_type": "execute_result"
    }
   ],
   "source": [
    "%%circuitikz filename=methode4a dpi=175 options=american folder=circuits/6methoden/ replace=false\n",
    "\n",
    "\\begin{circuitikz}\n",
    "      \\draw (0,0)\n",
    "      to[V,v=$16V$] (0,3) \n",
    "      to[R, l=$4~\\Omega$, -*] (3,3);\n",
    "      %to [R, l=$4\\Omega$, i=$I_1$, v=$U_1$] (2,0)\n",
    "      %to[short] (0,0); \n",
    "      \n",
    "      \\draw (3,3) \n",
    "      to [V, v^=$8V$] (6,3)\n",
    "      to [R, l=$12\\Omega$, i=$I_2$, v=$U_2$] (6,0);\n",
    "    \n",
    "      \\draw (6,0)\n",
    "      to[short, -*] (3,0)\n",
    "      to[short] (0,0);\n",
    "    \n",
    "      \\draw[short] (3,2) node[label={above:$+$}] {};\n",
    "      \\draw[short] (3,1) node[label={below:$-$}] {};\n",
    "      \\draw[short] (3,1) node[label=$U$] {};\n",
    "        \n",
    "      %to[I,i=$6~A$] (7,0)\n",
    "      %to[short] (2,0);\n",
    "\n",
    "    \\end{circuitikz}"
   ]
  },
  {
   "cell_type": "markdown",
   "metadata": {},
   "source": [
    "Er geldt nu:\n",
    "\n",
    "$$I_2 = \\dfrac{16+8}{4+12} = 1.5~A$$\n",
    "\n",
    "En verder geldt:\n",
    "\n",
    "$$U = 12*I_2-8 = 12*1.5-8 = 10~V$$\n",
    "\n",
    "Om nu de originele stroom $I_1$ te bepalen moeten we deze spanning delen door de oorspronkelijke weerstand:\n",
    "\n",
    "$$I_1 = \\dfrac{10}{4} = 2.5~A$$"
   ]
  },
  {
   "cell_type": "markdown",
   "metadata": {},
   "source": [
    "----\n",
    "### Norton\n",
    "\n",
    "Het Norton circuit ziet er als volgt uit:"
   ]
  },
  {
   "cell_type": "code",
   "execution_count": 12,
   "metadata": {
    "collapsed": false
   },
   "outputs": [
    {
     "data": {
      "image/png": "[encoded data removed]",
      "text/plain": [
       "<IPython.core.display.Image object>"
      ]
     },
     "execution_count": 12,
     "metadata": {},
     "output_type": "execute_result"
    }
   ],
   "source": [
    "%%circuitikz filename=methode4b dpi=175 options=american folder=circuits/6methoden/ replace=false\n",
    "\n",
    "\\begin{circuitikz}\n",
    "      \\draw (0,0)\n",
    "      to[I,i=$4A$] (0,3) \n",
    "      to[short] (2,3)\n",
    "      to [R, l=$4\\Omega$, i=$I_1$, v=$U$] (2,0)\n",
    "      to[short] (0,0); \n",
    "      \n",
    "      \\draw (2,3) \n",
    "      to [short] (6,3)\n",
    "      to [R, l=$12\\Omega$] (6,0);\n",
    "    \n",
    "      \\draw (6,0)\n",
    "      to[short] (2,0);\n",
    "    \n",
    "      \\draw (4,3)\n",
    "      to[I,i=$\\frac{2}{3}A$] (4,0);\n",
    "    \n",
    "      %to[I,i=$6~A$] (7,0)\n",
    "      %to[short] (2,0);\n",
    "\n",
    "    \\end{circuitikz}"
   ]
  },
  {
   "cell_type": "markdown",
   "metadata": {},
   "source": [
    "De spanning wordt bepaald door de totale stroom vermedigvuldigt met de vervangingsweerstand.\n",
    "\n",
    "De vervangingsweerstand is $R_{eq} = \\frac{48}{16} = 3\\Omega$\n",
    "\n",
    "$$U = \\left( 4-\\dfrac{2}{3} \\right) \\cdot 3 = 12-\\frac{6}{3} = \\frac{30}{3} = 10~V $$\n",
    "\n",
    "Dus de stromen zijn:\n",
    "\n",
    "\\begin{align}\n",
    "I_1 &= \\dfrac{10}{4} = 2.5~A \\\\\n",
    "I_2 &= \\dfrac{10+8}{12} = 1.5~A \n",
    "\\end{align}"
   ]
  },
  {
   "cell_type": "markdown",
   "metadata": {},
   "source": [
    "---\n",
    "## 5. Lusstromen\n",
    "---"
   ]
  },
  {
   "cell_type": "markdown",
   "metadata": {},
   "source": [
    "Eerst geschikte lussen kiezen en de polariteiten erbij vermelden:"
   ]
  },
  {
   "cell_type": "code",
   "execution_count": 13,
   "metadata": {
    "collapsed": false
   },
   "outputs": [
    {
     "data": {
      "image/png": "[encoded data removed]",
      "text/plain": [
       "<IPython.core.display.Image object>"
      ]
     },
     "execution_count": 13,
     "metadata": {},
     "output_type": "execute_result"
    }
   ],
   "source": [
    "%%circuitikz filename=methode5 dpi=175 options=american folder=circuits/6methoden/ replace=false\n",
    "\n",
    "\\begin{circuitikz}\n",
    "      \\draw (0,0)\n",
    "      to[I,i=$4A$] (0,3) \n",
    "      to[short,-*] (3,3)\n",
    "      to [R, l=$4\\Omega$] (3,0)\n",
    "      to[short] (0,0); \n",
    "      \n",
    "      \\draw (3,3) \n",
    "      to [V, v^=$8V$] (6,3)\n",
    "      to [R, l=$12\\Omega$] (6,0);\n",
    "    \n",
    "      \\draw (6,0)\n",
    "      to[short] (3,0);\n",
    "      \n",
    "      \\begin{scope}[>=latex,color=magenta,thick,text=magenta]\n",
    "      \\draw[thin, <-, >=triangle 45] (1.5,1.5)node{$I_A$}  ++(-60:.75) arc (-60:170:.75);\n",
    "        \n",
    "      \\draw[short] (2.7,2) node[label={above:$+$}] {};\n",
    "      \\draw[short] (2.7,1) node[label={below:$-$}] {};\n",
    "    \n",
    "      \\end{scope}\n",
    "      \n",
    "      \\begin{scope}[>=latex,color=cyan,thick,text=cyan]  \n",
    "      \\draw[thin, <-, >=triangle 45] (4.5,1.5)node{$I_B$}  ++(-60:.75) arc (-60:170:.75);\n",
    "    \n",
    "      \\draw[short] (3.3,2) node[label={above:$-$}] {};\n",
    "      \\draw[short] (3.3,1) node[label={below:$+$}] {};\n",
    "    \n",
    "      \\draw[short] (5.7,2) node[label={above:$+$}] {};\n",
    "      \\draw[short] (5.7,1) node[label={below:$-$}] {};\n",
    "    \n",
    "      \\end{scope}\n",
    "\n",
    "    \\end{circuitikz}"
   ]
  },
  {
   "cell_type": "markdown",
   "metadata": {},
   "source": [
    "Vergelijkingen opstellen:\n",
    "\n",
    "Lus $I_A$ geeft: $I_A=4$\n",
    "\n",
    "Lus $I_B$ geeft: $-8+ 12 I_B + 4 I_B - 4 I_A = 0$\n",
    "\n",
    "geeft $$I_B = \\dfrac{8+16}{16} = 1.5~A$$\n",
    "\n",
    "dan geldt:\n",
    "\n",
    "\\begin{align}\n",
    "    I_1 &= I_A - I_B = 4 - 1.5 = 2.5~A \\\\\n",
    "    I_2 &= I_B = 1.5~A\n",
    "\\end{align}"
   ]
  },
  {
   "cell_type": "markdown",
   "metadata": {},
   "source": [
    "---\n",
    "## 6. Weerstandsmatrix\n",
    "---"
   ]
  },
  {
   "cell_type": "markdown",
   "metadata": {},
   "source": [
    "Door middel van het toepassen van de wetten van [Kirchhoff](#2.-Wetten-van-Kirchhoff) vonden we twee vergelijkingen:\n",
    "\n",
    "\\begin{align}\n",
    "4 - I_1 - I_2 &= 0 \\\\ \n",
    "-4 I_1 - 8 + 12 I_2 &= 0\n",
    "\\end{align}\n",
    "\n",
    "Deze vergelijkingen kunnen we in een matrix vorm zetten:\n",
    "\n",
    "\\begin{equation}\n",
    "\\begin{bmatrix}\n",
    "1 & 1 \\\\\n",
    "1 & -3\n",
    "\\end{bmatrix}\n",
    "\\cdot \\begin{bmatrix}I_1 \\\\ I_2 \\end{bmatrix} = \\begin{bmatrix} 4 \\\\ -2 \\end{bmatrix}\n",
    "\\end{equation}\n",
    "\n",
    "Oplossen voor $I_1$ en $I_2$ betekend:\n",
    "\n",
    "\\begin{equation}\n",
    "\\begin{bmatrix}I_1 \\\\ I_2 \\end{bmatrix} =\n",
    "\\begin{bmatrix}\n",
    "1 & 1 \\\\\n",
    "1 & -3\n",
    "\\end{bmatrix}^{-1}\n",
    "\\cdot \\begin{bmatrix} 4 \\\\ -2 \\end{bmatrix}\n",
    "\\end{equation}\n",
    "\n",
    "Om dit op te lossen kan je verschillende algebra pakketten gebruiken (bijvoorbeeld MATLAB/Wolfram alpha/ MAPLE of zoals hier in Python):"
   ]
  },
  {
   "cell_type": "code",
   "execution_count": 17,
   "metadata": {
    "collapsed": false
   },
   "outputs": [
    {
     "name": "stdout",
     "output_type": "stream",
     "text": [
      "I_1 & I_2: \n",
      "\n",
      "[[ 2.5]\n",
      " [ 1.5]]\n"
     ]
    }
   ],
   "source": [
    "A = np.array([[1,1],[1,-3]])\n",
    "b = np.array([[4],[-2]])\n",
    "\n",
    "print('I_1 & I_2: \\n\\n' + str(np.linalg.inv(A).dot(b)))"
   ]
  },
  {
   "cell_type": "markdown",
   "metadata": {},
   "source": [
    "----"
   ]
  }
 ],
 "metadata": {
  "kernelspec": {
   "display_name": "Python 3",
   "language": "python",
   "name": "python3"
  },
  "language_info": {
   "codemirror_mode": {
    "name": "ipython",
    "version": 3
   },
   "file_extension": ".py",
   "mimetype": "text/x-python",
   "name": "python",
   "nbconvert_exporter": "python",
   "pygments_lexer": "ipython3",
   "version": "3.5.1"
  }
 },
 "nbformat": 4,
 "nbformat_minor": 0
}
