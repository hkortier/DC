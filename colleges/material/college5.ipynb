{
 "cells": [
  {
   "cell_type": "code",
   "execution_count": 30,
   "metadata": {
    "collapsed": false,
    "slideshow": {
     "slide_type": "-"
    }
   },
   "outputs": [],
   "source": [
    "%matplotlib inline"
   ]
  },
  {
   "cell_type": "code",
   "execution_count": 31,
   "metadata": {
    "collapsed": false,
    "scrolled": true
   },
   "outputs": [],
   "source": [
    "import numpy as np\n",
    "import scipy as sp\n",
    "import sympy as sym\n",
    "import matplotlib.pyplot as plt\n",
    "import sympy as smp\n",
    "import seaborn as sns\n",
    "\n",
    "from IPython.display import YouTubeVideo"
   ]
  },
  {
   "cell_type": "code",
   "execution_count": 32,
   "metadata": {
    "collapsed": false
   },
   "outputs": [],
   "source": [
    "from IPython.display import Image\n",
    "from IPython.core.display import HTML \n",
    "#Image(url= \"https://upload.wikimedia.org/wikipedia/commons/f/f9/Electron_shell_029_Copper.svg\", width=400)"
   ]
  },
  {
   "cell_type": "code",
   "execution_count": 33,
   "metadata": {
    "collapsed": false
   },
   "outputs": [
    {
     "name": "stdout",
     "output_type": "stream",
     "text": [
      "Installed circuitikz.py. To use it, type:\n",
      "  %load_ext circuitikz\n"
     ]
    },
    {
     "name": "stderr",
     "output_type": "stream",
     "text": [
      "/home/henk/anaconda3/lib/python3.5/site-packages/IPython/core/magics/extension.py:47: UserWarning: %install_ext` is deprecated, please distribute your extension(s)as a python packages.\n",
      "  \"as a python packages.\", UserWarning)\n"
     ]
    }
   ],
   "source": [
    "#import sys\n",
    "#sys.path.append('D:\\Dropbox\\python\\ipython-circuitikz')\n",
    "%install_ext circuitikz.py"
   ]
  },
  {
   "cell_type": "code",
   "execution_count": 34,
   "metadata": {
    "collapsed": true
   },
   "outputs": [],
   "source": [
    "%reload_ext circuitikz"
   ]
  },
  {
   "cell_type": "markdown",
   "metadata": {},
   "source": [
    "--------"
   ]
  },
  {
   "cell_type": "markdown",
   "metadata": {
    "slideshow": {
     "slide_type": "slide"
    }
   },
   "source": [
    "# Electrische circuits DC: Week 5"
   ]
  },
  {
   "cell_type": "markdown",
   "metadata": {},
   "source": [
    "-----"
   ]
  },
  {
   "cell_type": "markdown",
   "metadata": {},
   "source": [
    "## Inhoud:\n",
    "\n",
    "- Chapter 2: Voltage, Current, Resistance\n",
    "- Chapter 3: Ohm's Law\n",
    "- Chapter 4: Energy and Power\n",
    "- Chapter 5: Series Circuits\n",
    "- Chapter 6: Parallel Circuits\n",
    "- Chapter 7: Series-Parallel Circuits\n",
    "- Chapter 8: Circuit theorem and Conversions\n",
    "- **Chapter 9-3: Loop current Method**\n",
    "- Chatper 12: Capacitors\n",
    "- Chapter 13: Inductors"
   ]
  },
  {
   "cell_type": "markdown",
   "metadata": {},
   "source": [
    "# RECAP  LAST WEEK"
   ]
  },
  {
   "cell_type": "markdown",
   "metadata": {},
   "source": [
    "- Thévenin Norton \n",
    "- 7 opgaven..."
   ]
  },
  {
   "cell_type": "markdown",
   "metadata": {},
   "source": [
    "[Opgave 1](http://www.falstad.com/circuit/circuitjs.html?cct=$+1+0.000005+10.200277308269968+33+5+43%0Ar+192+144+304+144+0+1%0Ar+304+144+304+256+0+2%0Ar+512+144+512+256+0+3%0Av+192+256+192+144+0+0+40+4+0+0+0.5%0Ai+416+256+416+144+0+4%0Aw+304+144+416+144+0%0Aw+416+144+512+144+0%0Aw+512+256+416+256+0%0Aw+416+256+304+256+0%0Aw+304+256+192+256+0%0A)\n",
    "\n",
    "[Opgave 2](http://www.falstad.com/circuit/circuitjs.html?cct=$+1+0.000005+10.200277308269968+33+5+43%0Ar+240+144+240+240+0+1%0Ar+352+144+352+240+0+2%0Ar+240+272+240+352+0+4%0Ar+208+352+128+352+0+3%0Av+352+272+352+352+0+0+40+6+0+0+0.5%0Ai+112+144+112+240+0+3%0Aw+112+144+240+144+0%0Aw+240+144+352+144+0%0Aw+352+240+352+272+0%0Aw+240+240+240+272+0%0Aw+112+240+112+352+0%0Aw+128+352+112+352+0%0Aw+208+352+240+352+0%0Aw+240+352+352+352+0%0Aw+352+272+240+272+0%0Aw+240+240+112+240+0%0A)\n",
    "\n",
    "[Opgave 7](http://www.falstad.com/circuit/circuitjs.html?cct=$+1+0.000005+10.20027730826997+33+5+43%0Av+128+224+128+144+0+0+40+16+0+0+0.5%0Av+320+272+320+352+0+0+40+20+0+0+0.5%0Ai+224+144+224+224+0+2%0Ar+176+144+176+224+0+4%0Ar+128+272+128+352+0+3%0Ar+320+144+320+224+0+1%0Aw+128+144+176+144+0%0Aw+176+144+224+144+0%0Aw+224+144+320+144+0%0Aw+320+224+320+272+0%0Aw+224+224+176+224+0%0Aw+128+224+128+272+0%0Aw+176+272+176+224+0%0Ar+176+272+176+336+0+2%0Aw+176+336+176+352+0%0Aw+128+352+176+352+0%0Aw+176+352+320+352+0%0A)\n"
   ]
  },
  {
   "cell_type": "markdown",
   "metadata": {},
   "source": [
    "-----"
   ]
  },
  {
   "cell_type": "markdown",
   "metadata": {},
   "source": [
    "# Vandaag:\n",
    "\n",
    "- Lus stromen (Loop Currents / Mesh current / Mesh analysis)\n",
    "[Loop current method](http://www.allaboutcircuits.com/textbook/direct-current/chpt-10/mesh-current-method/)"
   ]
  },
  {
   "cell_type": "code",
   "execution_count": 35,
   "metadata": {
    "collapsed": false
   },
   "outputs": [
    {
     "data": {
      "text/html": [
       "\n",
       "        <iframe\n",
       "            width=\"400\"\n",
       "            height=\"300\"\n",
       "            src=\"https://www.youtube.com/embed/YZVHHRTMKwY?start=0&color=red&theme=light&autoplay=0\"\n",
       "            frameborder=\"0\"\n",
       "            allowfullscreen\n",
       "        ></iframe>\n",
       "        "
      ],
      "text/plain": [
       "<IPython.lib.display.YouTubeVideo at 0x7f3642dd43c8>"
      ]
     },
     "execution_count": 35,
     "metadata": {},
     "output_type": "execute_result"
    }
   ],
   "source": [
    "YouTubeVideo(\"YZVHHRTMKwY\", start=0, autoplay=0, theme=\"light\", color=\"red\")"
   ]
  },
  {
   "cell_type": "code",
   "execution_count": 36,
   "metadata": {
    "collapsed": false
   },
   "outputs": [
    {
     "data": {
      "text/html": [
       "\n",
       "        <iframe\n",
       "            width=\"400\"\n",
       "            height=\"300\"\n",
       "            src=\"https://www.youtube.com/embed/PTzJ85BLFAM?start=0&color=red&theme=light&autoplay=0\"\n",
       "            frameborder=\"0\"\n",
       "            allowfullscreen\n",
       "        ></iframe>\n",
       "        "
      ],
      "text/plain": [
       "<IPython.lib.display.YouTubeVideo at 0x7f3642dd4358>"
      ]
     },
     "execution_count": 36,
     "metadata": {},
     "output_type": "execute_result"
    }
   ],
   "source": [
    "YouTubeVideo(\"PTzJ85BLFAM\", start=0, autoplay=0, theme=\"light\", color=\"red\")"
   ]
  },
  {
   "cell_type": "markdown",
   "metadata": {},
   "source": [
    "## Stroom Lus stappenplan\n",
    "\n",
    "1. Neem het circuit ruim over op papier (altijd doen!!!).\n",
    "2. Benoem door iedere tak een stroom lus. De richting is in principe willekeurig maar… , oplossing strategisch is het handig om door **een stroombron slechts één lus te plannen in de richting van die bron en het is ook handig om door de gevraagde stroom of spanning (als het even kan) ook één lus te plannen!** Door een weerstand, stroombron of spanningsbron kan echter principieel wel meer dan één lus lopen.\n",
    "3. Plaats nu bij iedere weerstand in het circuit de polariteit van de spanning volgens de wet van Ohm (LET OP: een weerstand verbruikt dus prikt de stroom lus bij de plus in de weerstand!).\n",
    "4. Stel de lus vergelijkingen op volgens de 2e W.v.K. , er zijn evenveel vergelijkingen als er lus stromen zijn!\n",
    "5. Los de vergelijkingen op naar de gevraagde onbekende.\n",
    "6. Tot slot, verifieer jouw antwoord door middel van een controle (d.m.v. de vermogensbalans leveren=verbruik of met één van de andere circuit analyse methoden ).\n"
   ]
  },
  {
   "cell_type": "code",
   "execution_count": 37,
   "metadata": {
    "collapsed": false
   },
   "outputs": [
    {
     "data": {
      "image/png": "[encoded data removed]",
      "text/plain": [
       "<IPython.core.display.Image object>"
      ]
     },
     "execution_count": 37,
     "metadata": {},
     "output_type": "execute_result"
    }
   ],
   "source": [
    "%%circuitikz filename=circuit1 dpi=175 options=american folder=circuits/college5/ replace=true\n",
    "\n",
    "\\begin{circuitikz}\n",
    "      \\draw (0,0)\n",
    "      to[V,v=$4~V$] (0,3) \n",
    "      to[R, l^=$R_1$] (3,3)\n",
    "      to [R, l_=$R_2$, v^=$U_2$] (3,0)\n",
    "      to[short] (0,0) \n",
    "      \n",
    "      (3,0) \n",
    "      to[short] (6,0)\n",
    "      to[V, v_=$8~V$] (6,3)\n",
    "      to[R, l_=$R_3$] (3,3)\n",
    "      ;\n",
    "\\end{circuitikz}"
   ]
  },
  {
   "cell_type": "markdown",
   "metadata": {},
   "source": [
    "Bereken de spanning $U_2$ door middel van de lus methode. Er geldt: $R_1=1~\\Omega, R_2=2~\\Omega, R_3=3~\\Omega$."
   ]
  },
  {
   "cell_type": "code",
   "execution_count": 38,
   "metadata": {
    "collapsed": false
   },
   "outputs": [
    {
     "data": {
      "image/png": "[encoded data removed]",
      "text/plain": [
       "<IPython.core.display.Image object>"
      ]
     },
     "execution_count": 38,
     "metadata": {},
     "output_type": "execute_result"
    }
   ],
   "source": [
    "%%circuitikz filename=circuit1a dpi=175 options=american folder=circuits/college5/ replace=true\n",
    "\n",
    "\\begin{circuitikz}\n",
    "      \\draw (0,0)\n",
    "      to[V,v=$4~V$] (0,3) \n",
    "      to[R, l^=$R_1$] (3,3)\n",
    "      to [R, l_=$R_2$, v^=$U_2$] (3,0)\n",
    "      to[short] (0,0) \n",
    "      \n",
    "      (3,0) \n",
    "      to[short] (6,0)\n",
    "      to[V, v_=$8~V$] (6,3)\n",
    "      to[R, l_=$R_3$] (3,3)\n",
    "      ;\n",
    "    \n",
    "      \\begin{scope}[>=latex,color=magenta,thick,text=magenta]\n",
    "%\\draw[->,rounded corners=7pt]   \n",
    "%   (0.6,1.9) -- (1.6,1.9) -- \n",
    "%   (0.7,1) node[anchor=east]{$I_a$} --\n",
    "%   (1.6,0.1) -- (0.5,0.1);\n",
    "%\n",
    "\\draw[->]\n",
    "  (1.5,2.3)  arc(90:-270:1 and .8) \n",
    "  node[anchor=south east] {$I_a$};\n",
    "\n",
    "\\draw[->]\n",
    "(3,2.3) arc(90:-270:2.5 and .8) \n",
    "  node[anchor=south east] {$I_b$};\n",
    "\\end{scope}\n",
    "    \n",
    "    \n",
    "    \n",
    "\\end{circuitikz}"
   ]
  },
  {
   "cell_type": "markdown",
   "metadata": {},
   "source": [
    ">Lus A:\n",
    "\\begin{equation}\n",
    "-4+R_1 \\cdot \\left(I_a+I_b\\right) + R_2 \\cdot I_a = 0\n",
    "\\end{equation}\n",
    "\n",
    ">Lus B:\n",
    "\\begin{equation}\n",
    "-4+R_1 \\cdot \\left(I_a+I_b\\right) + R_3 \\cdot I_b + 8 = 0\n",
    "\\end{equation}\n",
    "\n",
    "Twee vergelijkingen met 2 onbekenden ($I_a$ en $I_b$), dus op te lossen .....\n",
    "Door het slim kiezen van lusstromen geldt dat de gevraagde $I_2$ gelijk is aan $I_a$.\n",
    "\n",
    "-----\n",
    "\n",
    "Je kan de vergelijkingen zo schrijven dat je de volgende generieke vorm krijgt. \n",
    "\\begin{equation}\n",
    "A \\cdot \\boldsymbol{x} = \\boldsymbol{b}\n",
    "\\end{equation}\n",
    "\n",
    "Hierbij is $A$ een matrix en $\\boldsymbol{b}$ en $\\boldsymbol{x}$ vectoren. \n",
    "We willen oplossen voor $x$. Dus kan je schrijven:\n",
    "\n",
    "\\begin{equation}\n",
    "\\boldsymbol{x} = A^{-1} \\cdot \\boldsymbol{b}\n",
    "\\end{equation}"
   ]
  },
  {
   "cell_type": "markdown",
   "metadata": {},
   "source": [
    "Dus in ons geval kunnen we de twee vergelijkingen schrijven als:\n",
    "\n",
    "\\begin{equation}\n",
    "\\begin{bmatrix}\n",
    "R_1+R_2 & R_1 \\\\\n",
    "R_1 & R_1 + R_3\n",
    "\\end{bmatrix}\n",
    "\\cdot \\begin{bmatrix}I_a \\\\ I_b \\end{bmatrix} = \\begin{bmatrix} 4 \\\\ -4 \\end{bmatrix}\n",
    "\\end{equation}\n",
    "\n",
    "Oplossen voor de stromen geeft:\n",
    "\n",
    "\n",
    "\\begin{equation}\n",
    "\\begin{bmatrix}I_a \\\\ I_b \\end{bmatrix} =\n",
    "\\begin{bmatrix}\n",
    "R_1+R_2 & R_1 \\\\\n",
    "R_1 & R_1 + R_3\n",
    "\\end{bmatrix}^{-1}\n",
    "\\cdot \\begin{bmatrix} 4 \\\\ -4 \\end{bmatrix}\n",
    "\\end{equation}\n"
   ]
  },
  {
   "cell_type": "code",
   "execution_count": 39,
   "metadata": {
    "collapsed": false
   },
   "outputs": [
    {
     "name": "stdout",
     "output_type": "stream",
     "text": [
      "[[ 1.81818182]\n",
      " [-1.45454545]]\n"
     ]
    }
   ],
   "source": [
    "R1=1\n",
    "R2=2\n",
    "R3=3\n",
    "A = np.array([[R1+R2,R1],[R1,R1+R3]])\n",
    "b = np.array([[4],[-4]])\n",
    "#Oplossingen voor Ia en Ib:\n",
    "x = np.linalg.inv(A).dot(b)\n",
    "print(x)"
   ]
  },
  {
   "cell_type": "markdown",
   "metadata": {},
   "source": [
    "Dus om $U_2$ uit te rekenen geldt er:\n",
    "\\begin{align}\n",
    "U_2 & = R_2 \\cdot I_2 \\\\\n",
    "& = R_2 \\cdot I_a\n",
    "\\end{align}\n",
    "Geeft:"
   ]
  },
  {
   "cell_type": "code",
   "execution_count": 40,
   "metadata": {
    "collapsed": false,
    "scrolled": true
   },
   "outputs": [
    {
     "name": "stdout",
     "output_type": "stream",
     "text": [
      "[ 3.63636364]\n"
     ]
    }
   ],
   "source": [
    "print(2*x[0])"
   ]
  },
  {
   "cell_type": "markdown",
   "metadata": {},
   "source": [
    "-----\n",
    "### INTERMEZZO: Grafische weergave voor het oplossen van een stelsel vergelijkingen"
   ]
  },
  {
   "cell_type": "code",
   "execution_count": 41,
   "metadata": {
    "collapsed": false
   },
   "outputs": [
    {
     "data": {
      "text/plain": [
       "<matplotlib.legend.Legend at 0x7f3642ac8358>"
      ]
     },
     "execution_count": 41,
     "metadata": {},
     "output_type": "execute_result"
    },
    {
     "data": {
      "image/png": "[encoded data removed]",
      "text/plain": [
       "<matplotlib.figure.Figure at 0x7f3642b109b0>"
      ]
     },
     "metadata": {},
     "output_type": "display_data"
    }
   ],
   "source": [
    "Ia = np.linspace(-10,10,100)\n",
    "\n",
    "Ib1 = 4-(R1+R2)*Ia/R1\n",
    "Ib2 = (-4-R1*Ia)/(R1+R3)\n",
    "\n",
    "plt.plot(Ia,Ib1,label='Ib1')\n",
    "plt.plot(Ia,Ib2,label='Ib2')\n",
    "plt.scatter(x[0],x[1],marker='o',c='r',s=100)\n",
    "plt.xlabel('Ia(A)')\n",
    "plt.ylabel('Ib (A)')\n",
    "plt.legend()"
   ]
  },
  {
   "cell_type": "markdown",
   "metadata": {},
   "source": [
    "---------"
   ]
  },
  {
   "cell_type": "markdown",
   "metadata": {},
   "source": [
    "## En nu zelf:"
   ]
  },
  {
   "cell_type": "markdown",
   "metadata": {},
   "source": [
    "---"
   ]
  },
  {
   "cell_type": "code",
   "execution_count": 1,
   "metadata": {
    "collapsed": false
   },
   "outputs": [
    {
     "name": "stderr",
     "output_type": "stream",
     "text": [
      "ERROR: Cell magic `%%circuitikz` not found.\n"
     ]
    }
   ],
   "source": [
    "%%circuitikz filename=circuit2 dpi=175 options=american folder=circuits/college5/ replace=true\n",
    "\n",
    "\\begin{circuitikz}\n",
    "      \\draw (0,0)\n",
    "      to[I,i=$2~A$] (0,3) \n",
    "      to[short] (2,3)\n",
    "      to [R, l=$R_1$] (2,0)\n",
    "      to[short] (0,0); \n",
    "      \n",
    "      \\draw (2,3) \n",
    "      to [R, l^=$R_2$, v_=$U_2$] (5,3)\n",
    "      to [R, l=$R_3$] (5,0);\n",
    "    \n",
    "      \\draw (5,3)\n",
    "      to[short] (7,3)\n",
    "      to[I,i=$3~A$] (7,0)\n",
    "      to[short] (2,0);\n",
    "\\end{circuitikz}"
   ]
  },
  {
   "cell_type": "markdown",
   "metadata": {},
   "source": [
    "Gevraagd: Bereken de spanning $U_2$ door middel van stroom lussen. Er geldt: $R_1=1~\\Omega, R_2=2~\\Omega, R_3=3~\\Omega$."
   ]
  },
  {
   "cell_type": "code",
   "execution_count": 46,
   "metadata": {
    "collapsed": false
   },
   "outputs": [
    {
     "data": {
      "image/png": "[encoded data removed]",
      "text/plain": [
       "<IPython.core.display.Image object>"
      ]
     },
     "execution_count": 46,
     "metadata": {},
     "output_type": "execute_result"
    }
   ],
   "source": [
    "%%circuitikz filename=circuit1 dpi=175 options=american folder=circuits/college5/ replace=true\n",
    "\\begin{circuitikz}\n",
    "\n",
    "\\draw\n",
    "  (0,0) to[V, l=$U_{in}$] (0,6) -- (6,6)\n",
    "  to[R,l^=$R_1$,-*] (3,3)\n",
    "  to[R,l^=$R_3$,-*] (6,0) -- (0,0);\n",
    "\n",
    "\\draw \n",
    "  (6,6) to[R,l=$R_2$,-*] (9,3)\n",
    "  to[R=$R_4$, *-*] (6,0);\n",
    "\n",
    "\\draw \n",
    "  (3,3) to[R=$R_5$,v=$U_{AB}$,-*] (9,3);\n",
    "\n",
    "%\\begin{scope}[>=latex,color=magenta,thick,text=black]\n",
    "%\\draw[->,rounded corners=7pt]   \n",
    "%   (0.6,1.9) -- (1.6,1.9) -- \n",
    "%   (0.7,1) node[anchor=east]{$I_a$} --\n",
    "%   (1.6,0.1) -- (0.5,0.1);\n",
    "%\n",
    "%\\draw[->]\n",
    "%  (6,4)  arc(220:-140:0.6 and 0.4) \n",
    "%  node[pos=0.3,east] {$I_b$};\n",
    "%\n",
    "%\\draw[<-]\n",
    "%  (1.7,0.8) arc(-220:50:0.4 and 0.15) \n",
    "%  node[midway,above] {$I_c$};\n",
    "%\\end{scope}\n",
    "\n",
    "%http://tex.stackexchange.com/questions/166334/diagonal-resistor-label-font-size-and-curved-arrows\n",
    "    \n",
    "\\end{circuitikz}"
   ]
  },
  {
   "cell_type": "markdown",
   "metadata": {},
   "source": [
    "Bereken de spanning over $R_5$ door middel van lusstromen. Er geldt: $U_{in}=10V, R_1=1~\\Omega,  R_2=2~\\Omega, R_3=3~\\Omega,  R_4=4~\\Omega, R_5=5~\\Omega$."
   ]
  },
  {
   "cell_type": "markdown",
   "metadata": {},
   "source": [
    "-----"
   ]
  },
  {
   "cell_type": "markdown",
   "metadata": {
    "collapsed": true
   },
   "source": [
    "## Extra links:\n",
    "\n",
    "- [Wikiversity: Electric Circuit](https://en.wikiversity.org/wiki/Electric_Circuit_Analysis)\n",
    "- [Pearson Floyd](https://media.pearsoncmg.com/bc/abp/floyd/)"
   ]
  },
  {
   "cell_type": "markdown",
   "metadata": {},
   "source": [
    "--------------------"
   ]
  },
  {
   "cell_type": "markdown",
   "metadata": {
    "collapsed": true
   },
   "source": [
    "# $SUCCES = (Voorbereiding \\cdot Geluk)^{Motivatie}$"
   ]
  }
 ],
 "metadata": {
  "kernelspec": {
   "display_name": "Python 3",
   "language": "python",
   "name": "python3"
  },
  "language_info": {
   "codemirror_mode": {
    "name": "ipython",
    "version": 3
   },
   "file_extension": ".py",
   "mimetype": "text/x-python",
   "name": "python",
   "nbconvert_exporter": "python",
   "pygments_lexer": "ipython3",
   "version": "3.5.1"
  }
 },
 "nbformat": 4,
 "nbformat_minor": 0
}
