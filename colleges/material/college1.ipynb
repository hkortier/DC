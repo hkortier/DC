{
 "cells": [
  {
   "cell_type": "code",
   "execution_count": 1,
   "metadata": {
    "collapsed": false
   },
   "outputs": [],
   "source": [
    "%matplotlib inline"
   ]
  },
  {
   "cell_type": "code",
   "execution_count": 2,
   "metadata": {
    "collapsed": false,
    "scrolled": true
   },
   "outputs": [],
   "source": [
    "import numpy as np\n",
    "import scipy as sp\n",
    "import sympy as sym\n",
    "import matplotlib.pyplot as plt\n",
    "import sympy as smp\n",
    "import seaborn as sns"
   ]
  },
  {
   "cell_type": "code",
   "execution_count": 3,
   "metadata": {
    "collapsed": false
   },
   "outputs": [],
   "source": [
    "from IPython.display import Image\n",
    "from IPython.core.display import HTML \n",
    "#Image(url= \"https://upload.wikimedia.org/wikipedia/commons/f/f9/Electron_shell_029_Copper.svg\", width=400)"
   ]
  },
  {
   "cell_type": "code",
   "execution_count": 4,
   "metadata": {
    "collapsed": false
   },
   "outputs": [
    {
     "name": "stdout",
     "output_type": "stream",
     "text": [
      "Installed circuitikz.py. To use it, type:\n",
      "  %load_ext circuitikz\n"
     ]
    },
    {
     "name": "stderr",
     "output_type": "stream",
     "text": [
      "C:\\Users\\saxion\\Anaconda3\\lib\\site-packages\\IPython\\core\\magics\\extension.py:47: UserWarning: %install_ext` is deprecated, please distribute your extension(s)as a python packages.\n",
      "  \"as a python packages.\", UserWarning)\n"
     ]
    }
   ],
   "source": [
    "#import sys\n",
    "#sys.path.append('D:\\Dropbox\\python\\ipython-circuitikz')\n",
    "%install_ext circuitikz.py"
   ]
  },
  {
   "cell_type": "code",
   "execution_count": 5,
   "metadata": {
    "collapsed": false
   },
   "outputs": [],
   "source": [
    "%reload_ext circuitikz"
   ]
  },
  {
   "cell_type": "markdown",
   "metadata": {},
   "source": [
    "--------"
   ]
  },
  {
   "cell_type": "markdown",
   "metadata": {
    "slideshow": {
     "slide_type": "-"
    }
   },
   "source": [
    "# Electrische circuits DC: Week 1"
   ]
  },
  {
   "cell_type": "markdown",
   "metadata": {},
   "source": [
    "----------------"
   ]
  },
  {
   "cell_type": "markdown",
   "metadata": {
    "slideshow": {
     "slide_type": "-"
    }
   },
   "source": [
    "Raadpleeg blackboard voor informatie \n",
    "[https://leren.saxion.nl](https://leren.saxion.nl/webapps/portal/execute/tabs/tabAction?tabId=_61640_1&tab_tab_group_id=_898_1) :\n",
    "- moduleomschrijving\n",
    "- presentatiemateriaal\n",
    "\n",
    "Materiaal:\n",
    "- Principles of electric circuits (conventional current version) Floyd (9th edition)\n",
    "\n",
    "Toetsing:\n",
    "- oefentoets halverwege\n",
    "- schriftelijke eindtoets, zie de module omschrijving voor de inhoud\n",
    "\n",
    "Docenten:\n",
    "- Henk Kortier (hko09) h.g.kortier@saxion.nl\n",
    "- Erwin Bouwmeester (bue) e.bouwmeester@saxion.nl\n",
    "- Everaerd Aendekerk (eae01) e.j.m.aendekerk@saxion.nl\n",
    "\n",
    "Docentenwerkplek:\n",
    "- W2.07\n",
    "- Inloopuur hko09 elke maandag (12.30 - 13.15) zie rooster voor locatie"
   ]
  },
  {
   "cell_type": "markdown",
   "metadata": {},
   "source": [
    "## Inhoud:\n",
    "\n",
    "- Chapter 2: Voltage, Current, Resistance\n",
    "- Chapter 3: Ohm's Law\n",
    "- Chapter 4: Energy and Power\n",
    "- Chapter 5: Series Circuits\n",
    "- Chapter 6: Parallel Circuits\n",
    "- Chapter 7: Series-Parallel Circuits\n",
    "- Chapter 8: Circuit theorem and Conversions\n",
    "- Chatper 12: Capacitors\n",
    "- Chapter 13: Inductors"
   ]
  },
  {
   "cell_type": "markdown",
   "metadata": {},
   "source": [
    "# Chapter 2: Voltage, Current and Resistance (p. 22)"
   ]
  },
  {
   "cell_type": "markdown",
   "metadata": {},
   "source": [
    "opgaven: 3,6,9,13,16,20,21,23,25,30,32,33,39,42,45,46"
   ]
  },
  {
   "cell_type": "markdown",
   "metadata": {},
   "source": [
    "## 2.2: Electric charge (p. 27)\n",
    "\n",
    "[Sparkfun: What is electricity](https://learn.sparkfun.com/tutorials/what-is-electricity)"
   ]
  },
  {
   "cell_type": "markdown",
   "metadata": {},
   "source": [
    "1 elektron heeft de (elementaire) lading van:\n",
    "\n",
    "\\begin{equation}\n",
    "q = 1.6\\cdot10^{-19} C\n",
    "\\end{equation}"
   ]
  },
  {
   "cell_type": "markdown",
   "metadata": {},
   "source": [
    "![Copper atom](https://upload.wikimedia.org/wikipedia/commons/f/f9/Electron_shell_029_Copper.svg)"
   ]
  },
  {
   "cell_type": "code",
   "execution_count": 6,
   "metadata": {
    "collapsed": false
   },
   "outputs": [
    {
     "name": "stdout",
     "output_type": "stream",
     "text": [
      "6.25e+18\n"
     ]
    }
   ],
   "source": [
    "# Het aantal electronen benodigd voor 1C lading is dus:\n",
    "\n",
    "q = 1.6e-19 #q = elementaire lading soms wordt daar e voor gebruikt\n",
    "Q = 1/q  #Q = totale lading\n",
    "print(Q)"
   ]
  },
  {
   "cell_type": "markdown",
   "metadata": {},
   "source": [
    "## 2.3: Voltage (NL: SPANNING (V))\n",
    "[Sparkfun: Voltage, current, resistance](https://learn.sparkfun.com/tutorials/voltage-current-resistance-and-ohms-law/all)"
   ]
  },
  {
   "cell_type": "markdown",
   "metadata": {},
   "source": [
    "$W$ is de energie (arbeid) die nodig is om 1 Coulomb lading ($Q$) over 1 Volt potentiaal verschil (ook wel spanning genoemd ($U$)) te verplaatsen. \n",
    "Anders gezegd, het electrisch potentiaal (voltage) is het verschil in energie (W) per ladingshoeveelheid (Q):\n",
    "\n",
    "$V~[V] = \\dfrac{W~[J]}{Q~[C]}$"
   ]
  },
  {
   "cell_type": "markdown",
   "metadata": {},
   "source": [
    "## 2.4: Current (NL: STROOM (A)) "
   ]
  },
  {
   "cell_type": "markdown",
   "metadata": {},
   "source": [
    "Stoom (I) = Lading (Q) per Tijd (t) oftewel:\n",
    "\n",
    "$I~[A] = \\dfrac{\\delta Q~[C]}{\\delta t~[s]}$"
   ]
  },
  {
   "cell_type": "markdown",
   "metadata": {},
   "source": [
    "## 2.5: Resistance "
   ]
  },
  {
   "cell_type": "markdown",
   "metadata": {},
   "source": [
    "Geleiding is omgekeerd evenredig met de weerstand:\n",
    "\n",
    "$G~[S]=\\dfrac{1}{R~[\\Omega]}$"
   ]
  },
  {
   "cell_type": "markdown",
   "metadata": {},
   "source": [
    "## 2.6 The electric circuit "
   ]
  },
  {
   "cell_type": "markdown",
   "metadata": {},
   "source": [
    "## Voltage source conventions:"
   ]
  },
  {
   "cell_type": "code",
   "execution_count": 7,
   "metadata": {
    "collapsed": false
   },
   "outputs": [
    {
     "data": {
      "image/png": "[encoded data removed]",
      "text/plain": [
       "<IPython.core.display.Image object>"
      ]
     },
     "execution_count": 7,
     "metadata": {},
     "output_type": "execute_result"
    }
   ],
   "source": [
    "%%circuitikz filename=circuit1AM dpi=200 options=american folder=circuits/college1/ replace=false\n",
    "\n",
    "\\begin{circuitikz}\n",
    "      \\draw (0,0)\n",
    "      to[V,v=$U_1$] (0,3) \n",
    "      to[short] (3,3)\n",
    "      to [R, l=$R_1$, v=$U_{R_1}$, i = $I_1$] (3,0)\n",
    "      to[short] (0,0) \n",
    "\\end{circuitikz}"
   ]
  },
  {
   "cell_type": "code",
   "execution_count": 8,
   "metadata": {
    "collapsed": false,
    "scrolled": true
   },
   "outputs": [
    {
     "data": {
      "image/png": "[encoded data removed]",
      "text/plain": [
       "<IPython.core.display.Image object>"
      ]
     },
     "execution_count": 8,
     "metadata": {},
     "output_type": "execute_result"
    }
   ],
   "source": [
    "%%circuitikz filename=circuit1EU dpi=200 options=european folder=circuits/college1/ replace=false\n",
    "\n",
    "\\begin{circuitikz}\n",
    "      \\draw (0,0)\n",
    "      to[V,v=$U_1$] (0,3) \n",
    "      to[short] (3,3)\n",
    "      to [R, l=$R_1$, v=$U_{R_1}$, i = $I_1$] (3,0)\n",
    "      to[short] (0,0) \n",
    "\\end{circuitikz}"
   ]
  },
  {
   "cell_type": "markdown",
   "metadata": {},
   "source": [
    "## Current source conventions:"
   ]
  },
  {
   "cell_type": "code",
   "execution_count": 9,
   "metadata": {
    "collapsed": false,
    "scrolled": true
   },
   "outputs": [
    {
     "data": {
      "image/png": "[encoded data removed]",
      "text/plain": [
       "<IPython.core.display.Image object>"
      ]
     },
     "execution_count": 9,
     "metadata": {},
     "output_type": "execute_result"
    }
   ],
   "source": [
    "%%circuitikz filename=circuit1bAM dpi=200 options=american folder=circuits/college1/ replace=false\n",
    "\n",
    "\\begin{circuitikz}\n",
    "      \\draw (0,0)\n",
    "      to[I,i=$I_1$] (0,3) \n",
    "      to[short] (3,3)\n",
    "      to [R, l=$R_1$, v=$U_{R_1}$, i = $I_1$] (3,0)\n",
    "      to[short] (0,0) \n",
    "\\end{circuitikz}"
   ]
  },
  {
   "cell_type": "code",
   "execution_count": 10,
   "metadata": {
    "collapsed": false,
    "scrolled": true
   },
   "outputs": [
    {
     "data": {
      "image/png": "[encoded data removed]",
      "text/plain": [
       "<IPython.core.display.Image object>"
      ]
     },
     "execution_count": 10,
     "metadata": {},
     "output_type": "execute_result"
    }
   ],
   "source": [
    "%%circuitikz filename=circuit1bEU dpi=200 options=european folder=circuits/college1/ replace=false\n",
    "\n",
    "\\begin{circuitikz}\n",
    "      \\draw (0,0)\n",
    "      to[I,I=$I_1$] (0,3) \n",
    "      to[short] (3,3)\n",
    "      to [R, l=$R_1$, v=$U_{R_1}$, i = $I_1$] (3,0)\n",
    "      to[short] (0,0) \n",
    "\\end{circuitikz}"
   ]
  },
  {
   "cell_type": "markdown",
   "metadata": {},
   "source": [
    "# Chapter 3: Ohm's Law"
   ]
  },
  {
   "cell_type": "markdown",
   "metadata": {},
   "source": [
    "opgaven: 5,6,7,10,18,19,24,28,33,39"
   ]
  },
  {
   "cell_type": "markdown",
   "metadata": {},
   "source": [
    "### Ohm's law:\n",
    "\n",
    "$\n",
    "U = I \\cdot R ,\\hspace{1cm} I = \\dfrac{U}{R} ,\\hspace{1cm} R = \\dfrac{U}{I}\n",
    "$"
   ]
  },
  {
   "cell_type": "markdown",
   "metadata": {},
   "source": [
    "![VIRP](https://upload.wikimedia.org/wikipedia/commons/f/fb/Ohm%27s_law_triangle.svg)"
   ]
  },
  {
   "cell_type": "markdown",
   "metadata": {},
   "source": [
    "### Power:\n",
    "\n",
    "$\n",
    "P=U \\cdot I,\\hspace{1cm} P = \\dfrac{U^2}{R} ,\\hspace{1cm} P = I^2 \\cdot R\n",
    "$"
   ]
  },
  {
   "cell_type": "markdown",
   "metadata": {},
   "source": [
    "### [Passive Sign Convention (PSC)](https://en.wikipedia.org/wiki/Passive_sign_convention)\n",
    "\n",
    "\n",
    "- De stroom komt op de positieve terminal een element binnen. Het element verbruikt vermogen.\n",
    "- De stroom komt op de negatieve terminal een element binnen. Het element levert vermogen."
   ]
  },
  {
   "cell_type": "markdown",
   "metadata": {},
   "source": [
    "Electric load (verbruikt/dissipeert) | Electric source (levert)\n",
    "------------ | -------------\n",
    "<img src=\"https://upload.wikimedia.org/wikipedia/commons/2/2f/Electric_load_animation.gif\"> | <img src=\"https://upload.wikimedia.org/wikipedia/commons/9/98/Electric_power_source_animation.gif\">\n"
   ]
  },
  {
   "cell_type": "code",
   "execution_count": 11,
   "metadata": {
    "collapsed": false
   },
   "outputs": [
    {
     "data": {
      "image/png": "[encoded data removed]",
      "text/plain": [
       "<matplotlib.figure.Figure at 0xac104a8>"
      ]
     },
     "metadata": {},
     "output_type": "display_data"
    }
   ],
   "source": [
    "#Voorbeeld spanning-stroom curve van een weerstand\n",
    "\n",
    "def plotUICurve(R=1):\n",
    "    if R == 0:\n",
    "        R = 1e-10\n",
    "    U = np.linspace(-10,10,100)\n",
    "    I = U/R\n",
    "    plt.plot(U,I,'-')\n",
    "    plt.xlabel('U (V)')\n",
    "    plt.ylabel('I (A)')\n",
    "    plt.axis('equal')\n",
    "    plt.ylim((-10,10))\n",
    "    plt.ylim((-10,10))\n",
    "\n",
    "for i in [0.1,1,10]:\n",
    "    plotUICurve(R=i)\n",
    "#[plotUICurve(i) for i in np.arange(1,20,0.1)]\n",
    "#interact(plotUICurve,R=1)"
   ]
  },
  {
   "cell_type": "code",
   "execution_count": 12,
   "metadata": {
    "collapsed": false
   },
   "outputs": [
    {
     "data": {
      "image/png": "[encoded data removed]",
      "text/plain": [
       "<IPython.core.display.Image object>"
      ]
     },
     "execution_count": 12,
     "metadata": {},
     "output_type": "execute_result"
    }
   ],
   "source": [
    "%%circuitikz filename=circuit2 dpi=200 options=american folder=circuits/college1/ replace=false\n",
    "\n",
    "\\begin{circuitikz}\n",
    "    \\draw (0,0)\n",
    "    to[V,v=$12~V$] (0,3) \n",
    "    to[R, l = $R_1$] (3,3)\n",
    "        %      to[R, l=$R_1$, v=$U_{R_1}$, i = $I_1$] (3,3) \n",
    "      (0,0)\n",
    "      to[short] (3,0)\n",
    "      to[V,v=$10~V$] (3,3)\n",
    "    ;\n",
    "\\end{circuitikz}"
   ]
  },
  {
   "cell_type": "code",
   "execution_count": 17,
   "metadata": {
    "collapsed": false,
    "scrolled": true
   },
   "outputs": [
    {
     "data": {
      "image/png": "[encoded data removed]",
      "text/plain": [
       "<IPython.core.display.Image object>"
      ]
     },
     "execution_count": 17,
     "metadata": {},
     "output_type": "execute_result"
    }
   ],
   "source": [
    "%%circuitikz filename=circuit4 dpi=175 options=american folder=circuits/college1/ replace=false\n",
    "\n",
    "\\begin{circuitikz}\n",
    "      \\draw (0,0)\n",
    "      to[V,v=$U_1$] (0,3) \n",
    "      to[R, l^=$R_1$, v_=$U_{R_1}$, i=$I_1$] (3,3)\n",
    "      to [R, l=$R_2$, v=$U_{R_2}$, i=$I_2$] (3,0)\n",
    "      to[short] (0,0) \n",
    "      \n",
    "      (3,0) \n",
    "      to[short] (6,0)\n",
    "      to[V, v=$U_2$] (6,3)\n",
    "      to[R, l_=$R_3$, v^=$U_{R_3}$, i_=$I_3$] (3,3)\n",
    "      ;\n",
    "\\end{circuitikz}"
   ]
  },
  {
   "cell_type": "markdown",
   "metadata": {
    "collapsed": true
   },
   "source": [
    "Neem aan dat:\n",
    "- $U_1$ = $8~V$\n",
    "- $U_2$ = $6~V$\n",
    "- $R_1$ = $1~\\Omega$\n",
    "- $R_2$ = $2~\\Omega$\n",
    "- $R_3$ = $3~\\Omega$\n",
    "\n",
    "1. Bereken de stroom $I_2$\n",
    "2. Bereken de spanning $U_{R_3}$"
   ]
  },
  {
   "cell_type": "markdown",
   "metadata": {},
   "source": [
    "# METHODE 1: Wet van Ohm methode (BOB)"
   ]
  },
  {
   "cell_type": "markdown",
   "metadata": {},
   "source": [
    "Zowel bron $U_1$ als bron $U_2$ zorgen dat er een stroom gaan lopen ($I_1$ en $I_3$).\n",
    "Deze komen op het knooppunt samen wat resulteert in een gezamenlijke stroom $I_2$.\n",
    "Volgende de definitie volgt dan:\n",
    "\n",
    "\\begin{equation}\n",
    "I_2 = I_1 + I_3\n",
    "\\end{equation}\n",
    "\n",
    "De individuele stromen kan je berekenen via de wet van Ohm:\n",
    "\n",
    "\\begin{aligned}\n",
    "I_1 & = \\dfrac{U_1-U_{R_2}}{R_1} \\\\\n",
    "I_2 & = \\dfrac{U_{R_2}}{R_2} \\\\\n",
    "I_3 & = \\dfrac{U_2-U_{R_2}}{R_3}\n",
    "\\end{aligned}\n",
    "\n"
   ]
  },
  {
   "cell_type": "code",
   "execution_count": 18,
   "metadata": {
    "collapsed": false
   },
   "outputs": [
    {
     "data": {
      "image/png": "[encoded data removed]",
      "text/plain": [
       "<IPython.core.display.Image object>"
      ]
     },
     "execution_count": 18,
     "metadata": {},
     "output_type": "execute_result"
    }
   ],
   "source": [
    "%%circuitikz filename=circuit5 dpi=175 options=american folder=circuits/college1/ replace=false\n",
    "\n",
    "\\begin{circuitikz}\n",
    "      \\draw (0,0)\n",
    "      to[I,i=$I_A$] (0,3) \n",
    "      to[short] (3,3)\n",
    "      to [R, l=$R_1$, v=$U_{R_1}$, i=$I_1$] (3,0)\n",
    "      to[short] (0,0) \n",
    "      \n",
    "      (3,3) \n",
    "      to[V,v=$U_1$] (6,3)\n",
    "      to[R, l_=$R_2$, v^=$U_{R_2}$, i_=$I_2$] (6,0)\n",
    "      to[short] (3,0)\n",
    "      ;\n",
    "\\end{circuitikz}"
   ]
  },
  {
   "cell_type": "markdown",
   "metadata": {
    "collapsed": true
   },
   "source": [
    "Neem aan dat:\n",
    "- $U_1$ = $8~V$\n",
    "- $I_A$ = $6~A$\n",
    "- $R_1$ = 4 $\\Omega$\n",
    "- $R_2$ = 12 $\\Omega$\n",
    "\n",
    "1. Bereken de stroom $I_1$ en $I_2$"
   ]
  },
  {
   "cell_type": "markdown",
   "metadata": {
    "collapsed": true
   },
   "source": [
    "## Extra links:\n",
    "\n",
    "- [Wikiversity: Electric Circuit](https://en.wikiversity.org/wiki/Electric_Circuit_Analysis)\n",
    "- [Pearson Floyd](https://media.pearsoncmg.com/bc/abp/floyd/)"
   ]
  },
  {
   "cell_type": "markdown",
   "metadata": {},
   "source": [
    "--------------------"
   ]
  },
  {
   "cell_type": "markdown",
   "metadata": {
    "collapsed": true
   },
   "source": [
    "# $SUCCES = (Voorbereiding \\cdot Geluk)^{Motivatie}$"
   ]
  }
 ],
 "metadata": {
  "kernelspec": {
   "display_name": "Python 3",
   "language": "python",
   "name": "python3"
  },
  "language_info": {
   "codemirror_mode": {
    "name": "ipython",
    "version": 3
   },
   "file_extension": ".py",
   "mimetype": "text/x-python",
   "name": "python",
   "nbconvert_exporter": "python",
   "pygments_lexer": "ipython3",
   "version": "3.4.3"
  }
 },
 "nbformat": 4,
 "nbformat_minor": 0
}
