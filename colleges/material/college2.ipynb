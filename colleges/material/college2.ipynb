{
 "cells": [
  {
   "cell_type": "code",
   "execution_count": 22,
   "metadata": {
    "collapsed": false,
    "slideshow": {
     "slide_type": "-"
    }
   },
   "outputs": [],
   "source": [
    "%matplotlib inline"
   ]
  },
  {
   "cell_type": "code",
   "execution_count": 23,
   "metadata": {
    "collapsed": false,
    "scrolled": true
   },
   "outputs": [],
   "source": [
    "import numpy as np\n",
    "import scipy as sp\n",
    "import sympy as sym\n",
    "import matplotlib.pyplot as plt\n",
    "import sympy as smp\n",
    "import seaborn as sns\n",
    "\n",
    "from IPython.display import YouTubeVideo"
   ]
  },
  {
   "cell_type": "code",
   "execution_count": 24,
   "metadata": {
    "collapsed": false
   },
   "outputs": [],
   "source": [
    "from IPython.display import Image\n",
    "from IPython.core.display import HTML \n",
    "#Image(url= \"https://upload.wikimedia.org/wikipedia/commons/f/f9/Electron_shell_029_Copper.svg\", width=400)"
   ]
  },
  {
   "cell_type": "code",
   "execution_count": 25,
   "metadata": {
    "collapsed": false
   },
   "outputs": [
    {
     "name": "stdout",
     "output_type": "stream",
     "text": [
      "Installed circuitikz.py. To use it, type:\n",
      "  %load_ext circuitikz\n"
     ]
    },
    {
     "name": "stderr",
     "output_type": "stream",
     "text": [
      "/home/henk/anaconda3/lib/python3.5/site-packages/IPython/core/magics/extension.py:47: UserWarning: %install_ext` is deprecated, please distribute your extension(s)as a python packages.\n",
      "  \"as a python packages.\", UserWarning)\n"
     ]
    }
   ],
   "source": [
    "#import sys\n",
    "#sys.path.append('D:\\Dropbox\\python\\ipython-circuitikz')\n",
    "%install_ext circuitikz.py"
   ]
  },
  {
   "cell_type": "code",
   "execution_count": 26,
   "metadata": {
    "collapsed": true
   },
   "outputs": [],
   "source": [
    "%reload_ext circuitikz"
   ]
  },
  {
   "cell_type": "markdown",
   "metadata": {},
   "source": [
    "--------"
   ]
  },
  {
   "cell_type": "markdown",
   "metadata": {
    "slideshow": {
     "slide_type": "slide"
    }
   },
   "source": [
    "# Electrische circuits DC: Week 2"
   ]
  },
  {
   "cell_type": "markdown",
   "metadata": {},
   "source": [
    "-----"
   ]
  },
  {
   "cell_type": "markdown",
   "metadata": {},
   "source": [
    "## Inhoud:\n",
    "\n",
    "- Chapter 2: Voltage, Current, Resistance\n",
    "- Chapter 3: Ohm's Law\n",
    "- Chapter 4: Energy and Power\n",
    "- Chapter 5: Series Circuits\n",
    "- Chapter 6: Parallel Circuits\n",
    "- Chapter 7: Series-Parallel Circuits\n",
    "- Chapter 8: Circuit theorem and Conversions\n",
    "- Chatper 12: Capacitors\n",
    "- Chapter 13: Inductors"
   ]
  },
  {
   "cell_type": "markdown",
   "metadata": {},
   "source": [
    "# RECAP  LAST WEEK"
   ]
  },
  {
   "cell_type": "markdown",
   "metadata": {},
   "source": [
    "- Opbouw atoom (koper atoom)\n",
    "- Geleiding in een atoomrooster\n",
    "- Lading, Stroom, Spanning\n",
    "- Wet van Ohm\n",
    "- Circuit opbouw \n",
    "    - elementen (spanningsbron, stroombron, weerstand)\n",
    "    - polariteit\n",
    "    - stroomrichtingen\n",
    "- Rekenen aan een circuit via de wet van Ohm (bekende/onbekende methode)\n",
    "    - oplossen van een onbekende"
   ]
  },
  {
   "cell_type": "markdown",
   "metadata": {},
   "source": [
    "## Circuit vorige week"
   ]
  },
  {
   "cell_type": "code",
   "execution_count": 6,
   "metadata": {
    "collapsed": false
   },
   "outputs": [
    {
     "data": {
      "image/png": "[encoded data removed]",
      "text/plain": [
       "<IPython.core.display.Image object>"
      ]
     },
     "execution_count": 6,
     "metadata": {},
     "output_type": "execute_result"
    }
   ],
   "source": [
    "%%circuitikz filename=circuit4 dpi=175 options=american folder=circuits/college1/ replace=false\n",
    "\n",
    "\\begin{circuitikz}\n",
    "      \\draw (0,0)\n",
    "      to[V,v=$U_1$] (0,3) \n",
    "      to[R, l^=$R_1$, v_=$U_{R_1}$, i=$I_1$] (3,3)\n",
    "      to [R, l=$R_2$, v=$U_{R_2}$, i=$I_2$] (3,0)\n",
    "      to[short] (0,0) \n",
    "      \n",
    "      (3,0) \n",
    "      to[short] (6,0)\n",
    "      to[V, v=$U_2$] (6,3)\n",
    "      to[R, l_=$R_3$, v^=$U_{R_3}$, i_=$I_3$] (3,3)\n",
    "      ;\n",
    "\\end{circuitikz}"
   ]
  },
  {
   "cell_type": "markdown",
   "metadata": {},
   "source": [
    "Neem aan dat:\n",
    "- $U_1$ = $4~V$\n",
    "- $U_2$ = $12~V$\n",
    "- $R_1$ = $8~\\Omega$\n",
    "- $R_2$ = $4~\\Omega$\n",
    "- $R_3$ = $5~\\Omega$\n",
    "\n",
    "1. Bereken de stroom $I_2$: -> $I_2 = 1+\\frac{6}{23}~[A]$\n",
    "2. Bereken de spanning $U_{R_3}$ -> $U_{R_3} = 5+\\frac{1}{23}~[V]$"
   ]
  },
  {
   "cell_type": "markdown",
   "metadata": {},
   "source": [
    "## TOETS\n",
    "\n",
    "Graag inloggen via socrative, room = HKO09\n",
    "\n",
    "[Socrative](www.socrative.org)"
   ]
  },
  {
   "cell_type": "markdown",
   "metadata": {},
   "source": [
    "-----"
   ]
  },
  {
   "cell_type": "markdown",
   "metadata": {},
   "source": [
    "# Vandaag:\n",
    "\n",
    "- Hoofdstuk 4, 5 en 6\n",
    "\n",
    "- Weerstanden\n",
    "- Energie en vermogen \n",
    "- Serie en Parallel schakelingen\n",
    "- Wetten van Kirchhoff"
   ]
  },
  {
   "cell_type": "markdown",
   "metadata": {},
   "source": [
    "-----"
   ]
  },
  {
   "cell_type": "markdown",
   "metadata": {},
   "source": [
    "### Weerstandswaarden (de E reeks)\n",
    "\n",
    "Logaritmische schaal:\n",
    "\n",
    "- E6: 10-15-22-33-47-68 (20% toleratie)\n",
    "- E12: 10-12-15-18-22-27-33-39-47-56-68-82 (10% toleratie)\n",
    "- E96: ...\n",
    "\n",
    "\n",
    "Wordt bepaals in stappen (i) van: n^d machts wordtel uit 10:"
   ]
  },
  {
   "cell_type": "code",
   "execution_count": 7,
   "metadata": {
    "collapsed": false
   },
   "outputs": [
    {
     "name": "stdout",
     "output_type": "stream",
     "text": [
      "0:  1.000000\n",
      "1:  1.211528\n",
      "2:  1.467799\n",
      "3:  1.778279\n",
      "4:  2.154435\n",
      "5:  2.610157\n",
      "6:  3.162278\n",
      "7:  3.831187\n",
      "8:  4.641589\n",
      "9:  5.623413\n",
      "10:  6.812921\n",
      "11:  8.254042\n",
      "12:  10.000000\n"
     ]
    },
    {
     "data": {
      "image/png": "[encoded data removed]",
      "text/plain": [
       "<matplotlib.figure.Figure at 0x1106f5828>"
      ]
     },
     "metadata": {},
     "output_type": "display_data"
    }
   ],
   "source": [
    "# Voorbeeld E12: 12e machts wortel uit 10\n",
    "\n",
    "N = np.arange(13)\n",
    "E12 = np.zeros(13)\n",
    "for i in N:\n",
    "    E12[i] = 10**(i/12)\n",
    "    print('{0:1d}:  {1:2f}'.format(i,E12[i]))\n",
    "     \n",
    "plt.plot(N,E12,'b*')\n",
    "plt.errorbar(N,E12,yerr=0.1*E12,fmt='o', ecolor='g')\n",
    "plt.show()"
   ]
  },
  {
   "cell_type": "markdown",
   "metadata": {},
   "source": [
    "# Chapter 4: Energy and Power (p. 106)"
   ]
  },
  {
   "cell_type": "markdown",
   "metadata": {},
   "source": [
    "opgaven: 3,4, 5, 7, 10, 12, 15, 19, 23, 30, 31, 35, 37, 39"
   ]
  },
  {
   "cell_type": "markdown",
   "metadata": {},
   "source": [
    "## 4.1 Energy and power (p. 27)\n",
    "\n",
    "[Sparkfun: Electric power](https://learn.sparkfun.com/tutorials/electric-power)"
   ]
  },
  {
   "cell_type": "markdown",
   "metadata": {},
   "source": [
    "### Power:\n",
    "Vermogen is gedefineerd als de verandering in Energie [Joule] in de Tijd [Seconde]:\n",
    "\n",
    "$$\n",
    "P[W] = \\dfrac{d E~[J]}{d t~[s]}\n",
    "$$\n",
    "\n",
    "\n",
    "In een electrisch circuit geldt:\n",
    "\n",
    "$$\n",
    "P [W]=U [V] \\cdot I [A],\\hspace{1cm} P = \\dfrac{U^2}{R} ,\\hspace{1cm} P = I^2 \\cdot R\n",
    "$$"
   ]
  },
  {
   "cell_type": "markdown",
   "metadata": {},
   "source": [
    "## 4.2 - 4.5 Power/ Energy in circuits (p. 106)"
   ]
  },
  {
   "cell_type": "markdown",
   "metadata": {},
   "source": [
    "Energie uitgedrukt in Joules [J] of kiloWattuur [kWh]:\n",
    "\n",
    "Zie met behulp van de vermogensformule, dat in het geval van een constant vermogen (d.w.z geen verandering over tijdsduur T) geldt: \n",
    "\n",
    "$$\n",
    "E = \\int^T_0{P \\cdot dt}\n",
    "$$\n",
    "\n",
    "$$\n",
    "E~[J] = P~[W] \\cdot T~[s]\n",
    "$$\n",
    "\n",
    "\n",
    "Dus de eenheid van energie (Joule~[J]) komt overeen met $W \\cdot s$. \n",
    "\n",
    "Dit kunnen we weer omschrijven naar:\n",
    "\n",
    "$\n",
    "1000 \\cdot W \\cdot s  = 1~[kWs]\n",
    "$\n",
    "\n",
    "$\n",
    "3600 \\cdot k \\cdot W \\cdot s = 1~[kWh]\n",
    "$\n",
    "\n",
    "dus:\n",
    "\n",
    "$\n",
    "1~[kWh] = 1000 \\cdot 3600  = 3.6\\cdot10^6~[J]\n",
    "$"
   ]
  },
  {
   "cell_type": "markdown",
   "metadata": {},
   "source": [
    "Vermogen gaat __KWADRATISCH__ met de opgelegde spanning danwel stroom die loopt:"
   ]
  },
  {
   "cell_type": "code",
   "execution_count": 82,
   "metadata": {
    "collapsed": false,
    "scrolled": false
   },
   "outputs": [
    {
     "data": {
      "image/png": "[encoded data removed]",
      "text/plain": [
       "<matplotlib.figure.Figure at 0x112f867f0>"
      ]
     },
     "metadata": {},
     "output_type": "display_data"
    }
   ],
   "source": [
    "def plotUICurve(R=1):\n",
    "    if R == 0:\n",
    "        R = 1e-10\n",
    "    U = np.linspace(0,12,100)\n",
    "    I = U/R\n",
    "    P = I**2/R\n",
    "    \n",
    "    fig, ax1 = plt.subplots()\n",
    "    ax1.plot(U, I, 'b-')\n",
    "    ax1.set_xlabel('Spanning [V]')\n",
    "    # Make the y-axis label and tick labels match the line color.\n",
    "    ax1.set_ylabel('Stroom~[I]', color='b')\n",
    "    for tl in ax1.get_yticklabels():\n",
    "        tl.set_color('b')\n",
    "\n",
    "\n",
    "    ax2 = ax1.twinx()\n",
    "    ax2.plot(U, P, 'r.')\n",
    "    ax2.set_ylabel('Vermogen [P]', color='r')\n",
    "    for tl in ax2.get_yticklabels():\n",
    "        tl.set_color('r')\n",
    "    plt.show()\n",
    "    \n",
    "    \n",
    "plotUICurve(R=1)"
   ]
  },
  {
   "cell_type": "markdown",
   "metadata": {},
   "source": [
    "___"
   ]
  },
  {
   "cell_type": "markdown",
   "metadata": {},
   "source": [
    "Weerstanden zijn beschikbaar in verschillende vermogensmaten. Gangbare metaalfilmweerstanden zijn te krijgen in:\n",
    "- 1W\n",
    "- 1/2W\n",
    "- 1/4W\n",
    "- 1/8W"
   ]
  },
  {
   "cell_type": "markdown",
   "metadata": {},
   "source": [
    "## Oefenopgaves:"
   ]
  },
  {
   "cell_type": "code",
   "execution_count": 83,
   "metadata": {
    "collapsed": false
   },
   "outputs": [
    {
     "data": {
      "image/png": "[encoded data removed]",
      "text/plain": [
       "<IPython.core.display.Image object>"
      ]
     },
     "execution_count": 83,
     "metadata": {},
     "output_type": "execute_result"
    }
   ],
   "source": [
    "%%circuitikz filename=circuit1 dpi=200 options=american folder=circuits/college2/ replace=false\n",
    "\n",
    "\\begin{circuitikz}\n",
    "      \\draw (0,0)\n",
    "      to[V,v=$U_1$] (0,3) \n",
    "      to[short, i = $I_1$] (3,3)\n",
    "      to [R, l=$R_1$] (3,0)\n",
    "      to [R, l=$R_2$] (0,0) \n",
    "\\end{circuitikz}"
   ]
  },
  {
   "cell_type": "markdown",
   "metadata": {},
   "source": [
    "Bereken het geleverde vermogen door $U_1$ als het opgenomen/gedissipeerde vermogen van $R_1$ 27~W blijkt te zijn. \n",
    "\n",
    "Gegeven zijn verder:\n",
    "\n",
    "- $R_1=3~\\Omega$\n",
    "- $R_2=1.5~\\Omega$"
   ]
  },
  {
   "cell_type": "markdown",
   "metadata": {},
   "source": [
    "Welke vermogensklasse (1/8,1/4,1/2,1 Watt) moet ik pakken voor $R_1$ indien: \n",
    "    \n",
    "- $U_1 = 40~V$\n",
    "- $R_1=1~k~\\Omega$\n",
    "- $R_2=2k2~\\Omega$"
   ]
  },
  {
   "cell_type": "code",
   "execution_count": 18,
   "metadata": {
    "collapsed": false
   },
   "outputs": [
    {
     "data": {
      "text/plain": [
       "0.15625000000000003"
      ]
     },
     "execution_count": 18,
     "metadata": {},
     "output_type": "execute_result"
    }
   ],
   "source": [
    "((40/(1e3+2.2e3))**2)*1e3"
   ]
  },
  {
   "cell_type": "markdown",
   "metadata": {},
   "source": [
    "Dus een weerstand van meer dan 0.125W geeft 0.25W"
   ]
  },
  {
   "cell_type": "markdown",
   "metadata": {},
   "source": [
    "-----"
   ]
  },
  {
   "cell_type": "markdown",
   "metadata": {
    "collapsed": true
   },
   "source": [
    "De efficiente van een vermogensbrond wordt bepaald door het quotient van ingangs en ingangsvermogen:\n",
    "\n",
    "$$Efficientie [\\%]= \\dfrac{P_{out}}{P_{in}} \\cdot 100 $$"
   ]
  },
  {
   "cell_type": "markdown",
   "metadata": {
    "collapsed": true
   },
   "source": [
    "AmpereUur [Ah] betekend het gemiddeld aantal ampere dat een bron (bijvoorbeeld accu of batterij) 1 uur lang kan leveren.\n",
    "    \n",
    "Stel een batterij is gedefineerd als 44Ah. Voor hoeveel uur kan het dan 0.5~[A] leveren?"
   ]
  },
  {
   "cell_type": "markdown",
   "metadata": {},
   "source": [
    "$44 = A \\cdot h$\n",
    "\n",
    "$44 = 0.5 \\cdot h$\n",
    "\n",
    "$h = 88$"
   ]
  },
  {
   "cell_type": "markdown",
   "metadata": {},
   "source": [
    "-----"
   ]
  },
  {
   "cell_type": "markdown",
   "metadata": {},
   "source": [
    "# Chapter 5 / 6: Series + Parallel Circuits"
   ]
  },
  {
   "cell_type": "markdown",
   "metadata": {},
   "source": [
    "opgaven: 7(d), 11, 14, 19, 22, 24, 25, 29, 31, 32, 34, 35, 37, 43, 47, 49"
   ]
  },
  {
   "cell_type": "markdown",
   "metadata": {},
   "source": [
    "Weerstanden in serie:\n",
    "\n",
    "$$R_{tot,serie} = \\sum_{i=1}^N R_i$$"
   ]
  },
  {
   "cell_type": "markdown",
   "metadata": {},
   "source": [
    "Weerstanden parallel:\n",
    "\n",
    "$$R_{tot,parallel} = \\dfrac{1}{\\sum_{i=1}^N \\left( \\dfrac{1}{R_i} \\right) } $$\n",
    "\n",
    "Wanneer je dit uitwerkt zul je zien dat **de totale weerstand is gelijk aan het product van de weerstanden gedeelt door de som van de weerstanden**\n",
    "\n",
    "Dit wordt vaak genoteerd (in het geval van twee weerstanden) als:\n",
    "\n",
    "$$ R_1~||~R_2 = \\frac{R_1 R_2}{R_1+R_2}$$\n"
   ]
  },
  {
   "cell_type": "markdown",
   "metadata": {},
   "source": [
    "## Spanningsdeler / Stroomdeler"
   ]
  },
  {
   "cell_type": "code",
   "execution_count": 92,
   "metadata": {
    "collapsed": false,
    "scrolled": true
   },
   "outputs": [
    {
     "data": {
      "image/png": "[encoded data removed]",
      "text/plain": [
       "<IPython.core.display.Image object>"
      ]
     },
     "execution_count": 92,
     "metadata": {},
     "output_type": "execute_result"
    }
   ],
   "source": [
    "%%circuitikz filename=circuit2 dpi=200 options=american folder=circuits/college2/ replace=false\n",
    "\n",
    "\\begin{circuitikz}\n",
    "      \\draw (0,0)\n",
    "      to[V,v=$U_1$] (0,3) \n",
    "      to[R, l=$R_1$,-*] (3,3) node[label={[font=\\footnotesize]above:A}] {}\n",
    "  \n",
    "      to[R, l=$R_2$] (3,0) \n",
    "      to[R, l=$R_3$] (0,0) \n",
    "\\end{circuitikz}"
   ]
  },
  {
   "cell_type": "markdown",
   "metadata": {},
   "source": [
    "## Oefenopgave:\n",
    "\n",
    "1. Bereken de spanning over $R_1, R_2, R_3$\n",
    "2. Bereken de spanning op punt A"
   ]
  },
  {
   "cell_type": "code",
   "execution_count": 93,
   "metadata": {
    "collapsed": false,
    "scrolled": true
   },
   "outputs": [
    {
     "data": {
      "image/png": "[encoded data removed]",
      "text/plain": [
       "<IPython.core.display.Image object>"
      ]
     },
     "execution_count": 93,
     "metadata": {},
     "output_type": "execute_result"
    }
   ],
   "source": [
    "%%circuitikz filename=circuit3 dpi=200 options=american folder=circuits/college2/ replace=false\n",
    "\n",
    "\\begin{circuitikz}\n",
    "      \\draw (0,0)\n",
    "      to[I,I=$I_1$] (0,3) \n",
    "      to[short] (3,3)\n",
    "      to [R, l=$R_3$] (3,0)\n",
    "      to [short] (0,0);  \n",
    "    \n",
    "      \\draw (1,3) to[R, l=$R_1$] (1,0); \n",
    "      \\draw (2,3) to[R, l=$R_2$] (2,0); \n",
    "\\end{circuitikz}"
   ]
  },
  {
   "cell_type": "markdown",
   "metadata": {},
   "source": [
    "## Oefenopgave (thuis):\n",
    "\n",
    "1. Bereken de stroom door $R_1$, $R_2$, $R_3$"
   ]
  },
  {
   "cell_type": "markdown",
   "metadata": {},
   "source": [
    "------"
   ]
  },
  {
   "cell_type": "markdown",
   "metadata": {},
   "source": [
    "# METHODE 2: De wetten van Kirchhoff\n",
    "\n",
    "- [Khan Academy](https://www.khanacademy.org/science/physics/circuits-topic)\n",
    "- [engineeringvideos.org](http://www.engineeringvideos.org/circuit-analysis)"
   ]
  },
  {
   "cell_type": "markdown",
   "metadata": {},
   "source": [
    "### Kirchhoff's stroom wet (Kirchhoff Current Law --> KCL):\n",
    "\n",
    "De som van de M stromen op een knooppunt (NODE) is gelijk aan **0**:\n",
    "\n",
    "###  $$I_{tot} = \\sum_{k=1}^M I_k=0$$"
   ]
  },
  {
   "cell_type": "code",
   "execution_count": 3,
   "metadata": {
    "collapsed": false
   },
   "outputs": [
    {
     "data": {
      "text/html": [
       "\n",
       "        <iframe\n",
       "            width=\"400\"\n",
       "            height=\"300\"\n",
       "            src=\"https://www.youtube.com/embed/QbTr25UTR7s?color=red&start=0&autoplay=0&theme=light\"\n",
       "            frameborder=\"0\"\n",
       "            allowfullscreen\n",
       "        ></iframe>\n",
       "        "
      ],
      "text/plain": [
       "<IPython.lib.display.YouTubeVideo at 0x7f82f89f39b0>"
      ]
     },
     "execution_count": 3,
     "metadata": {},
     "output_type": "execute_result"
    }
   ],
   "source": [
    "YouTubeVideo(\"QbTr25UTR7s\", start=0, autoplay=0, theme=\"light\", color=\"red\")"
   ]
  },
  {
   "cell_type": "markdown",
   "metadata": {},
   "source": [
    "### Kirchhoff's spanning wet (Kirchhoff Voltange Law --> KVL):\n",
    "\n",
    "De som van de N spanning in een lus (Mesh) is gelijk aan **0**:\n",
    "\n",
    "### $$U_{tot} = \\sum_{l=1}^N U_l=0$$"
   ]
  },
  {
   "cell_type": "code",
   "execution_count": 4,
   "metadata": {
    "collapsed": false
   },
   "outputs": [
    {
     "data": {
      "text/html": [
       "\n",
       "        <iframe\n",
       "            width=\"400\"\n",
       "            height=\"300\"\n",
       "            src=\"https://www.youtube.com/embed/JOGygS0AvQE?color=red&start=0&autoplay=0&theme=light\"\n",
       "            frameborder=\"0\"\n",
       "            allowfullscreen\n",
       "        ></iframe>\n",
       "        "
      ],
      "text/plain": [
       "<IPython.lib.display.YouTubeVideo at 0x7f832c0cd4a8>"
      ]
     },
     "execution_count": 4,
     "metadata": {},
     "output_type": "execute_result"
    }
   ],
   "source": [
    "YouTubeVideo(\"JOGygS0AvQE\", start=0, autoplay=0, theme=\"light\", color=\"red\")"
   ]
  },
  {
   "cell_type": "markdown",
   "metadata": {},
   "source": [
    "## Kirchhoff stappen:\n",
    " \n",
    ">1. Neem het circuit over op papier\n",
    "2. Iedere weerstand heeft zijn eigen stroom en spanning (richting en polariteit horen bij elkaar)\n",
    "3. Bepaal het aantal relevante knooppunten en lussen\n",
    "4. Stel de vergelijkingen op\n",
    "5. Bereken de gewenste onbekend(en)\n",
    "6. Controleer je antwoord"
   ]
  },
  {
   "cell_type": "markdown",
   "metadata": {},
   "source": [
    "## Gezamenlijke opgave:"
   ]
  },
  {
   "cell_type": "code",
   "execution_count": 69,
   "metadata": {
    "collapsed": false,
    "scrolled": true
   },
   "outputs": [
    {
     "data": {
      "image/png": "[encoded data removed]",
      "text/plain": [
       "<IPython.core.display.Image object>"
      ]
     },
     "execution_count": 69,
     "metadata": {},
     "output_type": "execute_result"
    }
   ],
   "source": [
    "%%circuitikz filename=circuit4 dpi=175 options=american folder=circuits/college2/ replace=false\n",
    "\n",
    "\\begin{circuitikz}\n",
    "      \\draw (0,0)\n",
    "      to[V,v=$10~V$] (0,3) \n",
    "      to[R, l^=$2~\\Omega$, i=$I_2$, v=$I_2$, -*] (3,3) node[label={above:$K_1$}] {}\n",
    "      to [R, l=$3~\\Omega$, i=$I_3$, v=$I_3$] (3,0)\n",
    "      to[short] (0,0) \n",
    "      \n",
    "      (3,0) \n",
    "      to[short] (6,0)\n",
    "      to[V, v_=$8~V$] (6,3)\n",
    "      to[R, l_=$4~\\Omega$, i_=$I_4$, v^=$I_4$] (3,3)\n",
    "      ;\n",
    "    \n",
    "      \\draw[thin, <-, >=triangle 45] (1.5,1.5)node{$L_1$}  ++(-60:.75) arc (-60:170:.75);\n",
    "      \\draw[thin, <-, >=triangle 45] (4.5,1.5)node{$L_2$}  ++(-60:.75) arc (-60:170:.75);\n",
    "    \n",
    "\\end{circuitikz}"
   ]
  },
  {
   "cell_type": "markdown",
   "metadata": {},
   "source": [
    "Bepaal de stroom $I_3$ met behulp van de wetten van Kirchhoff."
   ]
  },
  {
   "cell_type": "markdown",
   "metadata": {},
   "source": [
    "# Dus volgens de procedure:\n",
    "\n",
    "1. Overnemen van het schema\n",
    "2. Zet de polariteiten en stromen goed:\n",
    "    ![polariteiten en stroomrichtingen](circuits/college2/circuit4Full.png)\n",
    "3. Bepaal de relevante knooppunten en lussen:\n",
    "    ![relevante knooppunten en lussen](circuits/college2/circuit4Full2.png)\n",
    "    Dus de relevante knooppunten zijn $K_1$ en relevante lussen zijn $L_1$ en $L_2$\n",
    "4. Geef de knooppunt en lusvergelijkingen:\n",
    "    \\begin{align}\n",
    "    K_1 \\rightarrow & I_2 + I_4 - I_3 = 0 \\\\\n",
    "    L_1 \\rightarrow & 2 \\cdot I_2 + 3 \\cdot I_3 - 10 = 0 \\\\\n",
    "    L_2 \\rightarrow & 4 \\cdot I_4 + 3 \\cdot I_3 - 8 = 0\n",
    "    \\end{align}\n",
    "5. Los op voor de onbekende (gevraagde) variabele\n",
    "    \\begin{align}\n",
    "    I_3&=I_2+I_4 \\\\\n",
    "    & = \\frac{10-3I_3}{2}+\\frac{8-3I_3}{4}\n",
    "    \\end{align}\n",
    "\n",
    "    GEEFT:\n",
    "\n",
    "    $$\n",
    "    4I_3 = 20-6I_3+8-3I_3\n",
    "    $$\n",
    "\n",
    "    $$\n",
    "    I_3(4+9) = 28\n",
    "    $$\n",
    "\n",
    "    $$\n",
    "    I_3 = \\frac{28}{13} = 2+\\frac{2}{13}\n",
    "    $$\n",
    "\n",
    "5. Controle (mogelijkheden):\n",
    "    - Kijk of het realistisch is (spanning over $R_3$ wordt $6+6/13~A$) dit kan kloppen. In elke geval kan het niet meer dan $10~V$ zijn !\n",
    "    - Vul de waarde van I_3 ergens in en los op voor de andere onbekenden"
   ]
  },
  {
   "cell_type": "markdown",
   "metadata": {},
   "source": [
    "## En nu zelf:"
   ]
  },
  {
   "cell_type": "code",
   "execution_count": 79,
   "metadata": {
    "collapsed": false
   },
   "outputs": [
    {
     "data": {
      "image/png": "[encoded data removed]",
      "text/plain": [
       "<IPython.core.display.Image object>"
      ]
     },
     "execution_count": 79,
     "metadata": {},
     "output_type": "execute_result"
    }
   ],
   "source": [
    "%%circuitikz filename=circuit5 dpi=175 options=american folder=circuits/college2/ replace=false\n",
    "\n",
    "\\begin{circuitikz}\n",
    "      \\draw (0,0)\n",
    "      to[I,i=$4~A$] (0,3) \n",
    "      to[short] (2,3)\n",
    "      to [R, l=$R_1$, i=$I_1$] (2,0)\n",
    "      to[short] (0,0); \n",
    "      \n",
    "      \\draw (2,3) \n",
    "      to [R, l_=$R_2$, i_=$I_2$] (5,3)\n",
    "      to [R, l=$R_3$, i=$I_3$] (5,0);\n",
    "    \n",
    "      \\draw (5,3)\n",
    "      to[short] (7,3)\n",
    "      to[I,i=$6~A$] (7,0)\n",
    "      to[short] (2,0);\n",
    "\\end{circuitikz}"
   ]
  },
  {
   "cell_type": "markdown",
   "metadata": {
    "collapsed": true
   },
   "source": [
    "Neem verder aan dat:\n",
    "\n",
    "- $R_1$ = $R_2$ = $R_3$ = 2 $\\Omega$\n",
    "\n",
    "## Oefenopgave:\n",
    "\n",
    "Bereken de stroom $I_1$, $I_2$ en $I_3$"
   ]
  },
  {
   "cell_type": "markdown",
   "metadata": {
    "collapsed": true
   },
   "source": [
    "## Extra links:\n",
    "\n",
    "- [Wikiversity: Electric Circuit](https://en.wikiversity.org/wiki/Electric_Circuit_Analysis)\n",
    "- [Pearson Floyd](https://media.pearsoncmg.com/bc/abp/floyd/)"
   ]
  },
  {
   "cell_type": "markdown",
   "metadata": {},
   "source": [
    "--------------------"
   ]
  },
  {
   "cell_type": "markdown",
   "metadata": {
    "collapsed": true
   },
   "source": [
    "# $SUCCES = (Voorbereiding \\cdot Geluk)^{Motivatie}$"
   ]
  }
 ],
 "metadata": {
  "kernelspec": {
   "display_name": "Python 3",
   "language": "python",
   "name": "python3"
  },
  "language_info": {
   "codemirror_mode": {
    "name": "ipython",
    "version": 3
   },
   "file_extension": ".py",
   "mimetype": "text/x-python",
   "name": "python",
   "nbconvert_exporter": "python",
   "pygments_lexer": "ipython3",
   "version": "3.5.0"
  }
 },
 "nbformat": 4,
 "nbformat_minor": 0
}
