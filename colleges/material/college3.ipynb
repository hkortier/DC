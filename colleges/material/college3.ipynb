{
 "cells": [
  {
   "cell_type": "code",
   "execution_count": 1,
   "metadata": {
    "collapsed": false,
    "slideshow": {
     "slide_type": "-"
    }
   },
   "outputs": [],
   "source": [
    "%matplotlib inline"
   ]
  },
  {
   "cell_type": "code",
   "execution_count": 2,
   "metadata": {
    "collapsed": false,
    "scrolled": true
   },
   "outputs": [
    {
     "name": "stderr",
     "output_type": "stream",
     "text": [
      "/home/henk/anaconda3/lib/python3.5/site-packages/matplotlib/__init__.py:872: UserWarning: axes.color_cycle is deprecated and replaced with axes.prop_cycle; please use the latter.\n",
      "  warnings.warn(self.msg_depr % (key, alt_key))\n"
     ]
    }
   ],
   "source": [
    "import numpy as np\n",
    "import scipy as sp\n",
    "import sympy as sym\n",
    "import matplotlib.pyplot as plt\n",
    "import sympy as smp\n",
    "import seaborn as sns\n",
    "\n",
    "from IPython.display import YouTubeVideo"
   ]
  },
  {
   "cell_type": "code",
   "execution_count": 3,
   "metadata": {
    "collapsed": false
   },
   "outputs": [],
   "source": [
    "from IPython.display import Image\n",
    "from IPython.core.display import HTML "
   ]
  },
  {
   "cell_type": "code",
   "execution_count": 4,
   "metadata": {
    "collapsed": false
   },
   "outputs": [
    {
     "name": "stdout",
     "output_type": "stream",
     "text": [
      "Installed circuitikz.py. To use it, type:\n",
      "  %load_ext circuitikz\n"
     ]
    },
    {
     "name": "stderr",
     "output_type": "stream",
     "text": [
      "/home/henk/anaconda3/lib/python3.5/site-packages/IPython/core/magics/extension.py:47: UserWarning: %install_ext` is deprecated, please distribute your extension(s)as a python packages.\n",
      "  \"as a python packages.\", UserWarning)\n"
     ]
    }
   ],
   "source": [
    "#import sys\n",
    "#sys.path.append('D:\\Dropbox\\python\\ipython-circuitikz')\n",
    "%install_ext circuitikz.py"
   ]
  },
  {
   "cell_type": "code",
   "execution_count": 5,
   "metadata": {
    "collapsed": true
   },
   "outputs": [],
   "source": [
    "%reload_ext circuitikz"
   ]
  },
  {
   "cell_type": "markdown",
   "metadata": {},
   "source": [
    "--------"
   ]
  },
  {
   "cell_type": "markdown",
   "metadata": {
    "slideshow": {
     "slide_type": "slide"
    }
   },
   "source": [
    "# Electrische circuits DC: Week 3"
   ]
  },
  {
   "cell_type": "markdown",
   "metadata": {},
   "source": [
    "-----"
   ]
  },
  {
   "cell_type": "markdown",
   "metadata": {},
   "source": [
    "## Inhoud:\n",
    "\n",
    "- Chapter 2: Voltage, Current, Resistance\n",
    "- Chapter 3: Ohm's Law\n",
    "- Chapter 4: Energy and Power\n",
    "- **Chapter 5: Series Circuits**\n",
    "- **Chapter 6: Parallel Circuits**\n",
    "- **Chapter 7: Series-Parallel Circuits**\n",
    "- **Chapter 8: Circuit theorem and Conversions**\n",
    "- Chatper 12: Capacitors\n",
    "- Chapter 13: Inductors"
   ]
  },
  {
   "cell_type": "markdown",
   "metadata": {},
   "source": [
    "# RECAP  LAST WEEK"
   ]
  },
  {
   "cell_type": "markdown",
   "metadata": {},
   "source": [
    "- Wetten van Kirchhoff (Stappenplan)\n",
    "- Serie en parallel berekeningen (weerstanden)\n",
    "\n",
    "\n",
    "Uitwerkingen:\n",
    "    - Parallele weerstanden met een stroombron.\n",
    "Bereken de stromen door de weerstanden.    \n",
    "![Stroomdeler](circuits/college2/circuit3.png)\n",
    "    - Circuit met 1 onbekende:\n",
    "Bereken $I_2$\n",
    "![Circuit met twee bronnen](circuits/college3/circuit10.png) \n",
    "    - Laatste circuit afgelopen week. \n",
    "Gebruik Kirchoff om $I_1$, $I_2$, $I_3$ te berekenen, waarbij alle weerstanden $2~\\Omega$ zijn.\n",
    "![Wetten van kirchhoff](circuits/college2/circuit5.png)"
   ]
  },
  {
   "cell_type": "markdown",
   "metadata": {},
   "source": [
    "-----"
   ]
  },
  {
   "cell_type": "markdown",
   "metadata": {},
   "source": [
    "# Vandaag:\n",
    "\n",
    "- Hoofdstuk 6, 7 en 8\n",
    "- Superpositie theorema"
   ]
  },
  {
   "cell_type": "markdown",
   "metadata": {},
   "source": [
    "# METHODE 3: Superpositie theorema\n",
    "\n",
    "[All about circuits](http://www.allaboutcircuits.com/textbook/direct-current/chpt-10/superposition-theorem/)"
   ]
  },
  {
   "cell_type": "code",
   "execution_count": 6,
   "metadata": {
    "collapsed": false
   },
   "outputs": [
    {
     "data": {
      "text/html": [
       "\n",
       "        <iframe\n",
       "            width=\"400\"\n",
       "            height=\"300\"\n",
       "            src=\"https://www.youtube.com/embed/7-DmVBLaydE?theme=light&start=0&autoplay=0&color=red\"\n",
       "            frameborder=\"0\"\n",
       "            allowfullscreen\n",
       "        ></iframe>\n",
       "        "
      ],
      "text/plain": [
       "<IPython.lib.display.YouTubeVideo at 0x7fb980280358>"
      ]
     },
     "execution_count": 6,
     "metadata": {},
     "output_type": "execute_result"
    }
   ],
   "source": [
    "YouTubeVideo(\"7-DmVBLaydE\", start=0, autoplay=0, theme=\"light\", color=\"red\")"
   ]
  },
  {
   "cell_type": "markdown",
   "metadata": {},
   "source": [
    "## Superpositie stappenplan\n",
    "\n",
    ">1. Zijn er 2 of meer bronnen in het circuit? Pas dan is superpositie mogelijk.\n",
    "2. Neem het circuit over op papier.\n",
    "3. _Er zijn evenveel sub-circuits op te maken als er in het circuit aan bronnen zijn._\n",
    "4. _Bij het opzetten van een sub circuit geldt:_\n",
    "    - **Er is slechts 1 bron actief.**\n",
    "    - **De andere bronnen worden vervangen door een kortsluiting (in geval van spanningsbron) of een open verbinding (in geval van een stroombron).**\n",
    "5. _Neem de moeite en zet **ieder** sub circuit op papier. Vermeld altijd in het sub circuit altijd dezelfde richting of polariteit van de respectievelijk gevraagde stroom of spanning zoals die ook in het oorspronkelijke circuit werd gevraagd._\n",
    "6. _Bereken van **ieder** sub-circuit de gevraagde stroom of spanning. Bijvoorbeeld $U_{2a}$ voor het eerste sub-circuit en $U_{2b}$ voor het tweede sub-circuit._\n",
    "    - _**Er zijn dus net zoeveel sub antwoorden als er bronnen in het oorspronkelijke totale circuit zijn.**_\n",
    "7. **_De uitkomst van de gevraagde stroom of spanning is dan de som van de sub antwoorden. Dus bijvoorbeeld ($U_2=U_{2a}+U_{2b}+ …$)_**\n",
    "8. Tot slot, verifieer jouw antwoord door middel van een controle (d.m.v. de vermogensbalans leveren=verbruik of met één van de andere circuit analyse methoden )."
   ]
  },
  {
   "cell_type": "markdown",
   "metadata": {},
   "source": [
    "-----"
   ]
  },
  {
   "cell_type": "markdown",
   "metadata": {},
   "source": [
    "## Gezamenlijke opgave 1:"
   ]
  },
  {
   "cell_type": "code",
   "execution_count": 7,
   "metadata": {
    "collapsed": false,
    "scrolled": true
   },
   "outputs": [
    {
     "data": {
      "image/png": "[encoded data removed]",
      "text/plain": [
       "<IPython.core.display.Image object>"
      ]
     },
     "execution_count": 7,
     "metadata": {},
     "output_type": "execute_result"
    }
   ],
   "source": [
    "%%circuitikz filename=circuit1 dpi=175 options=american folder=circuits/college3/ replace=true\n",
    "\n",
    "\\begin{circuitikz}\n",
    "      \\draw (0,0)\n",
    "      to[V,v=$10~V$] (0,3) \n",
    "      to[R, l^=$R_2$] (3,3)\n",
    "      to [R, l=$R_3$, i=$I_3$] (3,0)\n",
    "      to[short] (0,0) \n",
    "      \n",
    "      (3,0) \n",
    "      to[short] (6,0)\n",
    "      to[V, v_=$8~V$] (6,3)\n",
    "      to[R, l_=$R_4$] (3,3)\n",
    "      ;\n",
    "\\end{circuitikz}"
   ]
  },
  {
   "cell_type": "markdown",
   "metadata": {},
   "source": [
    ">Vraag: Bereken de stroom $I_3$ via het superpositie theorema. Gebruik daarbij de volgende waarden\n",
    "\n",
    "Component | Waarde\n",
    "------------ | -------------\n",
    "$R_2$ | $2~\\Omega$\n",
    "$R_3$ | $3~\\Omega$\n",
    "$R_4$ | $4~\\Omega$"
   ]
  },
  {
   "cell_type": "markdown",
   "metadata": {},
   "source": [
    "Er zijn twee bronnen dus 2 sub-circuits:\n",
    "- sub circuit a: \n",
    "    ![sub circuit a](circuits/college3/circuit1a.png)\n",
    "- sub circuit b: \n",
    "    ![sub circuit b](circuits/college3/circuit1b.png)"
   ]
  },
  {
   "cell_type": "markdown",
   "metadata": {},
   "source": [
    "De stroom $I_3$ is de som van de stromen $I_{3a}$ en $I_{3b}$ van de sub circuits.\n",
    "\n",
    "** We berekenen eerst $I_{3a}$ **\n",
    "\n",
    "Gebruik makend van serie en parallel weerstanden om de spanning over $R_3$ uit te rekenen:\n",
    "\n",
    "$$R_v = R_3~||~R_4 = \\frac{1}{\\frac{1}{R_3}+\\frac{1}{R_4}}=\\frac{R_3 R_4}{R_3+R_4} = \\frac{12}{7}$$\n",
    "\n",
    "dus de stroom die door de bron gaat lopen:\n",
    "\n",
    "$$I_2 = \\frac{10}{2+R_v}$$\n",
    "\n",
    "$$U_3 = R_v \\cdot I_2 = R_v \\cdot \\frac{10}{2+R_v}$$\n",
    "\n",
    "$$I_{3a} = \\frac{U_3}{R_3} = \\frac{ R_v \\cdot \\frac{10}{2+R_v}}{R_3} = $$"
   ]
  },
  {
   "cell_type": "code",
   "execution_count": 8,
   "metadata": {
    "collapsed": false
   },
   "outputs": [
    {
     "name": "stdout",
     "output_type": "stream",
     "text": [
      "1.5384615384615383\n"
     ]
    }
   ],
   "source": [
    "Rv = 12/7\n",
    "I3a = (Rv*10/(2+Rv))/3\n",
    "print(I3a)"
   ]
  },
  {
   "cell_type": "markdown",
   "metadata": {},
   "source": [
    "** Vervolgens berekenen we $I_{3b}$ **\n",
    "\n",
    "We hebben exact dezelfde structuur als het eerste sub circuit, echter met andere component waarden. \n",
    "\n",
    "De waarde voor de parallel weerstand is nu: \n",
    "$$ R_{w} = \\frac{R_2 R_3}{R_2 + R_3} $$\n",
    "\n",
    "Dit geconstateerd hebbende geeft:\n",
    "\n",
    "$$I_{3b} = \\frac{ R_w \\cdot \\frac{10}{2+R_w}}{R_3} = $$"
   ]
  },
  {
   "cell_type": "code",
   "execution_count": 9,
   "metadata": {
    "collapsed": false
   },
   "outputs": [
    {
     "name": "stdout",
     "output_type": "stream",
     "text": [
      "1.25\n"
     ]
    }
   ],
   "source": [
    "Rw = 6/5\n",
    "I3b = (Rw*10/(2+Rw))/3\n",
    "print(I3b)"
   ]
  },
  {
   "cell_type": "markdown",
   "metadata": {},
   "source": [
    "De totale stroom is dus:"
   ]
  },
  {
   "cell_type": "code",
   "execution_count": 10,
   "metadata": {
    "collapsed": false
   },
   "outputs": [
    {
     "name": "stdout",
     "output_type": "stream",
     "text": [
      "2.7884615384615383\n"
     ]
    }
   ],
   "source": [
    "I3 = I3a+I3b\n",
    "print(I3)"
   ]
  },
  {
   "cell_type": "markdown",
   "metadata": {},
   "source": [
    "-----"
   ]
  },
  {
   "cell_type": "markdown",
   "metadata": {},
   "source": [
    "## Gezamenlijke opgave 2:\n",
    "\n",
    "Gebruik **Superpositie** om $I_2$ te berekenen, waarbij alle weerstanden $2~\\Omega$ zijn.\n",
    "![Wetten van kirchhoff](circuits/college2/circuit5.png)"
   ]
  },
  {
   "cell_type": "markdown",
   "metadata": {},
   "source": [
    "-----"
   ]
  },
  {
   "cell_type": "markdown",
   "metadata": {},
   "source": [
    "## En nu zelf:"
   ]
  },
  {
   "cell_type": "code",
   "execution_count": 11,
   "metadata": {
    "collapsed": false
   },
   "outputs": [
    {
     "data": {
      "image/png": "[encoded data removed]",
      "text/plain": [
       "<IPython.core.display.Image object>"
      ]
     },
     "execution_count": 11,
     "metadata": {},
     "output_type": "execute_result"
    }
   ],
   "source": [
    "%%circuitikz filename=circuit3 dpi=175 options=american folder=circuits/college3/ replace=false\n",
    "\n",
    "\\begin{circuitikz}\n",
    "      \\draw (0,3)\n",
    "      to[V,v=$6~V$] (0,0)\n",
    "      to[short] (6,0)\n",
    "      to[I,i=$2~A$] (6,3)\n",
    "      to[short] (3,3)\n",
    "      to[R,l=$R_1$] (0,3)\n",
    "      to[V,v_=$4~V$] (0,6)\n",
    "      to[short] (6,6)\n",
    "      to[R, l^=$R_3$] (6,3)\n",
    "      ;\n",
    "      \\draw (3,3)\n",
    "      to[R,l=$R_2$,v=$U_2$] (3,0)\n",
    "      ;\n",
    "\\end{circuitikz}"
   ]
  },
  {
   "cell_type": "markdown",
   "metadata": {},
   "source": [
    ">Opgave 1: Bereken $U_2$ via het superpositie beginsel.\n",
    "\n",
    "Component | Waarde\n",
    "------------ | -------------\n",
    "$R_1$ | $1~\\Omega$\n",
    "$R_2$ | $2~\\Omega$\n",
    "$R_3$ | $3~\\Omega$"
   ]
  },
  {
   "cell_type": "markdown",
   "metadata": {},
   "source": [
    "-------"
   ]
  },
  {
   "cell_type": "markdown",
   "metadata": {},
   "source": [
    ">Opgaven 2 en 3: Maak opgave 12 (hoofdstuk 8). Figuur 74a is voor opgave 2, figuur 74b is voor opgave 3."
   ]
  },
  {
   "cell_type": "markdown",
   "metadata": {},
   "source": []
  },
  {
   "cell_type": "markdown",
   "metadata": {
    "collapsed": true
   },
   "source": [
    "## Extra links:\n",
    "\n",
    "- [Wikiversity: Electric Circuit](https://en.wikiversity.org/wiki/Electric_Circuit_Analysis)\n",
    "- [Pearson Floyd](https://media.pearsoncmg.com/bc/abp/floyd/)\n",
    "- [Circuit simulator](http://www.falstad.com/circuit/circuitjs.html?cct=$+1+0.000005+10.200277308269968+33+5+43%0Ai+112+320+112+192+0+4%0Ai+416+192+416+320+0+6%0Ar+192+320+192+192+0+1%0Ar+208+192+320+192+0+2%0Ar+336+192+336+320+0+3%0Aw+112+192+192+192+0%0Aw+192+192+208+192+0%0Aw+320+192+336+192+0%0Aw+336+192+416+192+0%0Aw+416+320+336+320+0%0Aw+336+320+192+320+0%0Aw+192+320+112+320+0%0A)"
   ]
  },
  {
   "cell_type": "markdown",
   "metadata": {},
   "source": [
    "--------------------"
   ]
  },
  {
   "cell_type": "markdown",
   "metadata": {
    "collapsed": true
   },
   "source": [
    "# $SUCCES = (Voorbereiding \\cdot Geluk)^{Motivatie}$"
   ]
  }
 ],
 "metadata": {
  "kernelspec": {
   "display_name": "Python 3",
   "language": "python",
   "name": "python3"
  },
  "language_info": {
   "codemirror_mode": {
    "name": "ipython",
    "version": 3
   },
   "file_extension": ".py",
   "mimetype": "text/x-python",
   "name": "python",
   "nbconvert_exporter": "python",
   "pygments_lexer": "ipython3",
   "version": "3.5.0"
  }
 },
 "nbformat": 4,
 "nbformat_minor": 0
}
