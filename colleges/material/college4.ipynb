{
 "cells": [
  {
   "cell_type": "code",
   "execution_count": 3,
   "metadata": {
    "collapsed": false,
    "slideshow": {
     "slide_type": "-"
    }
   },
   "outputs": [],
   "source": [
    "%matplotlib inline"
   ]
  },
  {
   "cell_type": "code",
   "execution_count": 4,
   "metadata": {
    "collapsed": false,
    "scrolled": true
   },
   "outputs": [
    {
     "name": "stderr",
     "output_type": "stream",
     "text": [
      "/home/henk/anaconda3/lib/python3.5/site-packages/matplotlib/__init__.py:872: UserWarning: axes.color_cycle is deprecated and replaced with axes.prop_cycle; please use the latter.\n",
      "  warnings.warn(self.msg_depr % (key, alt_key))\n"
     ]
    }
   ],
   "source": [
    "import numpy as np\n",
    "import scipy as sp\n",
    "import sympy as sym\n",
    "import matplotlib.pyplot as plt\n",
    "import sympy as smp\n",
    "import seaborn as sns\n",
    "\n",
    "from IPython.display import YouTubeVideo"
   ]
  },
  {
   "cell_type": "code",
   "execution_count": 5,
   "metadata": {
    "collapsed": false
   },
   "outputs": [],
   "source": [
    "from IPython.display import Image\n",
    "from IPython.core.display import HTML \n",
    "#Image(url= \"https://upload.wikimedia.org/wikipedia/commons/f/f9/Electron_shell_029_Copper.svg\", width=400)"
   ]
  },
  {
   "cell_type": "code",
   "execution_count": 6,
   "metadata": {
    "collapsed": false
   },
   "outputs": [
    {
     "name": "stdout",
     "output_type": "stream",
     "text": [
      "Installed circuitikz.py. To use it, type:\n",
      "  %load_ext circuitikz\n"
     ]
    },
    {
     "name": "stderr",
     "output_type": "stream",
     "text": [
      "/home/henk/anaconda3/lib/python3.5/site-packages/IPython/core/magics/extension.py:47: UserWarning: %install_ext` is deprecated, please distribute your extension(s)as a python packages.\n",
      "  \"as a python packages.\", UserWarning)\n"
     ]
    }
   ],
   "source": [
    "#import sys\n",
    "#sys.path.append('D:\\Dropbox\\python\\ipython-circuitikz')\n",
    "%install_ext circuitikz.py"
   ]
  },
  {
   "cell_type": "code",
   "execution_count": 7,
   "metadata": {
    "collapsed": true
   },
   "outputs": [],
   "source": [
    "%reload_ext circuitikz"
   ]
  },
  {
   "cell_type": "markdown",
   "metadata": {},
   "source": [
    "--------"
   ]
  },
  {
   "cell_type": "markdown",
   "metadata": {
    "slideshow": {
     "slide_type": "slide"
    }
   },
   "source": [
    "# Electrische circuits DC: Week 4"
   ]
  },
  {
   "cell_type": "markdown",
   "metadata": {},
   "source": [
    "-----"
   ]
  },
  {
   "cell_type": "markdown",
   "metadata": {},
   "source": [
    "## Inhoud:\n",
    "\n",
    "- Chapter 2: Voltage, Current, Resistance\n",
    "- Chapter 3: Ohm's Law\n",
    "- Chapter 4: Energy and Power\n",
    "- **Chapter 5: Series Circuits**\n",
    "- **Chapter 6: Parallel Circuits**\n",
    "- **Chapter 7: Series-Parallel Circuits**\n",
    "- **Chapter 8: Circuit theorem and Conversions**\n",
    "- Chatper 12: Capacitors\n",
    "- Chapter 13: Inductors"
   ]
  },
  {
   "cell_type": "markdown",
   "metadata": {},
   "source": [
    "# RECAP  LAST WEEK"
   ]
  },
  {
   "cell_type": "markdown",
   "metadata": {},
   "source": [
    "- Superpositie:\n",
    "\n",
    "\n",
    "![](circuits/college3/circuit3.png)\n",
    "\n",
    ">Opgave 1: Bereken $U_2$ via het superpositie beginsel.\n",
    "\n",
    "Component | Waarde\n",
    "------------ | -------------\n",
    "$R_1$ | $1~\\Omega$\n",
    "$R_2$ | $2~\\Omega$\n",
    "$R_3$ | $3~\\Omega$\n",
    "\n",
    "- Opgaven 2 en 3: Maak opgave 12 (hoofdstuk 8). Figuur 74a is voor opgave 2, figuur 74b is voor opgave 3.\n",
    "\n",
    "Uitwerkingen staan op blackboard"
   ]
  },
  {
   "cell_type": "markdown",
   "metadata": {},
   "source": [
    "-----"
   ]
  },
  {
   "cell_type": "markdown",
   "metadata": {},
   "source": [
    "# Vandaag:\n",
    "\n",
    "- Norton en Thévenin (8.5 en 8.6)"
   ]
  },
  {
   "cell_type": "markdown",
   "metadata": {},
   "source": [
    "-------"
   ]
  },
  {
   "cell_type": "markdown",
   "metadata": {},
   "source": [
    "# METHODE 4: Thévenin en Norton\n",
    "\n",
    "- [All About Circuits - Thévenin](http://www.allaboutcircuits.com/textbook/direct-current/chpt-10/thevenins-theorem/)\n",
    "- [All About Circuits - Norton](http://www.allaboutcircuits.com/textbook/direct-current/chpt-10/nortons-theorem/)\n",
    "- [All About Circuits - Thévenin/Norton equivalenties](http://www.allaboutcircuits.com/textbook/direct-current/chpt-10/thevenin-norton-equivalencies/)"
   ]
  },
  {
   "cell_type": "code",
   "execution_count": 8,
   "metadata": {
    "collapsed": false
   },
   "outputs": [
    {
     "data": {
      "text/html": [
       "\n",
       "        <iframe\n",
       "            width=\"400\"\n",
       "            height=\"300\"\n",
       "            src=\"https://www.youtube.com/embed/ESHjsbVrk4g?start=0&color=red&autoplay=0&theme=light\"\n",
       "            frameborder=\"0\"\n",
       "            allowfullscreen\n",
       "        ></iframe>\n",
       "        "
      ],
      "text/plain": [
       "<IPython.lib.display.YouTubeVideo at 0x7fbf35545dd8>"
      ]
     },
     "execution_count": 8,
     "metadata": {},
     "output_type": "execute_result"
    }
   ],
   "source": [
    "YouTubeVideo(\"ESHjsbVrk4g\", start=0, autoplay=0, theme=\"light\", color=\"red\")"
   ]
  },
  {
   "cell_type": "code",
   "execution_count": 9,
   "metadata": {
    "collapsed": false
   },
   "outputs": [
    {
     "data": {
      "text/html": [
       "\n",
       "        <iframe\n",
       "            width=\"400\"\n",
       "            height=\"300\"\n",
       "            src=\"https://www.youtube.com/embed/qyhha6bm1Mc?start=0&color=red&autoplay=0&theme=light\"\n",
       "            frameborder=\"0\"\n",
       "            allowfullscreen\n",
       "        ></iframe>\n",
       "        "
      ],
      "text/plain": [
       "<IPython.lib.display.YouTubeVideo at 0x7fbf35545ef0>"
      ]
     },
     "execution_count": 9,
     "metadata": {},
     "output_type": "execute_result"
    }
   ],
   "source": [
    "YouTubeVideo(\"qyhha6bm1Mc\", start=0, autoplay=0, theme=\"light\", color=\"red\")"
   ]
  },
  {
   "cell_type": "markdown",
   "metadata": {},
   "source": [
    "## Thévenin"
   ]
  },
  {
   "cell_type": "markdown",
   "metadata": {},
   "source": [
    "> Elk linear netwerk met spanningsbronnen, stroombronnen, weerstanden of impedanties is equivalent aan een **spanningsbron** ter waarde van de **open klemspanning in serie met een weerstand of impedantie** ter waarde van de inwendige weerstand of impedantie."
   ]
  },
  {
   "cell_type": "markdown",
   "metadata": {},
   "source": [
    "## Norton"
   ]
  },
  {
   "cell_type": "markdown",
   "metadata": {},
   "source": [
    ">Elk linear netwerk met spanningsbronnen, stroombronnen, weerstanden of impedanties is equivalent aan een **stroombron** ter waarde van de **kortsluitstroom in parallel met een weerstand of impedantie** ter waarde van de inwendige weerstand of impedantie."
   ]
  },
  {
   "cell_type": "markdown",
   "metadata": {},
   "source": [
    "![NortonThevenin](figures/Thevenin_Norton_equivalents.png)"
   ]
  },
  {
   "cell_type": "markdown",
   "metadata": {},
   "source": [
    "----"
   ]
  },
  {
   "cell_type": "markdown",
   "metadata": {},
   "source": [
    "## Thévenin Norton stappenplan\n",
    "\n",
    "In principe kan er in een vraagstuk naar een NORTON of THÉVENIN equivalent schema gevraagd worden of er wordt gevraagd om het vraagstuk op te lossen volgens NORTON of THÉVENIN. Er is dus een verschil!!!\n",
    " Voor het bepalen van het equivalent schema  volg dan de onderstaande regels.\n",
    "\n",
    "1 – Neem het circuit over op papier (altijd doen!!!).\n",
    "\n",
    "2 – Wordt er naar een NORTON equivalent circuit gevraagd, dan is het de bedoeling dat het oorspronkelijke circuit uiteindelijk verkleind wordt tot een parallel schakeling van een stroombron en een weerstand ( $I_{no}=\\dfrac{V_{th}}{R_{th}}$).\n",
    "Wordt er naar een THÉVENIN equivalent circuit gevraagd, dan is het de bedoeling dat het oorspronkelijke circuit uiteindelijk verkleind wordt tot een serie schakeling van een spanningsbron en een weerstand ( $V_{th}= I_{no}\\cdot R_{eq}$ ).\n",
    "\n",
    "3 - Tot slot, verifieer jouw antwoord door middel van een controle (d.m.v. de vermogensbalans leveren=verbruik of met één van de andere circuit analyse methoden ).\n",
    "\n",
    "Wordt er in een opgave gevraagd om met NORTON en/of THÉVENIN methode een spanning of stroom te berekenen, volg dan de volgende methode regels waarbij er lokaal in het circuit beurtelings gebruik wordt gemaakt van de relatie  IN=VTH/RTH  en  VTH= IN.RTH . Dus een stroombron parallel met een weerstand mag tussen de zelfde twee knooppunten  vervangen worden door een spanningsbron in serie met die zelfde weerstand (of vice versa!). De rest van het circuit ‘merkt’ hier niets van als maar steeds blijf gelden dat $I_{no}=\\dfrac{V_{th}}{R_{th}}$  en  $V_{th}= I_{no}\\cdot R_{eq}$ .\n",
    "\n",
    "4 – Door wisselend NORTON en THÉVENIN op een circuit onderdeel toe te passen waar respectievelijk een stroombron parallel met een weerstand of een spanningsbron in serie met een weerstand staat, is een circuit qua omvang ‘te minimaliseren’ waardoor (vaak) de gevraagde vlot te berekenen is. Voor deze methode zijn het meest geschikt de zogenaamde ladder vormige netwerken.\n",
    "\n",
    "5 - Tot slot, verifieer jouw antwoord door middel van een controle (d.m.v. de vermogensbalans leveren=verbruik of met één van de andere circuit analyse methoden ).\n"
   ]
  },
  {
   "cell_type": "markdown",
   "metadata": {},
   "source": [
    "-----"
   ]
  },
  {
   "cell_type": "markdown",
   "metadata": {},
   "source": [
    "## Voorbeeld"
   ]
  },
  {
   "cell_type": "code",
   "execution_count": 10,
   "metadata": {
    "collapsed": false,
    "scrolled": false
   },
   "outputs": [
    {
     "data": {
      "image/png": "[encoded data removed]",
      "text/plain": [
       "<IPython.core.display.Image object>"
      ]
     },
     "execution_count": 10,
     "metadata": {},
     "output_type": "execute_result"
    }
   ],
   "source": [
    "%%circuitikz filename=circuit2 dpi=175 options=american folder=circuits/college4/ replace=false\n",
    "\n",
    "\\begin{circuitikz}\n",
    "      \\draw (0,0)\n",
    "      to[V,v=$U_i\\text{$=$}10~V$] (0,4) \n",
    "      to[R, l_=$R_4\\text{$=$}4~\\Omega$] (3,4)\n",
    "      to [R, l=$R_3\\text{$=$}3~\\Omega$] (3,2)\n",
    "      to [R, l=$R_2\\text{$=$}2~\\Omega$] (3,0)\n",
    "      to[short] (0,0) \n",
    "      \n",
    "      (3,4) to[R, l_=$R_1\\text{$=$}1~\\Omega$,-o] (6,4) node[label={[font=\\footnotesize]right:$A$}] {}\n",
    "      (3,0) to[short,-o] (6,0) node[label={[font=\\footnotesize]right:$B$}] {}\n",
    "      ;\n",
    "      \\draw\n",
    "      [red] (6,4) to[R, l=$R_L$,color=red] (6,0)\n",
    "      ;\n",
    "        \n",
    "      %\\begin{scope}[xshift=8cm,on grid]  \n",
    "      %\\node (a) at (0,0) {a1};  \n",
    "      %\\node[above right= 1cm and 2cm of a] (b) {b1};\n",
    "      %\\draw (a) |- (b);\n",
    "      %\\end{scope}\n",
    "    \n",
    "      %\\draw[>=angle 45,->,blue,shorten <=1mm, shorten >=1mm] (7,2) -- (8,4);\n",
    "      \\draw[->,blue,line width=3pt] (7,2) -- (8,3);\n",
    "      \\draw[->,blue,line width=3pt] (7,2) -- (8,1);\n",
    "      \\draw[<->,blue,line width=3pt] (10.5,1.5) -- (10.5,2.5);  \n",
    "    \n",
    "      \\begin{scope}[xshift=9cm,yshift=3cm,on grid] \n",
    "      \\draw (0,0)\n",
    "      to[V,v=$U_{th}$] (0,2) \n",
    "      to[R, l_=$R_{eq}$,-o] (3,2)\n",
    "      (0,0) to[short,-o] (3,0);\n",
    "      \\draw\n",
    "      [red] (3,2) to[R, l=$R_L$,color=red] (3,0)\n",
    "      ;\n",
    "      \\end{scope}\n",
    "        \n",
    "        \n",
    "      \\begin{scope}[xshift=9cm,yshift=-1cm,on grid] \n",
    "      \\draw (0,0)\n",
    "      to[I,i=$I_{no}$] (0,2)\n",
    "      to[short,-o] (3,2)\n",
    "      (1,2) to[R, l^=$R_{eq}$] (1,0)\n",
    "      (0,0) to[short,-o] (3,0);\n",
    "      \\draw\n",
    "      [red] (3,2) to[R, l=$R_L$,color=red] (3,0)\n",
    "      ;\n",
    "      \\end{scope}\n",
    "\\end{circuitikz}"
   ]
  },
  {
   "cell_type": "markdown",
   "metadata": {},
   "source": [
    "### De Thévenin en Norton circuits zijn uitwisselbaar: $U_{th} = I_{no} \\cdot R_{eq}$ !!!"
   ]
  },
  {
   "cell_type": "markdown",
   "metadata": {},
   "source": [
    ">De open klemspanning $U_{th}$ wordt bepaald door het **weggelaten van $R_L$** en te kijken welke spanning er over **zou** staan, in dit geval $U_{AB}$.\n",
    "\n",
    "De de **open klemspanning tussen punt A en B** bepalen:\n",
    "![uitgangsWeerstand](circuits/college4/circuit5.png)\n",
    "\n",
    "\\begin{align}\n",
    "U_{th} = U_{AB} & = \\frac{R_2+R_3}{R_2+R_3+R_4} \\cdot U_i \\\\\n",
    "& = \\frac{5}{9} \\cdot 10 \\\\\n",
    "& = 5 + \\frac{5}{9}~V\n",
    "\\end{align}"
   ]
  },
  {
   "cell_type": "markdown",
   "metadata": {},
   "source": [
    ">Voor het bepalen van de inwendige weerstand of impedantie wordt gekeken vanaf de **belastingskant** het circuit in. Wederom wordt de **belasting $R_L$ weglaten**, worden **spanningsbronnen kortgesloten en stoombronnen open verbindingen**. \n",
    "\n",
    "Dus de **weerstand tussen punt A en B** bepalen:\n",
    "![uitgangsWeerstand](circuits/college4/circuit3.png)\n",
    "\n",
    "Geeft:"
   ]
  },
  {
   "cell_type": "markdown",
   "metadata": {},
   "source": [
    "\\begin{align}\n",
    "R_{th} = R_{AB} & = \\left(R_4~||~\\left(R_2+R_3\\right)\\right) + R_1 \\\\\n",
    "& = \\frac{(R_2+R_3) \\cdot R_4}{R_2+R_3+R_4} + R_1 \\\\\n",
    "& = \\frac{(2+3) \\cdot 4}{2+3+4} + 1 \\\\\n",
    "& = \\frac{20}{9}+1 \\\\\n",
    "& = 3+\\frac{2}{9}~\\Omega\n",
    "\\end{align}"
   ]
  },
  {
   "cell_type": "markdown",
   "metadata": {},
   "source": [
    ">Voor de kortsluitstroom $U_{i}$ wordt bepaald door het **weggelaten door kortsluiten van $R_L$** en te kijken welke stroom er **zou** lopen indien, in dit geval de stroom door $R_1$, dan geldt:\n",
    "\n",
    "Dus de **kortsluitstroom bepalen** bepalen:\n",
    "![uitgangsWeerstand](circuits/college4/circuit4.png)\n",
    "\n",
    "Geeft:"
   ]
  },
  {
   "cell_type": "markdown",
   "metadata": {},
   "source": [
    "\\begin{align}\n",
    "I_{no} = I_{sc} & = \\frac{U_{R_2+R_3}}{R_1} \\\\\n",
    "& = \\frac{\\frac{R_1~||~(R_2+R_3)}{\\left(R_1~||~(R_2+R_3)\\right)+R4} \\cdot U_i}{R_1} \\\\\n",
    "& = \\frac{\\frac{\\frac{5}{6}}{\\frac{5}{6}+4} \\cdot 10}{1} \\\\\n",
    "& = \\frac{50}{29} \\\\\n",
    "& = 1 + \\frac{21}{29}~A\n",
    "\\end{align}"
   ]
  },
  {
   "cell_type": "code",
   "execution_count": 11,
   "metadata": {
    "collapsed": false
   },
   "outputs": [
    {
     "name": "stdout",
     "output_type": "stream",
     "text": [
      "Isc . Req = 5.555555555555555\n",
      "Uth = 5.555555555555555\n"
     ]
    }
   ],
   "source": [
    "#Controle via calculator:\n",
    "Isc = 1+21/29\n",
    "Req = 3+2/9\n",
    "\n",
    "print('Isc . Req = ' + str(Isc*Req))\n",
    "print('Uth = ' + str(5+5/9))\n"
   ]
  },
  {
   "cell_type": "markdown",
   "metadata": {},
   "source": [
    "-----"
   ]
  },
  {
   "cell_type": "markdown",
   "metadata": {},
   "source": [
    "## En nu zelf, uiterlijk voor het weekend indienen via SOCRATIVE (HKO09) :"
   ]
  },
  {
   "cell_type": "markdown",
   "metadata": {},
   "source": [
    "![week4Q1](figures/week4Q1.png)\n",
    "1) Bereken $V_3$ met de wetten van Kirchhoff"
   ]
  },
  {
   "cell_type": "markdown",
   "metadata": {},
   "source": [
    "----"
   ]
  },
  {
   "cell_type": "markdown",
   "metadata": {},
   "source": [
    "![week4Q1](figures/week4Q2.png)\n",
    "2) Bereken $V_2$ met behulp van Superpositie"
   ]
  },
  {
   "cell_type": "markdown",
   "metadata": {},
   "source": [
    "----"
   ]
  },
  {
   "cell_type": "markdown",
   "metadata": {},
   "source": [
    "![week4Q1](figures/week4Q3.png)\n",
    "3) Bepaal het Thévenin equivalent, Bereken $U_{PQ}$ indien de schakeling belast wordt met $\\frac{8}{15}~\\Omega$"
   ]
  },
  {
   "cell_type": "markdown",
   "metadata": {},
   "source": [
    "----"
   ]
  },
  {
   "cell_type": "markdown",
   "metadata": {},
   "source": [
    "![week4Q1](figures/week4Q4.png)\n",
    "4) Bepaal de vervangingsweerstand tussen punt A en B"
   ]
  },
  {
   "cell_type": "markdown",
   "metadata": {},
   "source": [
    "---"
   ]
  },
  {
   "cell_type": "markdown",
   "metadata": {},
   "source": [
    "5+6)\n",
    "![week4Q1](figures/week4Q5.png)"
   ]
  },
  {
   "cell_type": "markdown",
   "metadata": {},
   "source": [
    "---"
   ]
  },
  {
   "cell_type": "markdown",
   "metadata": {},
   "source": [
    "7)\n",
    "![week4Q1](figures/week4Q6.png)"
   ]
  },
  {
   "cell_type": "markdown",
   "metadata": {},
   "source": [
    "----"
   ]
  },
  {
   "cell_type": "markdown",
   "metadata": {
    "collapsed": true
   },
   "source": [
    "## Extra links:\n",
    "\n",
    "- [Pearson Floyd](https://media.pearsoncmg.com/bc/abp/floyd/)"
   ]
  },
  {
   "cell_type": "markdown",
   "metadata": {},
   "source": [
    "--------------------"
   ]
  },
  {
   "cell_type": "markdown",
   "metadata": {
    "collapsed": true
   },
   "source": [
    "# $SUCCES = (Voorbereiding \\cdot Geluk)^{Motivatie}$"
   ]
  }
 ],
 "metadata": {
  "kernelspec": {
   "display_name": "Python 3",
   "language": "python",
   "name": "python3"
  },
  "language_info": {
   "codemirror_mode": {
    "name": "ipython",
    "version": 3
   },
   "file_extension": ".py",
   "mimetype": "text/x-python",
   "name": "python",
   "nbconvert_exporter": "python",
   "pygments_lexer": "ipython3",
   "version": "3.5.1"
  }
 },
 "nbformat": 4,
 "nbformat_minor": 0
}
