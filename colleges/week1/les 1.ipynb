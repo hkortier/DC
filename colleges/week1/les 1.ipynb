{
 "cells": [
  {
   "cell_type": "code",
   "execution_count": 1,
   "metadata": {
    "collapsed": false
   },
   "outputs": [],
   "source": [
    "%matplotlib notebook"
   ]
  },
  {
   "cell_type": "code",
   "execution_count": 4,
   "metadata": {
    "collapsed": false,
    "scrolled": true
   },
   "outputs": [],
   "source": [
    "import numpy as np\n",
    "import scipy as sp\n",
    "import sympy as sym\n",
    "import matplotlib.pyplot as plt\n",
    "import sympy as smp\n",
    "import seaborn as sns"
   ]
  },
  {
   "cell_type": "code",
   "execution_count": 5,
   "metadata": {
    "collapsed": false
   },
   "outputs": [],
   "source": [
    "#import os\n",
    "#os.getcwd() "
   ]
  },
  {
   "cell_type": "code",
   "execution_count": 6,
   "metadata": {
    "collapsed": false
   },
   "outputs": [
    {
     "name": "stdout",
     "output_type": "stream",
     "text": [
      "Installed circuitikz.py. To use it, type:\n",
      "  %load_ext circuitikz\n"
     ]
    },
    {
     "name": "stderr",
     "output_type": "stream",
     "text": [
      "/Users/henkkortier/miniconda3/lib/python3.4/site-packages/IPython/core/magics/extension.py:47: UserWarning: %install_ext` is deprecated, please distribute your extension(s)as a python packages.\n",
      "  \"as a python packages.\", UserWarning)\n"
     ]
    }
   ],
   "source": [
    "#import sys\n",
    "#sys.path.append('D:\\Dropbox\\python\\ipython-circuitikz')\n",
    "%install_ext circuitikz.py"
   ]
  },
  {
   "cell_type": "code",
   "execution_count": 7,
   "metadata": {
    "collapsed": true
   },
   "outputs": [],
   "source": [
    "%reload_ext circuitikz"
   ]
  },
  {
   "cell_type": "markdown",
   "metadata": {},
   "source": [
    "--------"
   ]
  },
  {
   "cell_type": "markdown",
   "metadata": {
    "slideshow": {
     "slide_type": "-"
    }
   },
   "source": [
    "# Electrische circuits DC "
   ]
  },
  {
   "cell_type": "markdown",
   "metadata": {},
   "source": [
    "----------------"
   ]
  },
  {
   "cell_type": "markdown",
   "metadata": {
    "slideshow": {
     "slide_type": "-"
    }
   },
   "source": [
    "Raadpleeg blackboard voor informatie \n",
    "[https://leren.saxion.nl](https://leren.saxion.nl/webapps/portal/execute/tabs/tabAction?tabId=_61640_1&tab_tab_group_id=_898_1) :\n",
    "- moduleomschrijving\n",
    "- presentatiemateriaal\n",
    "\n",
    "Materiaal:\n",
    "- Principles of electric circuits (conventional current version) Floyd (9th edition)\n",
    "\n",
    "Toetsing:\n",
    "- oefentoets halverwege\n",
    "- schriftelijke eindtoets, zie de module omschrijving voor de inhoud\n",
    "\n",
    "Docenten:\n",
    "- Henk Kortier (hko09) h.g.kortier@saxion.nl\n",
    "- Erwin Bouwmeester (bue) e.bouwmeester@saxion.nl\n",
    "- Everaerd Aendekerk (eae01) e.j.m.aendekerk@saxion.nl\n",
    "\n",
    "Docentenwerkplek:\n",
    "- W2.07\n",
    "- Inloopuur hko09 elke maandag (12.30 - 13.15) zie rooster voor locatie"
   ]
  },
  {
   "cell_type": "markdown",
   "metadata": {},
   "source": [
    "## Inhoud:\n",
    "\n",
    "- Chapter 2: Voltage, Current, Resistance\n",
    "- Chapter 3: Ohm's Law\n",
    "- Chapter 4: Energy and Power\n",
    "- Chapter 5: Series Circuits\n",
    "- Chapter 6: Parallel Circuits\n",
    "- Chapter 7: Series-Parallel Circuits\n",
    "- Chapter 8: Circuit theorem and Conversions\n",
    "- Chatper 12: Capacitors\n",
    "- Chapter 13: Inductors"
   ]
  },
  {
   "cell_type": "markdown",
   "metadata": {},
   "source": [
    "# Chapter 2: Voltage, Current and Resistance (p. 22)"
   ]
  },
  {
   "cell_type": "markdown",
   "metadata": {},
   "source": [
    "opgaven: 3,6,9,13,16,20,21,23,25,30,32,33,39,42,45,46"
   ]
  },
  {
   "cell_type": "markdown",
   "metadata": {},
   "source": [
    "## 2.2: Electric charge (p. 27)\n",
    "\n",
    "[Sparkfun: What is electricity](https://learn.sparkfun.com/tutorials/what-is-electricity)"
   ]
  },
  {
   "cell_type": "markdown",
   "metadata": {},
   "source": [
    "1 elektron heeft de (elementaire) lading van:\n",
    "\n",
    "\\begin{equation}\n",
    "q = 1.6\\cdot10^{-19} C\n",
    "\\end{equation}"
   ]
  },
  {
   "cell_type": "markdown",
   "metadata": {},
   "source": [
    "![Copper atom](https://upload.wikimedia.org/wikipedia/commons/f/f9/Electron_shell_029_Copper.svg)"
   ]
  },
  {
   "cell_type": "code",
   "execution_count": 8,
   "metadata": {
    "collapsed": false
   },
   "outputs": [
    {
     "name": "stdout",
     "output_type": "stream",
     "text": [
      "6.25e+18\n"
     ]
    }
   ],
   "source": [
    "# Het aantal electronen benodigd voor 1C lading is dus:\n",
    "\n",
    "q = 1.6e-19 #q = elementaire lading soms wordt daar e voor gebruikt\n",
    "Q = 1/q  #Q = totale lading\n",
    "print(Q)"
   ]
  },
  {
   "cell_type": "markdown",
   "metadata": {},
   "source": [
    "## 2.3: Voltage\n",
    "[Water analogy](http://theengineeringmindset.com/what-is-voltage/)"
   ]
  },
  {
   "cell_type": "markdown",
   "metadata": {},
   "source": [
    "Spanning (V) = Energie (W) per Lading (Q) oftewel:\n",
    "\n",
    "$V~[V] = \\dfrac{\\delta W~[J]}{\\delta Q~[C]}$\n",
    "\n",
    "analogie met water:"
   ]
  },
  {
   "cell_type": "markdown",
   "metadata": {},
   "source": [
    "## 2.4: Current "
   ]
  },
  {
   "cell_type": "markdown",
   "metadata": {},
   "source": [
    "Stoom (I) = Lading (Q) per Tijd (t)\n",
    "\n",
    "$I~[A] = \\dfrac{\\delta Q~[C]}{\\delta t~[s]}$"
   ]
  },
  {
   "cell_type": "markdown",
   "metadata": {},
   "source": [
    "## 2.5: Resistance "
   ]
  },
  {
   "cell_type": "markdown",
   "metadata": {},
   "source": [
    "Geleiding is omgekeerd evenredig met de weerstand:\n",
    "\n",
    "$G~[S]=\\dfrac{1}{R~[\\Omega]}$"
   ]
  },
  {
   "cell_type": "markdown",
   "metadata": {},
   "source": [
    "## 2.6 The electric circuit "
   ]
  },
  {
   "cell_type": "code",
   "execution_count": 32,
   "metadata": {
    "collapsed": false
   },
   "outputs": [
    {
     "data": {
      "image/png": "[encoded data removed]",
      "text/plain": [
       "<IPython.core.display.Image object>"
      ]
     },
     "execution_count": 32,
     "metadata": {},
     "output_type": "execute_result"
    }
   ],
   "source": [
    "# US convention\n",
    "\n",
    "%%circuitikz filename=circuit1AM dpi=200 options=american\n",
    "\n",
    "\\begin{circuitikz}\n",
    "      \\draw (0,0)\n",
    "      to[V,v=$U_1$] (0,3) \n",
    "      to[short] (3,3)\n",
    "      to [R, l=$R_1$, v=$U_{R_1}$, i = $I_1$] (3,0)\n",
    "      to[short] (0,0) \n",
    "\\end{circuitikz}"
   ]
  },
  {
   "cell_type": "code",
   "execution_count": 33,
   "metadata": {
    "collapsed": false
   },
   "outputs": [
    {
     "data": {
      "image/png": "[encoded data removed]",
      "text/plain": [
       "<IPython.core.display.Image object>"
      ]
     },
     "execution_count": 33,
     "metadata": {},
     "output_type": "execute_result"
    }
   ],
   "source": [
    "# European convention\n",
    "\n",
    "%%circuitikz filename=circuit1EU dpi=200 options=european\n",
    "\n",
    "\\begin{circuitikz}\n",
    "      \\draw (0,0)\n",
    "      to[V,v=$U_1$] (0,3) \n",
    "      to[short] (3,3)\n",
    "      to [R, l=$R_1$, v=$U_{R_1}$, i = $I_1$] (3,0)\n",
    "      to[short] (0,0) \n",
    "\\end{circuitikz}"
   ]
  },
  {
   "cell_type": "markdown",
   "metadata": {},
   "source": [
    "# Chapter 3: Ohm's Law"
   ]
  },
  {
   "cell_type": "markdown",
   "metadata": {},
   "source": [
    "opgaven: 5,6,7,10,18,19,24,28,33,39"
   ]
  },
  {
   "cell_type": "markdown",
   "metadata": {},
   "source": [
    "### Ohm's law:\n",
    "\n",
    "$\n",
    "U = I \\cdot R ,\\hspace{1cm} I = \\dfrac{U}{R} ,\\hspace{1cm} R = \\dfrac{U}{I}\n",
    "$"
   ]
  },
  {
   "cell_type": "markdown",
   "metadata": {},
   "source": [
    "![VIRP](https://upload.wikimedia.org/wikipedia/commons/f/fb/Ohm%27s_law_triangle.svg)"
   ]
  },
  {
   "cell_type": "markdown",
   "metadata": {},
   "source": [
    "### Power:\n",
    "\n",
    "$\n",
    "P=U \\cdot I,\\hspace{1cm} P = \\dfrac{U^2}{R} ,\\hspace{1cm} P = I^2 \\cdot R\n",
    "$"
   ]
  },
  {
   "cell_type": "markdown",
   "metadata": {},
   "source": [
    "Passive Sign Convention (PSC)\n",
    "\n",
    "\n",
    "- De stroom komt op de positieve terminal een element binnen. Het element verbruikt vermogen.\n",
    "- De stroom komt op de negatieve terminal een element binnen. Het element levert vermogen."
   ]
  },
  {
   "cell_type": "markdown",
   "metadata": {},
   "source": [
    "Electric load (verbruikt) | Electric source (levert)\n",
    "------------ | -------------\n",
    "<img src=\"https://upload.wikimedia.org/wikipedia/commons/2/2f/Electric_load_animation.gif\"> | <img src=\"https://upload.wikimedia.org/wikipedia/commons/9/98/Electric_power_source_animation.gif\">\n"
   ]
  },
  {
   "cell_type": "code",
   "execution_count": 34,
   "metadata": {
    "collapsed": false
   },
   "outputs": [],
   "source": [
    "from IPython.html.widgets import interact, interactive, fixed\n",
    "from IPython.html import widgets\n",
    "\n",
    "#Voorbeeld spanning-stroom curve van een weerstand van 2 Ohm"
   ]
  },
  {
   "cell_type": "code",
   "execution_count": 37,
   "metadata": {
    "collapsed": false
   },
   "outputs": [
    {
     "data": {
      "application/javascript": [
       "/* Put everything inside the global mpl namespace */\n",
       "window.mpl = {};\n",
       "\n",
       "mpl.get_websocket_type = function() {\n",
       "    if (typeof(WebSocket) !== 'undefined') {\n",
       "        return WebSocket;\n",
       "    } else if (typeof(MozWebSocket) !== 'undefined') {\n",
       "        return MozWebSocket;\n",
       "    } else {\n",
       "        alert('Your browser does not have WebSocket support.' +\n",
       "              'Please try Chrome, Safari or Firefox ≥ 6. ' +\n",
       "              'Firefox 4 and 5 are also supported but you ' +\n",
       "              'have to enable WebSockets in about:config.');\n",
       "    };\n",
       "}\n",
       "\n",
       "mpl.figure = function(figure_id, websocket, ondownload, parent_element) {\n",
       "    this.id = figure_id;\n",
       "\n",
       "    this.ws = websocket;\n",
       "\n",
       "    this.supports_binary = (this.ws.binaryType != undefined);\n",
       "\n",
       "    if (!this.supports_binary) {\n",
       "        var warnings = document.getElementById(\"mpl-warnings\");\n",
       "        if (warnings) {\n",
       "            warnings.style.display = 'block';\n",
       "            warnings.textContent = (\n",
       "                \"This browser does not support binary websocket messages. \" +\n",
       "                    \"Performance may be slow.\");\n",
       "        }\n",
       "    }\n",
       "\n",
       "    this.imageObj = new Image();\n",
       "\n",
       "    this.context = undefined;\n",
       "    this.message = undefined;\n",
       "    this.canvas = undefined;\n",
       "    this.rubberband_canvas = undefined;\n",
       "    this.rubberband_context = undefined;\n",
       "    this.format_dropdown = undefined;\n",
       "\n",
       "    this.image_mode = 'full';\n",
       "\n",
       "    this.root = $('<div/>');\n",
       "    this._root_extra_style(this.root)\n",
       "    this.root.attr('style', 'display: inline-block');\n",
       "\n",
       "    $(parent_element).append(this.root);\n",
       "\n",
       "    this._init_header(this);\n",
       "    this._init_canvas(this);\n",
       "    this._init_toolbar(this);\n",
       "\n",
       "    var fig = this;\n",
       "\n",
       "    this.waiting = false;\n",
       "\n",
       "    this.ws.onopen =  function () {\n",
       "            fig.send_message(\"supports_binary\", {value: fig.supports_binary});\n",
       "            fig.send_message(\"send_image_mode\", {});\n",
       "            fig.send_message(\"refresh\", {});\n",
       "        }\n",
       "\n",
       "    this.imageObj.onload = function() {\n",
       "            if (fig.image_mode == 'full') {\n",
       "                // Full images could contain transparency (where diff images\n",
       "                // almost always do), so we need to clear the canvas so that\n",
       "                // there is no ghosting.\n",
       "                fig.context.clearRect(0, 0, fig.canvas.width, fig.canvas.height);\n",
       "            }\n",
       "            fig.context.drawImage(fig.imageObj, 0, 0);\n",
       "        };\n",
       "\n",
       "    this.imageObj.onunload = function() {\n",
       "        this.ws.close();\n",
       "    }\n",
       "\n",
       "    this.ws.onmessage = this._make_on_message_function(this);\n",
       "\n",
       "    this.ondownload = ondownload;\n",
       "}\n",
       "\n",
       "mpl.figure.prototype._init_header = function() {\n",
       "    var titlebar = $(\n",
       "        '<div class=\"ui-dialog-titlebar ui-widget-header ui-corner-all ' +\n",
       "        'ui-helper-clearfix\"/>');\n",
       "    var titletext = $(\n",
       "        '<div class=\"ui-dialog-title\" style=\"width: 100%; ' +\n",
       "        'text-align: center; padding: 3px;\"/>');\n",
       "    titlebar.append(titletext)\n",
       "    this.root.append(titlebar);\n",
       "    this.header = titletext[0];\n",
       "}\n",
       "\n",
       "\n",
       "\n",
       "mpl.figure.prototype._canvas_extra_style = function(canvas_div) {\n",
       "\n",
       "}\n",
       "\n",
       "\n",
       "mpl.figure.prototype._root_extra_style = function(canvas_div) {\n",
       "\n",
       "}\n",
       "\n",
       "mpl.figure.prototype._init_canvas = function() {\n",
       "    var fig = this;\n",
       "\n",
       "    var canvas_div = $('<div/>');\n",
       "\n",
       "    canvas_div.attr('style', 'position: relative; clear: both; outline: 0');\n",
       "\n",
       "    function canvas_keyboard_event(event) {\n",
       "        return fig.key_event(event, event['data']);\n",
       "    }\n",
       "\n",
       "    canvas_div.keydown('key_press', canvas_keyboard_event);\n",
       "    canvas_div.keyup('key_release', canvas_keyboard_event);\n",
       "    this.canvas_div = canvas_div\n",
       "    this._canvas_extra_style(canvas_div)\n",
       "    this.root.append(canvas_div);\n",
       "\n",
       "    var canvas = $('<canvas/>');\n",
       "    canvas.addClass('mpl-canvas');\n",
       "    canvas.attr('style', \"left: 0; top: 0; z-index: 0; outline: 0\")\n",
       "\n",
       "    this.canvas = canvas[0];\n",
       "    this.context = canvas[0].getContext(\"2d\");\n",
       "\n",
       "    var rubberband = $('<canvas/>');\n",
       "    rubberband.attr('style', \"position: absolute; left: 0; top: 0; z-index: 1;\")\n",
       "\n",
       "    var pass_mouse_events = true;\n",
       "\n",
       "    canvas_div.resizable({\n",
       "        start: function(event, ui) {\n",
       "            pass_mouse_events = false;\n",
       "        },\n",
       "        resize: function(event, ui) {\n",
       "            fig.request_resize(ui.size.width, ui.size.height);\n",
       "        },\n",
       "        stop: function(event, ui) {\n",
       "            pass_mouse_events = true;\n",
       "            fig.request_resize(ui.size.width, ui.size.height);\n",
       "        },\n",
       "    });\n",
       "\n",
       "    function mouse_event_fn(event) {\n",
       "        if (pass_mouse_events)\n",
       "            return fig.mouse_event(event, event['data']);\n",
       "    }\n",
       "\n",
       "    rubberband.mousedown('button_press', mouse_event_fn);\n",
       "    rubberband.mouseup('button_release', mouse_event_fn);\n",
       "    // Throttle sequential mouse events to 1 every 20ms.\n",
       "    rubberband.mousemove('motion_notify', mouse_event_fn);\n",
       "\n",
       "    rubberband.mouseenter('figure_enter', mouse_event_fn);\n",
       "    rubberband.mouseleave('figure_leave', mouse_event_fn);\n",
       "\n",
       "    canvas_div.on(\"wheel\", function (event) {\n",
       "        event = event.originalEvent;\n",
       "        event['data'] = 'scroll'\n",
       "        if (event.deltaY < 0) {\n",
       "            event.step = 1;\n",
       "        } else {\n",
       "            event.step = -1;\n",
       "        }\n",
       "        mouse_event_fn(event);\n",
       "    });\n",
       "\n",
       "    canvas_div.append(canvas);\n",
       "    canvas_div.append(rubberband);\n",
       "\n",
       "    this.rubberband = rubberband;\n",
       "    this.rubberband_canvas = rubberband[0];\n",
       "    this.rubberband_context = rubberband[0].getContext(\"2d\");\n",
       "    this.rubberband_context.strokeStyle = \"#000000\";\n",
       "\n",
       "    this._resize_canvas = function(width, height) {\n",
       "        // Keep the size of the canvas, canvas container, and rubber band\n",
       "        // canvas in synch.\n",
       "        canvas_div.css('width', width)\n",
       "        canvas_div.css('height', height)\n",
       "\n",
       "        canvas.attr('width', width);\n",
       "        canvas.attr('height', height);\n",
       "\n",
       "        rubberband.attr('width', width);\n",
       "        rubberband.attr('height', height);\n",
       "    }\n",
       "\n",
       "    // Set the figure to an initial 600x600px, this will subsequently be updated\n",
       "    // upon first draw.\n",
       "    this._resize_canvas(600, 600);\n",
       "\n",
       "    // Disable right mouse context menu.\n",
       "    $(this.rubberband_canvas).bind(\"contextmenu\",function(e){\n",
       "        return false;\n",
       "    });\n",
       "\n",
       "    function set_focus () {\n",
       "        canvas.focus();\n",
       "        canvas_div.focus();\n",
       "    }\n",
       "\n",
       "    window.setTimeout(set_focus, 100);\n",
       "}\n",
       "\n",
       "mpl.figure.prototype._init_toolbar = function() {\n",
       "    var fig = this;\n",
       "\n",
       "    var nav_element = $('<div/>')\n",
       "    nav_element.attr('style', 'width: 100%');\n",
       "    this.root.append(nav_element);\n",
       "\n",
       "    // Define a callback function for later on.\n",
       "    function toolbar_event(event) {\n",
       "        return fig.toolbar_button_onclick(event['data']);\n",
       "    }\n",
       "    function toolbar_mouse_event(event) {\n",
       "        return fig.toolbar_button_onmouseover(event['data']);\n",
       "    }\n",
       "\n",
       "    for(var toolbar_ind in mpl.toolbar_items) {\n",
       "        var name = mpl.toolbar_items[toolbar_ind][0];\n",
       "        var tooltip = mpl.toolbar_items[toolbar_ind][1];\n",
       "        var image = mpl.toolbar_items[toolbar_ind][2];\n",
       "        var method_name = mpl.toolbar_items[toolbar_ind][3];\n",
       "\n",
       "        if (!name) {\n",
       "            // put a spacer in here.\n",
       "            continue;\n",
       "        }\n",
       "        var button = $('<button/>');\n",
       "        button.addClass('ui-button ui-widget ui-state-default ui-corner-all ' +\n",
       "                        'ui-button-icon-only');\n",
       "        button.attr('role', 'button');\n",
       "        button.attr('aria-disabled', 'false');\n",
       "        button.click(method_name, toolbar_event);\n",
       "        button.mouseover(tooltip, toolbar_mouse_event);\n",
       "\n",
       "        var icon_img = $('<span/>');\n",
       "        icon_img.addClass('ui-button-icon-primary ui-icon');\n",
       "        icon_img.addClass(image);\n",
       "        icon_img.addClass('ui-corner-all');\n",
       "\n",
       "        var tooltip_span = $('<span/>');\n",
       "        tooltip_span.addClass('ui-button-text');\n",
       "        tooltip_span.html(tooltip);\n",
       "\n",
       "        button.append(icon_img);\n",
       "        button.append(tooltip_span);\n",
       "\n",
       "        nav_element.append(button);\n",
       "    }\n",
       "\n",
       "    var fmt_picker_span = $('<span/>');\n",
       "\n",
       "    var fmt_picker = $('<select/>');\n",
       "    fmt_picker.addClass('mpl-toolbar-option ui-widget ui-widget-content');\n",
       "    fmt_picker_span.append(fmt_picker);\n",
       "    nav_element.append(fmt_picker_span);\n",
       "    this.format_dropdown = fmt_picker[0];\n",
       "\n",
       "    for (var ind in mpl.extensions) {\n",
       "        var fmt = mpl.extensions[ind];\n",
       "        var option = $(\n",
       "            '<option/>', {selected: fmt === mpl.default_extension}).html(fmt);\n",
       "        fmt_picker.append(option)\n",
       "    }\n",
       "\n",
       "    // Add hover states to the ui-buttons\n",
       "    $( \".ui-button\" ).hover(\n",
       "        function() { $(this).addClass(\"ui-state-hover\");},\n",
       "        function() { $(this).removeClass(\"ui-state-hover\");}\n",
       "    );\n",
       "\n",
       "    var status_bar = $('<span class=\"mpl-message\"/>');\n",
       "    nav_element.append(status_bar);\n",
       "    this.message = status_bar[0];\n",
       "}\n",
       "\n",
       "mpl.figure.prototype.request_resize = function(x_pixels, y_pixels) {\n",
       "    // Request matplotlib to resize the figure. Matplotlib will then trigger a resize in the client,\n",
       "    // which will in turn request a refresh of the image.\n",
       "    this.send_message('resize', {'width': x_pixels, 'height': y_pixels});\n",
       "}\n",
       "\n",
       "mpl.figure.prototype.send_message = function(type, properties) {\n",
       "    properties['type'] = type;\n",
       "    properties['figure_id'] = this.id;\n",
       "    this.ws.send(JSON.stringify(properties));\n",
       "}\n",
       "\n",
       "mpl.figure.prototype.send_draw_message = function() {\n",
       "    if (!this.waiting) {\n",
       "        this.waiting = true;\n",
       "        this.ws.send(JSON.stringify({type: \"draw\", figure_id: this.id}));\n",
       "    }\n",
       "}\n",
       "\n",
       "\n",
       "mpl.figure.prototype.handle_save = function(fig, msg) {\n",
       "    var format_dropdown = fig.format_dropdown;\n",
       "    var format = format_dropdown.options[format_dropdown.selectedIndex].value;\n",
       "    fig.ondownload(fig, format);\n",
       "}\n",
       "\n",
       "\n",
       "mpl.figure.prototype.handle_resize = function(fig, msg) {\n",
       "    var size = msg['size'];\n",
       "    if (size[0] != fig.canvas.width || size[1] != fig.canvas.height) {\n",
       "        fig._resize_canvas(size[0], size[1]);\n",
       "        fig.send_message(\"refresh\", {});\n",
       "    };\n",
       "}\n",
       "\n",
       "mpl.figure.prototype.handle_rubberband = function(fig, msg) {\n",
       "    var x0 = msg['x0'];\n",
       "    var y0 = fig.canvas.height - msg['y0'];\n",
       "    var x1 = msg['x1'];\n",
       "    var y1 = fig.canvas.height - msg['y1'];\n",
       "    x0 = Math.floor(x0) + 0.5;\n",
       "    y0 = Math.floor(y0) + 0.5;\n",
       "    x1 = Math.floor(x1) + 0.5;\n",
       "    y1 = Math.floor(y1) + 0.5;\n",
       "    var min_x = Math.min(x0, x1);\n",
       "    var min_y = Math.min(y0, y1);\n",
       "    var width = Math.abs(x1 - x0);\n",
       "    var height = Math.abs(y1 - y0);\n",
       "\n",
       "    fig.rubberband_context.clearRect(\n",
       "        0, 0, fig.canvas.width, fig.canvas.height);\n",
       "\n",
       "    fig.rubberband_context.strokeRect(min_x, min_y, width, height);\n",
       "}\n",
       "\n",
       "mpl.figure.prototype.handle_figure_label = function(fig, msg) {\n",
       "    // Updates the figure title.\n",
       "    fig.header.textContent = msg['label'];\n",
       "}\n",
       "\n",
       "mpl.figure.prototype.handle_cursor = function(fig, msg) {\n",
       "    var cursor = msg['cursor'];\n",
       "    switch(cursor)\n",
       "    {\n",
       "    case 0:\n",
       "        cursor = 'pointer';\n",
       "        break;\n",
       "    case 1:\n",
       "        cursor = 'default';\n",
       "        break;\n",
       "    case 2:\n",
       "        cursor = 'crosshair';\n",
       "        break;\n",
       "    case 3:\n",
       "        cursor = 'move';\n",
       "        break;\n",
       "    }\n",
       "    fig.rubberband_canvas.style.cursor = cursor;\n",
       "}\n",
       "\n",
       "mpl.figure.prototype.handle_message = function(fig, msg) {\n",
       "    fig.message.textContent = msg['message'];\n",
       "}\n",
       "\n",
       "mpl.figure.prototype.handle_draw = function(fig, msg) {\n",
       "    // Request the server to send over a new figure.\n",
       "    fig.send_draw_message();\n",
       "}\n",
       "\n",
       "mpl.figure.prototype.handle_image_mode = function(fig, msg) {\n",
       "    fig.image_mode = msg['mode'];\n",
       "}\n",
       "\n",
       "mpl.figure.prototype.updated_canvas_event = function() {\n",
       "    // Called whenever the canvas gets updated.\n",
       "    this.send_message(\"ack\", {});\n",
       "}\n",
       "\n",
       "// A function to construct a web socket function for onmessage handling.\n",
       "// Called in the figure constructor.\n",
       "mpl.figure.prototype._make_on_message_function = function(fig) {\n",
       "    return function socket_on_message(evt) {\n",
       "        if (evt.data instanceof Blob) {\n",
       "            /* FIXME: We get \"Resource interpreted as Image but\n",
       "             * transferred with MIME type text/plain:\" errors on\n",
       "             * Chrome.  But how to set the MIME type?  It doesn't seem\n",
       "             * to be part of the websocket stream */\n",
       "            evt.data.type = \"image/png\";\n",
       "\n",
       "            /* Free the memory for the previous frames */\n",
       "            if (fig.imageObj.src) {\n",
       "                (window.URL || window.webkitURL).revokeObjectURL(\n",
       "                    fig.imageObj.src);\n",
       "            }\n",
       "\n",
       "            fig.imageObj.src = (window.URL || window.webkitURL).createObjectURL(\n",
       "                evt.data);\n",
       "            fig.updated_canvas_event();\n",
       "            fig.waiting = false;\n",
       "            return;\n",
       "        }\n",
       "        else if (typeof evt.data === 'string' && evt.data.slice(0, 21) == \"data:image/png;base64\") {\n",
       "            fig.imageObj.src = evt.data;\n",
       "            fig.updated_canvas_event();\n",
       "            fig.waiting = false;\n",
       "            return;\n",
       "        }\n",
       "\n",
       "        var msg = JSON.parse(evt.data);\n",
       "        var msg_type = msg['type'];\n",
       "\n",
       "        // Call the  \"handle_{type}\" callback, which takes\n",
       "        // the figure and JSON message as its only arguments.\n",
       "        try {\n",
       "            var callback = fig[\"handle_\" + msg_type];\n",
       "        } catch (e) {\n",
       "            console.log(\"No handler for the '\" + msg_type + \"' message type: \", msg);\n",
       "            return;\n",
       "        }\n",
       "\n",
       "        if (callback) {\n",
       "            try {\n",
       "                // console.log(\"Handling '\" + msg_type + \"' message: \", msg);\n",
       "                callback(fig, msg);\n",
       "            } catch (e) {\n",
       "                console.log(\"Exception inside the 'handler_\" + msg_type + \"' callback:\", e, e.stack, msg);\n",
       "            }\n",
       "        }\n",
       "    };\n",
       "}\n",
       "\n",
       "// from http://stackoverflow.com/questions/1114465/getting-mouse-location-in-canvas\n",
       "mpl.findpos = function(e) {\n",
       "    //this section is from http://www.quirksmode.org/js/events_properties.html\n",
       "    var targ;\n",
       "    if (!e)\n",
       "        e = window.event;\n",
       "    if (e.target)\n",
       "        targ = e.target;\n",
       "    else if (e.srcElement)\n",
       "        targ = e.srcElement;\n",
       "    if (targ.nodeType == 3) // defeat Safari bug\n",
       "        targ = targ.parentNode;\n",
       "\n",
       "    // jQuery normalizes the pageX and pageY\n",
       "    // pageX,Y are the mouse positions relative to the document\n",
       "    // offset() returns the position of the element relative to the document\n",
       "    var x = e.pageX - $(targ).offset().left;\n",
       "    var y = e.pageY - $(targ).offset().top;\n",
       "\n",
       "    return {\"x\": x, \"y\": y};\n",
       "};\n",
       "\n",
       "/*\n",
       " * return a copy of an object with only non-object keys\n",
       " * we need this to avoid circular references\n",
       " * http://stackoverflow.com/a/24161582/3208463\n",
       " */\n",
       "function simpleKeys (original) {\n",
       "  return Object.keys(original).reduce(function (obj, key) {\n",
       "    if (typeof original[key] !== 'object')\n",
       "        obj[key] = original[key]\n",
       "    return obj;\n",
       "  }, {});\n",
       "}\n",
       "\n",
       "mpl.figure.prototype.mouse_event = function(event, name) {\n",
       "    var canvas_pos = mpl.findpos(event)\n",
       "\n",
       "    if (name === 'button_press')\n",
       "    {\n",
       "        this.canvas.focus();\n",
       "        this.canvas_div.focus();\n",
       "    }\n",
       "\n",
       "    var x = canvas_pos.x;\n",
       "    var y = canvas_pos.y;\n",
       "\n",
       "    this.send_message(name, {x: x, y: y, button: event.button,\n",
       "                             step: event.step,\n",
       "                             guiEvent: simpleKeys(event)});\n",
       "\n",
       "    /* This prevents the web browser from automatically changing to\n",
       "     * the text insertion cursor when the button is pressed.  We want\n",
       "     * to control all of the cursor setting manually through the\n",
       "     * 'cursor' event from matplotlib */\n",
       "    event.preventDefault();\n",
       "    return false;\n",
       "}\n",
       "\n",
       "mpl.figure.prototype._key_event_extra = function(event, name) {\n",
       "    // Handle any extra behaviour associated with a key event\n",
       "}\n",
       "\n",
       "mpl.figure.prototype.key_event = function(event, name) {\n",
       "\n",
       "    // Prevent repeat events\n",
       "    if (name == 'key_press')\n",
       "    {\n",
       "        if (event.which === this._key)\n",
       "            return;\n",
       "        else\n",
       "            this._key = event.which;\n",
       "    }\n",
       "    if (name == 'key_release')\n",
       "        this._key = null;\n",
       "\n",
       "    var value = '';\n",
       "    if (event.ctrlKey && event.which != 17)\n",
       "        value += \"ctrl+\";\n",
       "    if (event.altKey && event.which != 18)\n",
       "        value += \"alt+\";\n",
       "    if (event.shiftKey && event.which != 16)\n",
       "        value += \"shift+\";\n",
       "\n",
       "    value += 'k';\n",
       "    value += event.which.toString();\n",
       "\n",
       "    this._key_event_extra(event, name);\n",
       "\n",
       "    this.send_message(name, {key: value,\n",
       "                             guiEvent: simpleKeys(event)});\n",
       "    return false;\n",
       "}\n",
       "\n",
       "mpl.figure.prototype.toolbar_button_onclick = function(name) {\n",
       "    if (name == 'download') {\n",
       "        this.handle_save(this, null);\n",
       "    } else {\n",
       "        this.send_message(\"toolbar_button\", {name: name});\n",
       "    }\n",
       "};\n",
       "\n",
       "mpl.figure.prototype.toolbar_button_onmouseover = function(tooltip) {\n",
       "    this.message.textContent = tooltip;\n",
       "};\n",
       "mpl.toolbar_items = [[\"Home\", \"Reset original view\", \"fa fa-home icon-home\", \"home\"], [\"Back\", \"Back to  previous view\", \"fa fa-arrow-left icon-arrow-left\", \"back\"], [\"Forward\", \"Forward to next view\", \"fa fa-arrow-right icon-arrow-right\", \"forward\"], [\"\", \"\", \"\", \"\"], [\"Pan\", \"Pan axes with left mouse, zoom with right\", \"fa fa-arrows icon-move\", \"pan\"], [\"Zoom\", \"Zoom to rectangle\", \"fa fa-square-o icon-check-empty\", \"zoom\"], [\"\", \"\", \"\", \"\"], [\"Download\", \"Download plot\", \"fa fa-floppy-o icon-save\", \"download\"]];\n",
       "\n",
       "mpl.extensions = [\"eps\", \"jpeg\", \"pdf\", \"png\", \"ps\", \"raw\", \"svg\", \"tif\"];\n",
       "\n",
       "mpl.default_extension = \"png\";var comm_websocket_adapter = function(comm) {\n",
       "    // Create a \"websocket\"-like object which calls the given IPython comm\n",
       "    // object with the appropriate methods. Currently this is a non binary\n",
       "    // socket, so there is still some room for performance tuning.\n",
       "    var ws = {};\n",
       "\n",
       "    ws.close = function() {\n",
       "        comm.close()\n",
       "    };\n",
       "    ws.send = function(m) {\n",
       "        //console.log('sending', m);\n",
       "        comm.send(m);\n",
       "    };\n",
       "    // Register the callback with on_msg.\n",
       "    comm.on_msg(function(msg) {\n",
       "        //console.log('receiving', msg['content']['data'], msg);\n",
       "        // Pass the mpl event to the overriden (by mpl) onmessage function.\n",
       "        ws.onmessage(msg['content']['data'])\n",
       "    });\n",
       "    return ws;\n",
       "}\n",
       "\n",
       "mpl.mpl_figure_comm = function(comm, msg) {\n",
       "    // This is the function which gets called when the mpl process\n",
       "    // starts-up an IPython Comm through the \"matplotlib\" channel.\n",
       "\n",
       "    var id = msg.content.data.id;\n",
       "    // Get hold of the div created by the display call when the Comm\n",
       "    // socket was opened in Python.\n",
       "    var element = $(\"#\" + id);\n",
       "    var ws_proxy = comm_websocket_adapter(comm)\n",
       "\n",
       "    function ondownload(figure, format) {\n",
       "        window.open(figure.imageObj.src);\n",
       "    }\n",
       "\n",
       "    var fig = new mpl.figure(id, ws_proxy,\n",
       "                           ondownload,\n",
       "                           element.get(0));\n",
       "\n",
       "    // Call onopen now - mpl needs it, as it is assuming we've passed it a real\n",
       "    // web socket which is closed, not our websocket->open comm proxy.\n",
       "    ws_proxy.onopen();\n",
       "\n",
       "    fig.parent_element = element.get(0);\n",
       "    fig.cell_info = mpl.find_output_cell(\"<div id='\" + id + \"'></div>\");\n",
       "    if (!fig.cell_info) {\n",
       "        console.error(\"Failed to find cell for figure\", id, fig);\n",
       "        return;\n",
       "    }\n",
       "\n",
       "    var output_index = fig.cell_info[2]\n",
       "    var cell = fig.cell_info[0];\n",
       "\n",
       "};\n",
       "\n",
       "mpl.figure.prototype.handle_close = function(fig, msg) {\n",
       "    fig.root.unbind('remove')\n",
       "\n",
       "    // Update the output cell to use the data from the current canvas.\n",
       "    fig.push_to_output();\n",
       "    var dataURL = fig.canvas.toDataURL();\n",
       "    // Re-enable the keyboard manager in IPython - without this line, in FF,\n",
       "    // the notebook keyboard shortcuts fail.\n",
       "    IPython.keyboard_manager.enable()\n",
       "    $(fig.parent_element).html('<img src=\"' + dataURL + '\">');\n",
       "    fig.close_ws(fig, msg);\n",
       "}\n",
       "\n",
       "mpl.figure.prototype.close_ws = function(fig, msg){\n",
       "    fig.send_message('closing', msg);\n",
       "    // fig.ws.close()\n",
       "}\n",
       "\n",
       "mpl.figure.prototype.push_to_output = function(remove_interactive) {\n",
       "    // Turn the data on the canvas into data in the output cell.\n",
       "    var dataURL = this.canvas.toDataURL();\n",
       "    this.cell_info[1]['text/html'] = '<img src=\"' + dataURL + '\">';\n",
       "}\n",
       "\n",
       "mpl.figure.prototype.updated_canvas_event = function() {\n",
       "    // Tell IPython that the notebook contents must change.\n",
       "    IPython.notebook.set_dirty(true);\n",
       "    this.send_message(\"ack\", {});\n",
       "    var fig = this;\n",
       "    // Wait a second, then push the new image to the DOM so\n",
       "    // that it is saved nicely (might be nice to debounce this).\n",
       "    setTimeout(function () { fig.push_to_output() }, 1000);\n",
       "}\n",
       "\n",
       "mpl.figure.prototype._init_toolbar = function() {\n",
       "    var fig = this;\n",
       "\n",
       "    var nav_element = $('<div/>')\n",
       "    nav_element.attr('style', 'width: 100%');\n",
       "    this.root.append(nav_element);\n",
       "\n",
       "    // Define a callback function for later on.\n",
       "    function toolbar_event(event) {\n",
       "        return fig.toolbar_button_onclick(event['data']);\n",
       "    }\n",
       "    function toolbar_mouse_event(event) {\n",
       "        return fig.toolbar_button_onmouseover(event['data']);\n",
       "    }\n",
       "\n",
       "    for(var toolbar_ind in mpl.toolbar_items){\n",
       "        var name = mpl.toolbar_items[toolbar_ind][0];\n",
       "        var tooltip = mpl.toolbar_items[toolbar_ind][1];\n",
       "        var image = mpl.toolbar_items[toolbar_ind][2];\n",
       "        var method_name = mpl.toolbar_items[toolbar_ind][3];\n",
       "\n",
       "        if (!name) { continue; };\n",
       "\n",
       "        var button = $('<button class=\"btn btn-default\" href=\"#\" title=\"' + name + '\"><i class=\"fa ' + image + ' fa-lg\"></i></button>');\n",
       "        button.click(method_name, toolbar_event);\n",
       "        button.mouseover(tooltip, toolbar_mouse_event);\n",
       "        nav_element.append(button);\n",
       "    }\n",
       "\n",
       "    // Add the status bar.\n",
       "    var status_bar = $('<span class=\"mpl-message\" style=\"text-align:right; float: right;\"/>');\n",
       "    nav_element.append(status_bar);\n",
       "    this.message = status_bar[0];\n",
       "\n",
       "    // Add the close button to the window.\n",
       "    var buttongrp = $('<div class=\"btn-group inline pull-right\"></div>');\n",
       "    var button = $('<button class=\"btn btn-mini btn-primary\" href=\"#\" title=\"Stop Interaction\"><i class=\"fa fa-power-off icon-remove icon-large\"></i></button>');\n",
       "    button.click(function (evt) { fig.handle_close(fig, {}); } );\n",
       "    button.mouseover('Stop Interaction', toolbar_mouse_event);\n",
       "    buttongrp.append(button);\n",
       "    var titlebar = this.root.find($('.ui-dialog-titlebar'));\n",
       "    titlebar.prepend(buttongrp);\n",
       "}\n",
       "\n",
       "mpl.figure.prototype._root_extra_style = function(el){\n",
       "    var fig = this\n",
       "    el.on(\"remove\", function(){\n",
       "\tfig.close_ws(fig, {});\n",
       "    });\n",
       "}\n",
       "\n",
       "mpl.figure.prototype._canvas_extra_style = function(el){\n",
       "    // this is important to make the div 'focusable\n",
       "    el.attr('tabindex', 0)\n",
       "    // reach out to IPython and tell the keyboard manager to turn it's self\n",
       "    // off when our div gets focus\n",
       "\n",
       "    // location in version 3\n",
       "    if (IPython.notebook.keyboard_manager) {\n",
       "        IPython.notebook.keyboard_manager.register_events(el);\n",
       "    }\n",
       "    else {\n",
       "        // location in version 2\n",
       "        IPython.keyboard_manager.register_events(el);\n",
       "    }\n",
       "\n",
       "}\n",
       "\n",
       "mpl.figure.prototype._key_event_extra = function(event, name) {\n",
       "    var manager = IPython.notebook.keyboard_manager;\n",
       "    if (!manager)\n",
       "        manager = IPython.keyboard_manager;\n",
       "\n",
       "    // Check for shift+enter\n",
       "    if (event.shiftKey && event.which == 13) {\n",
       "        this.canvas_div.blur();\n",
       "        event.shiftKey = false;\n",
       "        // Send a \"J\" for go to next cell\n",
       "        event.which = 74;\n",
       "        event.keyCode = 74;\n",
       "        manager.command_mode();\n",
       "        manager.handle_keydown(event);\n",
       "    }\n",
       "}\n",
       "\n",
       "mpl.figure.prototype.handle_save = function(fig, msg) {\n",
       "    fig.ondownload(fig, null);\n",
       "}\n",
       "\n",
       "\n",
       "mpl.find_output_cell = function(html_output) {\n",
       "    // Return the cell and output element which can be found *uniquely* in the notebook.\n",
       "    // Note - this is a bit hacky, but it is done because the \"notebook_saving.Notebook\"\n",
       "    // IPython event is triggered only after the cells have been serialised, which for\n",
       "    // our purposes (turning an active figure into a static one), is too late.\n",
       "    var cells = IPython.notebook.get_cells();\n",
       "    var ncells = cells.length;\n",
       "    for (var i=0; i<ncells; i++) {\n",
       "        var cell = cells[i];\n",
       "        if (cell.cell_type === 'code'){\n",
       "            for (var j=0; j<cell.output_area.outputs.length; j++) {\n",
       "                var data = cell.output_area.outputs[j];\n",
       "                if (data.data) {\n",
       "                    // IPython >= 3 moved mimebundle to data attribute of output\n",
       "                    data = data.data;\n",
       "                }\n",
       "                if (data['text/html'] == html_output) {\n",
       "                    return [cell, data, j];\n",
       "                }\n",
       "            }\n",
       "        }\n",
       "    }\n",
       "}\n",
       "\n",
       "// Register the function which deals with the matplotlib target/channel.\n",
       "// The kernel may be null if the page has been refreshed.\n",
       "if (IPython.notebook.kernel != null) {\n",
       "    IPython.notebook.kernel.comm_manager.register_target('matplotlib', mpl.mpl_figure_comm);\n",
       "}\n"
      ],
      "text/plain": [
       "<IPython.core.display.Javascript object>"
      ]
     },
     "metadata": {},
     "output_type": "display_data"
    },
    {
     "data": {
      "text/html": [
       "<img src=\"data:image/png;base64,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\">"
      ],
      "text/plain": [
       "<IPython.core.display.HTML object>"
      ]
     },
     "metadata": {},
     "output_type": "display_data"
    }
   ],
   "source": [
    "def plotUICurve(R=1):\n",
    "    if R == 0:\n",
    "        R = 1e-10\n",
    "    U = np.linspace(-10,10,100)\n",
    "    I = U/R\n",
    "    plt.plot(U,I,'-')\n",
    "    plt.xlabel('U (V)')\n",
    "    plt.ylabel('I (A)')\n",
    "    plt.axis('equal')\n",
    "\n",
    "for i in range(1,10,2):\n",
    "    plotUICurve(R=i)\n",
    "#[plotUICurve(i) for i in np.arange(1,20,0.1)]\n",
    "#interact(plotUICurve,R=1)"
   ]
  },
  {
   "cell_type": "code",
   "execution_count": 31,
   "metadata": {
    "collapsed": false
   },
   "outputs": [
    {
     "data": {
      "image/png": "[encoded data removed]",
      "text/plain": [
       "<IPython.core.display.Image object>"
      ]
     },
     "execution_count": 31,
     "metadata": {},
     "output_type": "execute_result"
    }
   ],
   "source": [
    "%%circuitikz filename=circuit2 dpi=200 options=american\n",
    "\n",
    "\\begin{circuitikz}\n",
    "    \\draw (0,0)\n",
    "    to[V,v=$12~V$] (0,3) \n",
    "    to[R, l = $R_1$] (3,3)\n",
    "        %      to[R, l=$R_1$, v=$U_{R_1}$, i = $I_1$] (3,3) \n",
    "      (0,0)\n",
    "      to[short] (3,0)\n",
    "      to[V,v=$10~V$] (3,3)\n",
    "    ;\n",
    "\\end{circuitikz}"
   ]
  },
  {
   "cell_type": "markdown",
   "metadata": {},
   "source": [
    "The current is given by:\n",
    "\n",
    "$I_1 = \\dfrac{U_1}{R_1}$"
   ]
  },
  {
   "cell_type": "code",
   "execution_count": 38,
   "metadata": {
    "collapsed": false
   },
   "outputs": [
    {
     "data": {
      "image/png": "[encoded data removed]",
      "text/plain": [
       "<IPython.core.display.Image object>"
      ]
     },
     "execution_count": 38,
     "metadata": {},
     "output_type": "execute_result"
    }
   ],
   "source": [
    "%%circuitikz filename=circuit4 dpi=175 options=american\n",
    "\n",
    "\\begin{circuitikz}\n",
    "      \\draw (0,0)\n",
    "      to[V,v=$U_1$] (0,3) \n",
    "      to[R, l^=$R_1$, v_=$U_{R_1}$, i=$I_1$] (3,3)\n",
    "      to [R, l=$R_2$, v=$U_{R_2}$, i=$I_2$] (3,0)\n",
    "      to[short] (0,0) \n",
    "      \n",
    "      (3,0) \n",
    "      to[short] (6,0)\n",
    "      to[V, v=$U_2$] (6,3)\n",
    "      to[R, l_=$R_3$, v^=$U_{R_3}$, i_=$I_3$] (3,3)\n",
    "      ;\n",
    "\\end{circuitikz}"
   ]
  },
  {
   "cell_type": "markdown",
   "metadata": {},
   "source": [
    "## Bekende OnBekende methode (BOB)"
   ]
  },
  {
   "cell_type": "markdown",
   "metadata": {},
   "source": [
    "Zowel bron $U_1$ als bron $U_2$ zorgen dat er een stroom gaan lopen ($I_1$ en $I_3$).\n",
    "Deze komen op het knooppunt samen wat resulteert in een gezamenlijke stroom $I_2$.\n",
    "Volgende de definitie volgt dan:\n",
    "\n",
    "\\begin{equation}\n",
    "I_2 = I_1 + I_3\n",
    "\\end{equation}\n",
    "\n",
    "De individuele stromen kan je berekenen via de wet van Ohm:\n",
    "\\begin{eqnarray}\n",
    "I_1 & = & \\dfrac{U_1-U_{R_2}}{R_1} \\\\\n",
    "I_2 & = & \\dfrac{U_{R_2}}{R_2} \\\\\n",
    "I_3 & = & \\dfrac{U_2-U_{R_2}}{R_3}\n",
    "\\end{eqnarray}\n",
    "\n"
   ]
  },
  {
   "cell_type": "markdown",
   "metadata": {
    "collapsed": true
   },
   "source": [
    "Neem aan dat:\n",
    "- $R_1$ = 1 $\\Omega$\n",
    "- $R_2$ = 2 $\\Omega$\n",
    "- $R_3$ = 3 $\\Omega$\n",
    "\n",
    "1. Bereken de stroom $I_2$\n",
    "2. Bereken de spanning $U_{R_3}$"
   ]
  },
  {
   "cell_type": "code",
   "execution_count": 44,
   "metadata": {
    "collapsed": false
   },
   "outputs": [
    {
     "data": {
      "image/png": "[encoded data removed]",
      "text/plain": [
       "<IPython.core.display.Image object>"
      ]
     },
     "execution_count": 44,
     "metadata": {},
     "output_type": "execute_result"
    }
   ],
   "source": [
    "%%circuitikz filename=circuit4 dpi=175 options=american\n",
    "\n",
    "\\begin{circuitikz}\n",
    "      \\draw (0,0)\n",
    "      to[I,i=$I_1$] (0,3) \n",
    "      to[short] (3,3)\n",
    "      to [R, l=$R_1$, v=$U_{R_1}$, i=$I_1$] (3,0)\n",
    "      to[short] (0,0) \n",
    "      \n",
    "      (3,3) \n",
    "      to[V,v=$U_1$] (6,3)\n",
    "      to[R, l_=$R_2$, v^=$U_{R_2}$, i_=$I_2$] (6,0)\n",
    "      to[short] (3,0)\n",
    "      ;\n",
    "\\end{circuitikz}"
   ]
  },
  {
   "cell_type": "markdown",
   "metadata": {},
   "source": [
    "- I_1 = 4 A\n",
    "- U_1 = \n",
    "- R_1 = 4 \\Ohm\n",
    "- "
   ]
  },
  {
   "cell_type": "code",
   "execution_count": null,
   "metadata": {
    "collapsed": false
   },
   "outputs": [],
   "source": [
    "https://learn.sparkfun.com/tutorials/voltage-current-resistance-and-ohms-law/all"
   ]
  },
  {
   "cell_type": "code",
   "execution_count": null,
   "metadata": {
    "collapsed": false
   },
   "outputs": [],
   "source": [
    "\"https://en.wikipedia.org/wiki/Passive_sign_convention\""
   ]
  },
  {
   "cell_type": "code",
   "execution_count": null,
   "metadata": {
    "collapsed": false
   },
   "outputs": [],
   "source": [
    "![test](https://upload.wikimedia.org/wikipedia/commons/2/2f/Electric_load_animation.gif)"
   ]
  },
  {
   "cell_type": "code",
   "execution_count": null,
   "metadata": {
    "collapsed": true
   },
   "outputs": [],
   "source": [
    "https://en.wikiversity.org/wiki/Electric_Circuit_Analysis"
   ]
  },
  {
   "cell_type": "code",
   "execution_count": null,
   "metadata": {
    "collapsed": true
   },
   "outputs": [],
   "source": [
    "https://media.pearsoncmg.com/bc/abp/floyd/"
   ]
  },
  {
   "cell_type": "markdown",
   "metadata": {
    "collapsed": true
   },
   "source": [
    "SUCCES = (VOORBEREIDING X GELUK) ^ (MOTIVATIE)"
   ]
  }
 ],
 "metadata": {
  "kernelspec": {
   "display_name": "Python 3",
   "language": "python",
   "name": "python3"
  },
  "language_info": {
   "codemirror_mode": {
    "name": "ipython",
    "version": 3
   },
   "file_extension": ".py",
   "mimetype": "text/x-python",
   "name": "python",
   "nbconvert_exporter": "python",
   "pygments_lexer": "ipython3",
   "version": "3.4.3"
  }
 },
 "nbformat": 4,
 "nbformat_minor": 0
}
