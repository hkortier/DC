{
 "cells": [
  {
   "cell_type": "code",
   "execution_count": 1,
   "metadata": {
    "collapsed": false
   },
   "outputs": [
    {
     "name": "stderr",
     "output_type": "stream",
     "text": [
      "C:\\Users\\saxion\\Anaconda3\\lib\\site-packages\\IPython\\kernel\\__init__.py:13: ShimWarning: The `IPython.kernel` package has been deprecated. You should import from ipykernel or jupyter_client instead.\n",
      "  \"You should import from ipykernel or jupyter_client instead.\", ShimWarning)\n"
     ]
    }
   ],
   "source": [
    "%matplotlib notebook"
   ]
  },
  {
   "cell_type": "code",
   "execution_count": 2,
   "metadata": {
    "collapsed": false,
    "scrolled": true
   },
   "outputs": [],
   "source": [
    "import numpy as np\n",
    "import scipy as sp\n",
    "import sympy as sym\n",
    "import matplotlib.pyplot as plt\n",
    "import sympy as smp\n",
    "import seaborn as sns"
   ]
  },
  {
   "cell_type": "code",
   "execution_count": 3,
   "metadata": {
    "collapsed": false
   },
   "outputs": [],
   "source": [
    "from IPython.display import Image\n",
    "from IPython.core.display import HTML \n",
    "#Image(url= \"https://upload.wikimedia.org/wikipedia/commons/f/f9/Electron_shell_029_Copper.svg\", width=400)"
   ]
  },
  {
   "cell_type": "code",
   "execution_count": 4,
   "metadata": {
    "collapsed": false
   },
   "outputs": [
    {
     "name": "stdout",
     "output_type": "stream",
     "text": [
      "Installed circuitikz.py. To use it, type:\n",
      "  %load_ext circuitikz\n"
     ]
    },
    {
     "name": "stderr",
     "output_type": "stream",
     "text": [
      "C:\\Users\\saxion\\Anaconda3\\lib\\site-packages\\IPython\\core\\magics\\extension.py:47: UserWarning: %install_ext` is deprecated, please distribute your extension(s)as a python packages.\n",
      "  \"as a python packages.\", UserWarning)\n"
     ]
    }
   ],
   "source": [
    "#import sys\n",
    "#sys.path.append('D:\\Dropbox\\python\\ipython-circuitikz')\n",
    "%install_ext circuitikz.py"
   ]
  },
  {
   "cell_type": "code",
   "execution_count": 5,
   "metadata": {
    "collapsed": true
   },
   "outputs": [],
   "source": [
    "%reload_ext circuitikz"
   ]
  },
  {
   "cell_type": "markdown",
   "metadata": {},
   "source": [
    "--------"
   ]
  },
  {
   "cell_type": "markdown",
   "metadata": {
    "slideshow": {
     "slide_type": "-"
    }
   },
   "source": [
    "# Electrische circuits DC "
   ]
  },
  {
   "cell_type": "markdown",
   "metadata": {},
   "source": [
    "----------------"
   ]
  },
  {
   "cell_type": "markdown",
   "metadata": {
    "slideshow": {
     "slide_type": "-"
    }
   },
   "source": [
    "Raadpleeg blackboard voor informatie \n",
    "[https://leren.saxion.nl](https://leren.saxion.nl/webapps/portal/execute/tabs/tabAction?tabId=_61640_1&tab_tab_group_id=_898_1) :\n",
    "- moduleomschrijving\n",
    "- presentatiemateriaal\n",
    "\n",
    "Materiaal:\n",
    "- Principles of electric circuits (conventional current version) Floyd (9th edition)\n",
    "\n",
    "Toetsing:\n",
    "- oefentoets halverwege\n",
    "- schriftelijke eindtoets, zie de module omschrijving voor de inhoud\n",
    "\n",
    "Docenten:\n",
    "- Henk Kortier (hko09) h.g.kortier@saxion.nl\n",
    "- Erwin Bouwmeester (bue) e.bouwmeester@saxion.nl\n",
    "- Everaerd Aendekerk (eae01) e.j.m.aendekerk@saxion.nl\n",
    "\n",
    "Docentenwerkplek:\n",
    "- W2.07\n",
    "- Inloopuur hko09 elke maandag (12.30 - 13.15) zie rooster voor locatie"
   ]
  },
  {
   "cell_type": "markdown",
   "metadata": {},
   "source": [
    "## Inhoud:\n",
    "\n",
    "- Chapter 2: Voltage, Current, Resistance\n",
    "- Chapter 3: Ohm's Law\n",
    "- Chapter 4: Energy and Power\n",
    "- Chapter 5: Series Circuits\n",
    "- Chapter 6: Parallel Circuits\n",
    "- Chapter 7: Series-Parallel Circuits\n",
    "- Chapter 8: Circuit theorem and Conversions\n",
    "- Chatper 12: Capacitors\n",
    "- Chapter 13: Inductors"
   ]
  },
  {
   "cell_type": "markdown",
   "metadata": {},
   "source": [
    "# Chapter 2: Voltage, Current and Resistance (p. 22)"
   ]
  },
  {
   "cell_type": "markdown",
   "metadata": {},
   "source": [
    "opgaven: 3,6,9,13,16,20,21,23,25,30,32,33,39,42,45,46"
   ]
  },
  {
   "cell_type": "markdown",
   "metadata": {},
   "source": [
    "## 2.2: Electric charge (p. 27)\n",
    "\n",
    "[Sparkfun: What is electricity](https://learn.sparkfun.com/tutorials/what-is-electricity)"
   ]
  },
  {
   "cell_type": "markdown",
   "metadata": {},
   "source": [
    "1 elektron heeft de (elementaire) lading van:\n",
    "\n",
    "\\begin{equation}\n",
    "q = 1.6\\cdot10^{-19} C\n",
    "\\end{equation}"
   ]
  },
  {
   "cell_type": "markdown",
   "metadata": {},
   "source": [
    "![Copper atom](https://upload.wikimedia.org/wikipedia/commons/f/f9/Electron_shell_029_Copper.svg)"
   ]
  },
  {
   "cell_type": "code",
   "execution_count": 6,
   "metadata": {
    "collapsed": false
   },
   "outputs": [
    {
     "name": "stdout",
     "output_type": "stream",
     "text": [
      "6.25e+18\n"
     ]
    }
   ],
   "source": [
    "# Het aantal electronen benodigd voor 1C lading is dus:\n",
    "\n",
    "q = 1.6e-19 #q = elementaire lading soms wordt daar e voor gebruikt\n",
    "Q = 1/q  #Q = totale lading\n",
    "print(Q)"
   ]
  },
  {
   "cell_type": "markdown",
   "metadata": {},
   "source": [
    "## 2.3: Voltage\n",
    "[Sparkfun: Voltage, current, resistance](https://learn.sparkfun.com/tutorials/voltage-current-resistance-and-ohms-law/all)"
   ]
  },
  {
   "cell_type": "markdown",
   "metadata": {},
   "source": [
    "$W$ is de energie die nodig is om 1 Coulomb lading ($Q$) over 1 Volt potentiaal verschil (ook wel spanning genoemd ($U$)) te verplaatsen. \n",
    "Anders gezegd, het electrisch potentiaal (voltage) is het verschil in energie (W) per ladingshoeveelheid (Q):\n",
    "\n",
    "$V~[V] = \\dfrac{\\delta W~[J]}{\\delta Q~[C]}$"
   ]
  },
  {
   "cell_type": "markdown",
   "metadata": {},
   "source": [
    "## 2.4: Current "
   ]
  },
  {
   "cell_type": "markdown",
   "metadata": {},
   "source": [
    "Stoom (I) = Lading (Q) per Tijd (t) oftewel:\n",
    "\n",
    "$I~[A] = \\dfrac{\\delta Q~[C]}{\\delta t~[s]}$"
   ]
  },
  {
   "cell_type": "markdown",
   "metadata": {},
   "source": [
    "## 2.5: Resistance "
   ]
  },
  {
   "cell_type": "markdown",
   "metadata": {},
   "source": [
    "Geleiding is omgekeerd evenredig met de weerstand:\n",
    "\n",
    "$G~[S]=\\dfrac{1}{R~[\\Omega]}$"
   ]
  },
  {
   "cell_type": "markdown",
   "metadata": {},
   "source": [
    "## 2.6 The electric circuit "
   ]
  },
  {
   "cell_type": "markdown",
   "metadata": {},
   "source": [
    "## Voltage source conventions:"
   ]
  },
  {
   "cell_type": "code",
   "execution_count": 7,
   "metadata": {
    "collapsed": false
   },
   "outputs": [
    {
     "data": {
      "image/png": "[encoded data removed]",
      "text/plain": [
       "<IPython.core.display.Image object>"
      ]
     },
     "execution_count": 7,
     "metadata": {},
     "output_type": "execute_result"
    }
   ],
   "source": [
    "%%circuitikz filename=circuit1AM dpi=200 options=american\n",
    "\n",
    "\\begin{circuitikz}\n",
    "      \\draw (0,0)\n",
    "      to[V,v=$U_1$] (0,3) \n",
    "      to[short] (3,3)\n",
    "      to [R, l=$R_1$, v=$U_{R_1}$, i = $I_1$] (3,0)\n",
    "      to[short] (0,0) \n",
    "\\end{circuitikz}"
   ]
  },
  {
   "cell_type": "code",
   "execution_count": 8,
   "metadata": {
    "collapsed": false,
    "scrolled": true
   },
   "outputs": [
    {
     "data": {
      "image/png": "[encoded data removed]",
      "text/plain": [
       "<IPython.core.display.Image object>"
      ]
     },
     "execution_count": 8,
     "metadata": {},
     "output_type": "execute_result"
    }
   ],
   "source": [
    "%%circuitikz filename=circuit1EU dpi=200 options=european\n",
    "\n",
    "\\begin{circuitikz}\n",
    "      \\draw (0,0)\n",
    "      to[V,v=$U_1$] (0,3) \n",
    "      to[short] (3,3)\n",
    "      to [R, l=$R_1$, v=$U_{R_1}$, i = $I_1$] (3,0)\n",
    "      to[short] (0,0) \n",
    "\\end{circuitikz}"
   ]
  },
  {
   "cell_type": "markdown",
   "metadata": {},
   "source": [
    "## Current source conventions:"
   ]
  },
  {
   "cell_type": "code",
   "execution_count": 9,
   "metadata": {
    "collapsed": false,
    "scrolled": true
   },
   "outputs": [
    {
     "data": {
      "image/png": "[encoded data removed]",
      "text/plain": [
       "<IPython.core.display.Image object>"
      ]
     },
     "execution_count": 9,
     "metadata": {},
     "output_type": "execute_result"
    }
   ],
   "source": [
    "%%circuitikz filename=circuit1bAM dpi=200 options=american\n",
    "\n",
    "\\begin{circuitikz}\n",
    "      \\draw (0,0)\n",
    "      to[I,i=$I_1$] (0,3) \n",
    "      to[short] (3,3)\n",
    "      to [R, l=$R_1$, v=$U_{R_1}$, i = $I_1$] (3,0)\n",
    "      to[short] (0,0) \n",
    "\\end{circuitikz}"
   ]
  },
  {
   "cell_type": "code",
   "execution_count": 10,
   "metadata": {
    "collapsed": false,
    "scrolled": true
   },
   "outputs": [
    {
     "data": {
      "image/png": "[encoded data removed]",
      "text/plain": [
       "<IPython.core.display.Image object>"
      ]
     },
     "execution_count": 10,
     "metadata": {},
     "output_type": "execute_result"
    }
   ],
   "source": [
    "%%circuitikz filename=circuit1bEU dpi=200 options=european\n",
    "\n",
    "\\begin{circuitikz}\n",
    "      \\draw (0,0)\n",
    "      to[I,I=$I_1$] (0,3) \n",
    "      to[short] (3,3)\n",
    "      to [R, l=$R_1$, v=$U_{R_1}$, i = $I_1$] (3,0)\n",
    "      to[short] (0,0) \n",
    "\\end{circuitikz}"
   ]
  },
  {
   "cell_type": "markdown",
   "metadata": {},
   "source": [
    "# Chapter 3: Ohm's Law"
   ]
  },
  {
   "cell_type": "markdown",
   "metadata": {},
   "source": [
    "opgaven: 5,6,7,10,18,19,24,28,33,39"
   ]
  },
  {
   "cell_type": "markdown",
   "metadata": {},
   "source": [
    "### Ohm's law:\n",
    "\n",
    "$\n",
    "U = I \\cdot R ,\\hspace{1cm} I = \\dfrac{U}{R} ,\\hspace{1cm} R = \\dfrac{U}{I}\n",
    "$"
   ]
  },
  {
   "cell_type": "markdown",
   "metadata": {},
   "source": [
    "![VIRP](https://upload.wikimedia.org/wikipedia/commons/f/fb/Ohm%27s_law_triangle.svg)"
   ]
  },
  {
   "cell_type": "markdown",
   "metadata": {},
   "source": [
    "### Power:\n",
    "\n",
    "$\n",
    "P=U \\cdot I,\\hspace{1cm} P = \\dfrac{U^2}{R} ,\\hspace{1cm} P = I^2 \\cdot R\n",
    "$"
   ]
  },
  {
   "cell_type": "markdown",
   "metadata": {},
   "source": [
    "### [Passive Sign Convention (PSC)](https://en.wikipedia.org/wiki/Passive_sign_convention)\n",
    "\n",
    "\n",
    "- De stroom komt op de positieve terminal een element binnen. Het element verbruikt vermogen.\n",
    "- De stroom komt op de negatieve terminal een element binnen. Het element levert vermogen."
   ]
  },
  {
   "cell_type": "markdown",
   "metadata": {},
   "source": [
    "Electric load (verbruikt/dissipeert) | Electric source (levert)\n",
    "------------ | -------------\n",
    "<img src=\"https://upload.wikimedia.org/wikipedia/commons/2/2f/Electric_load_animation.gif\"> | <img src=\"https://upload.wikimedia.org/wikipedia/commons/9/98/Electric_power_source_animation.gif\">\n"
   ]
  },
  {
   "cell_type": "code",
   "execution_count": 12,
   "metadata": {
    "collapsed": false
   },
   "outputs": [
    {
     "data": {
      "application/javascript": [
       "/* Put everything inside the global mpl namespace */\n",
       "window.mpl = {};\n",
       "\n",
       "mpl.get_websocket_type = function() {\n",
       "    if (typeof(WebSocket) !== 'undefined') {\n",
       "        return WebSocket;\n",
       "    } else if (typeof(MozWebSocket) !== 'undefined') {\n",
       "        return MozWebSocket;\n",
       "    } else {\n",
       "        alert('Your browser does not have WebSocket support.' +\n",
       "              'Please try Chrome, Safari or Firefox ≥ 6. ' +\n",
       "              'Firefox 4 and 5 are also supported but you ' +\n",
       "              'have to enable WebSockets in about:config.');\n",
       "    };\n",
       "}\n",
       "\n",
       "mpl.figure = function(figure_id, websocket, ondownload, parent_element) {\n",
       "    this.id = figure_id;\n",
       "\n",
       "    this.ws = websocket;\n",
       "\n",
       "    this.supports_binary = (this.ws.binaryType != undefined);\n",
       "\n",
       "    if (!this.supports_binary) {\n",
       "        var warnings = document.getElementById(\"mpl-warnings\");\n",
       "        if (warnings) {\n",
       "            warnings.style.display = 'block';\n",
       "            warnings.textContent = (\n",
       "                \"This browser does not support binary websocket messages. \" +\n",
       "                    \"Performance may be slow.\");\n",
       "        }\n",
       "    }\n",
       "\n",
       "    this.imageObj = new Image();\n",
       "\n",
       "    this.context = undefined;\n",
       "    this.message = undefined;\n",
       "    this.canvas = undefined;\n",
       "    this.rubberband_canvas = undefined;\n",
       "    this.rubberband_context = undefined;\n",
       "    this.format_dropdown = undefined;\n",
       "\n",
       "    this.image_mode = 'full';\n",
       "\n",
       "    this.root = $('<div/>');\n",
       "    this._root_extra_style(this.root)\n",
       "    this.root.attr('style', 'display: inline-block');\n",
       "\n",
       "    $(parent_element).append(this.root);\n",
       "\n",
       "    this._init_header(this);\n",
       "    this._init_canvas(this);\n",
       "    this._init_toolbar(this);\n",
       "\n",
       "    var fig = this;\n",
       "\n",
       "    this.waiting = false;\n",
       "\n",
       "    this.ws.onopen =  function () {\n",
       "            fig.send_message(\"supports_binary\", {value: fig.supports_binary});\n",
       "            fig.send_message(\"send_image_mode\", {});\n",
       "            fig.send_message(\"refresh\", {});\n",
       "        }\n",
       "\n",
       "    this.imageObj.onload = function() {\n",
       "            if (fig.image_mode == 'full') {\n",
       "                // Full images could contain transparency (where diff images\n",
       "                // almost always do), so we need to clear the canvas so that\n",
       "                // there is no ghosting.\n",
       "                fig.context.clearRect(0, 0, fig.canvas.width, fig.canvas.height);\n",
       "            }\n",
       "            fig.context.drawImage(fig.imageObj, 0, 0);\n",
       "            fig.waiting = false;\n",
       "        };\n",
       "\n",
       "    this.imageObj.onunload = function() {\n",
       "        this.ws.close();\n",
       "    }\n",
       "\n",
       "    this.ws.onmessage = this._make_on_message_function(this);\n",
       "\n",
       "    this.ondownload = ondownload;\n",
       "}\n",
       "\n",
       "mpl.figure.prototype._init_header = function() {\n",
       "    var titlebar = $(\n",
       "        '<div class=\"ui-dialog-titlebar ui-widget-header ui-corner-all ' +\n",
       "        'ui-helper-clearfix\"/>');\n",
       "    var titletext = $(\n",
       "        '<div class=\"ui-dialog-title\" style=\"width: 100%; ' +\n",
       "        'text-align: center; padding: 3px;\"/>');\n",
       "    titlebar.append(titletext)\n",
       "    this.root.append(titlebar);\n",
       "    this.header = titletext[0];\n",
       "}\n",
       "\n",
       "\n",
       "\n",
       "mpl.figure.prototype._canvas_extra_style = function(canvas_div) {\n",
       "\n",
       "}\n",
       "\n",
       "\n",
       "mpl.figure.prototype._root_extra_style = function(canvas_div) {\n",
       "\n",
       "}\n",
       "\n",
       "mpl.figure.prototype._init_canvas = function() {\n",
       "    var fig = this;\n",
       "\n",
       "    var canvas_div = $('<div/>');\n",
       "\n",
       "    canvas_div.attr('style', 'position: relative; clear: both; outline: 0');\n",
       "\n",
       "    function canvas_keyboard_event(event) {\n",
       "        return fig.key_event(event, event['data']);\n",
       "    }\n",
       "\n",
       "    canvas_div.keydown('key_press', canvas_keyboard_event);\n",
       "    canvas_div.keyup('key_release', canvas_keyboard_event);\n",
       "    this.canvas_div = canvas_div\n",
       "    this._canvas_extra_style(canvas_div)\n",
       "    this.root.append(canvas_div);\n",
       "\n",
       "    var canvas = $('<canvas/>');\n",
       "    canvas.addClass('mpl-canvas');\n",
       "    canvas.attr('style', \"left: 0; top: 0; z-index: 0; outline: 0\")\n",
       "\n",
       "    this.canvas = canvas[0];\n",
       "    this.context = canvas[0].getContext(\"2d\");\n",
       "\n",
       "    var rubberband = $('<canvas/>');\n",
       "    rubberband.attr('style', \"position: absolute; left: 0; top: 0; z-index: 1;\")\n",
       "\n",
       "    var pass_mouse_events = true;\n",
       "\n",
       "    canvas_div.resizable({\n",
       "        start: function(event, ui) {\n",
       "            pass_mouse_events = false;\n",
       "        },\n",
       "        resize: function(event, ui) {\n",
       "            fig.request_resize(ui.size.width, ui.size.height);\n",
       "        },\n",
       "        stop: function(event, ui) {\n",
       "            pass_mouse_events = true;\n",
       "            fig.request_resize(ui.size.width, ui.size.height);\n",
       "        },\n",
       "    });\n",
       "\n",
       "    function mouse_event_fn(event) {\n",
       "        if (pass_mouse_events)\n",
       "            return fig.mouse_event(event, event['data']);\n",
       "    }\n",
       "\n",
       "    rubberband.mousedown('button_press', mouse_event_fn);\n",
       "    rubberband.mouseup('button_release', mouse_event_fn);\n",
       "    // Throttle sequential mouse events to 1 every 20ms.\n",
       "    rubberband.mousemove('motion_notify', mouse_event_fn);\n",
       "\n",
       "    rubberband.mouseenter('figure_enter', mouse_event_fn);\n",
       "    rubberband.mouseleave('figure_leave', mouse_event_fn);\n",
       "\n",
       "    canvas_div.on(\"wheel\", function (event) {\n",
       "        event = event.originalEvent;\n",
       "        event['data'] = 'scroll'\n",
       "        if (event.deltaY < 0) {\n",
       "            event.step = 1;\n",
       "        } else {\n",
       "            event.step = -1;\n",
       "        }\n",
       "        mouse_event_fn(event);\n",
       "    });\n",
       "\n",
       "    canvas_div.append(canvas);\n",
       "    canvas_div.append(rubberband);\n",
       "\n",
       "    this.rubberband = rubberband;\n",
       "    this.rubberband_canvas = rubberband[0];\n",
       "    this.rubberband_context = rubberband[0].getContext(\"2d\");\n",
       "    this.rubberband_context.strokeStyle = \"#000000\";\n",
       "\n",
       "    this._resize_canvas = function(width, height) {\n",
       "        // Keep the size of the canvas, canvas container, and rubber band\n",
       "        // canvas in synch.\n",
       "        canvas_div.css('width', width)\n",
       "        canvas_div.css('height', height)\n",
       "\n",
       "        canvas.attr('width', width);\n",
       "        canvas.attr('height', height);\n",
       "\n",
       "        rubberband.attr('width', width);\n",
       "        rubberband.attr('height', height);\n",
       "    }\n",
       "\n",
       "    // Set the figure to an initial 600x600px, this will subsequently be updated\n",
       "    // upon first draw.\n",
       "    this._resize_canvas(600, 600);\n",
       "\n",
       "    // Disable right mouse context menu.\n",
       "    $(this.rubberband_canvas).bind(\"contextmenu\",function(e){\n",
       "        return false;\n",
       "    });\n",
       "\n",
       "    function set_focus () {\n",
       "        canvas.focus();\n",
       "        canvas_div.focus();\n",
       "    }\n",
       "\n",
       "    window.setTimeout(set_focus, 100);\n",
       "}\n",
       "\n",
       "mpl.figure.prototype._init_toolbar = function() {\n",
       "    var fig = this;\n",
       "\n",
       "    var nav_element = $('<div/>')\n",
       "    nav_element.attr('style', 'width: 100%');\n",
       "    this.root.append(nav_element);\n",
       "\n",
       "    // Define a callback function for later on.\n",
       "    function toolbar_event(event) {\n",
       "        return fig.toolbar_button_onclick(event['data']);\n",
       "    }\n",
       "    function toolbar_mouse_event(event) {\n",
       "        return fig.toolbar_button_onmouseover(event['data']);\n",
       "    }\n",
       "\n",
       "    for(var toolbar_ind in mpl.toolbar_items) {\n",
       "        var name = mpl.toolbar_items[toolbar_ind][0];\n",
       "        var tooltip = mpl.toolbar_items[toolbar_ind][1];\n",
       "        var image = mpl.toolbar_items[toolbar_ind][2];\n",
       "        var method_name = mpl.toolbar_items[toolbar_ind][3];\n",
       "\n",
       "        if (!name) {\n",
       "            // put a spacer in here.\n",
       "            continue;\n",
       "        }\n",
       "        var button = $('<button/>');\n",
       "        button.addClass('ui-button ui-widget ui-state-default ui-corner-all ' +\n",
       "                        'ui-button-icon-only');\n",
       "        button.attr('role', 'button');\n",
       "        button.attr('aria-disabled', 'false');\n",
       "        button.click(method_name, toolbar_event);\n",
       "        button.mouseover(tooltip, toolbar_mouse_event);\n",
       "\n",
       "        var icon_img = $('<span/>');\n",
       "        icon_img.addClass('ui-button-icon-primary ui-icon');\n",
       "        icon_img.addClass(image);\n",
       "        icon_img.addClass('ui-corner-all');\n",
       "\n",
       "        var tooltip_span = $('<span/>');\n",
       "        tooltip_span.addClass('ui-button-text');\n",
       "        tooltip_span.html(tooltip);\n",
       "\n",
       "        button.append(icon_img);\n",
       "        button.append(tooltip_span);\n",
       "\n",
       "        nav_element.append(button);\n",
       "    }\n",
       "\n",
       "    var fmt_picker_span = $('<span/>');\n",
       "\n",
       "    var fmt_picker = $('<select/>');\n",
       "    fmt_picker.addClass('mpl-toolbar-option ui-widget ui-widget-content');\n",
       "    fmt_picker_span.append(fmt_picker);\n",
       "    nav_element.append(fmt_picker_span);\n",
       "    this.format_dropdown = fmt_picker[0];\n",
       "\n",
       "    for (var ind in mpl.extensions) {\n",
       "        var fmt = mpl.extensions[ind];\n",
       "        var option = $(\n",
       "            '<option/>', {selected: fmt === mpl.default_extension}).html(fmt);\n",
       "        fmt_picker.append(option)\n",
       "    }\n",
       "\n",
       "    // Add hover states to the ui-buttons\n",
       "    $( \".ui-button\" ).hover(\n",
       "        function() { $(this).addClass(\"ui-state-hover\");},\n",
       "        function() { $(this).removeClass(\"ui-state-hover\");}\n",
       "    );\n",
       "\n",
       "    var status_bar = $('<span class=\"mpl-message\"/>');\n",
       "    nav_element.append(status_bar);\n",
       "    this.message = status_bar[0];\n",
       "}\n",
       "\n",
       "mpl.figure.prototype.request_resize = function(x_pixels, y_pixels) {\n",
       "    // Request matplotlib to resize the figure. Matplotlib will then trigger a resize in the client,\n",
       "    // which will in turn request a refresh of the image.\n",
       "    this.send_message('resize', {'width': x_pixels, 'height': y_pixels});\n",
       "}\n",
       "\n",
       "mpl.figure.prototype.send_message = function(type, properties) {\n",
       "    properties['type'] = type;\n",
       "    properties['figure_id'] = this.id;\n",
       "    this.ws.send(JSON.stringify(properties));\n",
       "}\n",
       "\n",
       "mpl.figure.prototype.send_draw_message = function() {\n",
       "    if (!this.waiting) {\n",
       "        this.waiting = true;\n",
       "        this.ws.send(JSON.stringify({type: \"draw\", figure_id: this.id}));\n",
       "    }\n",
       "}\n",
       "\n",
       "\n",
       "mpl.figure.prototype.handle_save = function(fig, msg) {\n",
       "    var format_dropdown = fig.format_dropdown;\n",
       "    var format = format_dropdown.options[format_dropdown.selectedIndex].value;\n",
       "    fig.ondownload(fig, format);\n",
       "}\n",
       "\n",
       "\n",
       "mpl.figure.prototype.handle_resize = function(fig, msg) {\n",
       "    var size = msg['size'];\n",
       "    if (size[0] != fig.canvas.width || size[1] != fig.canvas.height) {\n",
       "        fig._resize_canvas(size[0], size[1]);\n",
       "        fig.send_message(\"refresh\", {});\n",
       "    };\n",
       "}\n",
       "\n",
       "mpl.figure.prototype.handle_rubberband = function(fig, msg) {\n",
       "    var x0 = msg['x0'];\n",
       "    var y0 = fig.canvas.height - msg['y0'];\n",
       "    var x1 = msg['x1'];\n",
       "    var y1 = fig.canvas.height - msg['y1'];\n",
       "    x0 = Math.floor(x0) + 0.5;\n",
       "    y0 = Math.floor(y0) + 0.5;\n",
       "    x1 = Math.floor(x1) + 0.5;\n",
       "    y1 = Math.floor(y1) + 0.5;\n",
       "    var min_x = Math.min(x0, x1);\n",
       "    var min_y = Math.min(y0, y1);\n",
       "    var width = Math.abs(x1 - x0);\n",
       "    var height = Math.abs(y1 - y0);\n",
       "\n",
       "    fig.rubberband_context.clearRect(\n",
       "        0, 0, fig.canvas.width, fig.canvas.height);\n",
       "\n",
       "    fig.rubberband_context.strokeRect(min_x, min_y, width, height);\n",
       "}\n",
       "\n",
       "mpl.figure.prototype.handle_figure_label = function(fig, msg) {\n",
       "    // Updates the figure title.\n",
       "    fig.header.textContent = msg['label'];\n",
       "}\n",
       "\n",
       "mpl.figure.prototype.handle_cursor = function(fig, msg) {\n",
       "    var cursor = msg['cursor'];\n",
       "    switch(cursor)\n",
       "    {\n",
       "    case 0:\n",
       "        cursor = 'pointer';\n",
       "        break;\n",
       "    case 1:\n",
       "        cursor = 'default';\n",
       "        break;\n",
       "    case 2:\n",
       "        cursor = 'crosshair';\n",
       "        break;\n",
       "    case 3:\n",
       "        cursor = 'move';\n",
       "        break;\n",
       "    }\n",
       "    fig.rubberband_canvas.style.cursor = cursor;\n",
       "}\n",
       "\n",
       "mpl.figure.prototype.handle_message = function(fig, msg) {\n",
       "    fig.message.textContent = msg['message'];\n",
       "}\n",
       "\n",
       "mpl.figure.prototype.handle_draw = function(fig, msg) {\n",
       "    // Request the server to send over a new figure.\n",
       "    fig.send_draw_message();\n",
       "}\n",
       "\n",
       "mpl.figure.prototype.handle_image_mode = function(fig, msg) {\n",
       "    fig.image_mode = msg['mode'];\n",
       "}\n",
       "\n",
       "mpl.figure.prototype.updated_canvas_event = function() {\n",
       "    // Called whenever the canvas gets updated.\n",
       "    this.send_message(\"ack\", {});\n",
       "}\n",
       "\n",
       "// A function to construct a web socket function for onmessage handling.\n",
       "// Called in the figure constructor.\n",
       "mpl.figure.prototype._make_on_message_function = function(fig) {\n",
       "    return function socket_on_message(evt) {\n",
       "        if (evt.data instanceof Blob) {\n",
       "            /* FIXME: We get \"Resource interpreted as Image but\n",
       "             * transferred with MIME type text/plain:\" errors on\n",
       "             * Chrome.  But how to set the MIME type?  It doesn't seem\n",
       "             * to be part of the websocket stream */\n",
       "            evt.data.type = \"image/png\";\n",
       "\n",
       "            /* Free the memory for the previous frames */\n",
       "            if (fig.imageObj.src) {\n",
       "                (window.URL || window.webkitURL).revokeObjectURL(\n",
       "                    fig.imageObj.src);\n",
       "            }\n",
       "\n",
       "            fig.imageObj.src = (window.URL || window.webkitURL).createObjectURL(\n",
       "                evt.data);\n",
       "            fig.updated_canvas_event();\n",
       "            return;\n",
       "        }\n",
       "        else if (typeof evt.data === 'string' && evt.data.slice(0, 21) == \"data:image/png;base64\") {\n",
       "            fig.imageObj.src = evt.data;\n",
       "            fig.updated_canvas_event();\n",
       "            return;\n",
       "        }\n",
       "\n",
       "        var msg = JSON.parse(evt.data);\n",
       "        var msg_type = msg['type'];\n",
       "\n",
       "        // Call the  \"handle_{type}\" callback, which takes\n",
       "        // the figure and JSON message as its only arguments.\n",
       "        try {\n",
       "            var callback = fig[\"handle_\" + msg_type];\n",
       "        } catch (e) {\n",
       "            console.log(\"No handler for the '\" + msg_type + \"' message type: \", msg);\n",
       "            return;\n",
       "        }\n",
       "\n",
       "        if (callback) {\n",
       "            try {\n",
       "                // console.log(\"Handling '\" + msg_type + \"' message: \", msg);\n",
       "                callback(fig, msg);\n",
       "            } catch (e) {\n",
       "                console.log(\"Exception inside the 'handler_\" + msg_type + \"' callback:\", e, e.stack, msg);\n",
       "            }\n",
       "        }\n",
       "    };\n",
       "}\n",
       "\n",
       "// from http://stackoverflow.com/questions/1114465/getting-mouse-location-in-canvas\n",
       "mpl.findpos = function(e) {\n",
       "    //this section is from http://www.quirksmode.org/js/events_properties.html\n",
       "    var targ;\n",
       "    if (!e)\n",
       "        e = window.event;\n",
       "    if (e.target)\n",
       "        targ = e.target;\n",
       "    else if (e.srcElement)\n",
       "        targ = e.srcElement;\n",
       "    if (targ.nodeType == 3) // defeat Safari bug\n",
       "        targ = targ.parentNode;\n",
       "\n",
       "    // jQuery normalizes the pageX and pageY\n",
       "    // pageX,Y are the mouse positions relative to the document\n",
       "    // offset() returns the position of the element relative to the document\n",
       "    var x = e.pageX - $(targ).offset().left;\n",
       "    var y = e.pageY - $(targ).offset().top;\n",
       "\n",
       "    return {\"x\": x, \"y\": y};\n",
       "};\n",
       "\n",
       "mpl.figure.prototype.mouse_event = function(event, name) {\n",
       "    var canvas_pos = mpl.findpos(event)\n",
       "\n",
       "    if (name === 'button_press')\n",
       "    {\n",
       "        this.canvas.focus();\n",
       "        this.canvas_div.focus();\n",
       "    }\n",
       "\n",
       "    var x = canvas_pos.x;\n",
       "    var y = canvas_pos.y;\n",
       "\n",
       "    this.send_message(name, {x: x, y: y, button: event.button,\n",
       "                             step: event.step});\n",
       "\n",
       "    /* This prevents the web browser from automatically changing to\n",
       "     * the text insertion cursor when the button is pressed.  We want\n",
       "     * to control all of the cursor setting manually through the\n",
       "     * 'cursor' event from matplotlib */\n",
       "    event.preventDefault();\n",
       "    return false;\n",
       "}\n",
       "\n",
       "mpl.figure.prototype._key_event_extra = function(event, name) {\n",
       "    // Handle any extra behaviour associated with a key event\n",
       "}\n",
       "\n",
       "mpl.figure.prototype.key_event = function(event, name) {\n",
       "\n",
       "    // Prevent repeat events\n",
       "    if (name == 'key_press')\n",
       "    {\n",
       "        if (event.which === this._key)\n",
       "            return;\n",
       "        else\n",
       "            this._key = event.which;\n",
       "    }\n",
       "    if (name == 'key_release')\n",
       "        this._key = null;\n",
       "\n",
       "    var value = '';\n",
       "    if (event.ctrlKey && event.which != 17)\n",
       "        value += \"ctrl+\";\n",
       "    if (event.altKey && event.which != 18)\n",
       "        value += \"alt+\";\n",
       "    if (event.shiftKey && event.which != 16)\n",
       "        value += \"shift+\";\n",
       "\n",
       "    value += 'k';\n",
       "    value += event.which.toString();\n",
       "\n",
       "    this._key_event_extra(event, name);\n",
       "\n",
       "    this.send_message(name, {key: value});\n",
       "    return false;\n",
       "}\n",
       "\n",
       "mpl.figure.prototype.toolbar_button_onclick = function(name) {\n",
       "    if (name == 'download') {\n",
       "        this.handle_save(this, null);\n",
       "    } else {\n",
       "        this.send_message(\"toolbar_button\", {name: name});\n",
       "    }\n",
       "};\n",
       "\n",
       "mpl.figure.prototype.toolbar_button_onmouseover = function(tooltip) {\n",
       "    this.message.textContent = tooltip;\n",
       "};\n",
       "mpl.toolbar_items = [[\"Home\", \"Reset original view\", \"fa fa-home icon-home\", \"home\"], [\"Back\", \"Back to  previous view\", \"fa fa-arrow-left icon-arrow-left\", \"back\"], [\"Forward\", \"Forward to next view\", \"fa fa-arrow-right icon-arrow-right\", \"forward\"], [\"\", \"\", \"\", \"\"], [\"Pan\", \"Pan axes with left mouse, zoom with right\", \"fa fa-arrows icon-move\", \"pan\"], [\"Zoom\", \"Zoom to rectangle\", \"fa fa-square-o icon-check-empty\", \"zoom\"], [\"\", \"\", \"\", \"\"], [\"Download\", \"Download plot\", \"fa fa-floppy-o icon-save\", \"download\"]];\n",
       "\n",
       "mpl.extensions = [\"eps\", \"jpeg\", \"pdf\", \"png\", \"ps\", \"raw\", \"svg\", \"tif\"];\n",
       "\n",
       "mpl.default_extension = \"png\";var comm_websocket_adapter = function(comm) {\n",
       "    // Create a \"websocket\"-like object which calls the given IPython comm\n",
       "    // object with the appropriate methods. Currently this is a non binary\n",
       "    // socket, so there is still some room for performance tuning.\n",
       "    var ws = {};\n",
       "\n",
       "    ws.close = function() {\n",
       "        comm.close()\n",
       "    };\n",
       "    ws.send = function(m) {\n",
       "        //console.log('sending', m);\n",
       "        comm.send(m);\n",
       "    };\n",
       "    // Register the callback with on_msg.\n",
       "    comm.on_msg(function(msg) {\n",
       "        //console.log('receiving', msg['content']['data'], msg);\n",
       "        // Pass the mpl event to the overriden (by mpl) onmessage function.\n",
       "        ws.onmessage(msg['content']['data'])\n",
       "    });\n",
       "    return ws;\n",
       "}\n",
       "\n",
       "mpl.mpl_figure_comm = function(comm, msg) {\n",
       "    // This is the function which gets called when the mpl process\n",
       "    // starts-up an IPython Comm through the \"matplotlib\" channel.\n",
       "\n",
       "    var id = msg.content.data.id;\n",
       "    // Get hold of the div created by the display call when the Comm\n",
       "    // socket was opened in Python.\n",
       "    var element = $(\"#\" + id);\n",
       "    var ws_proxy = comm_websocket_adapter(comm)\n",
       "\n",
       "    function ondownload(figure, format) {\n",
       "        window.open(figure.imageObj.src);\n",
       "    }\n",
       "\n",
       "    var fig = new mpl.figure(id, ws_proxy,\n",
       "                           ondownload,\n",
       "                           element.get(0));\n",
       "\n",
       "    // Call onopen now - mpl needs it, as it is assuming we've passed it a real\n",
       "    // web socket which is closed, not our websocket->open comm proxy.\n",
       "    ws_proxy.onopen();\n",
       "\n",
       "    fig.parent_element = element.get(0);\n",
       "    fig.cell_info = mpl.find_output_cell(\"<div id='\" + id + \"'></div>\");\n",
       "    if (!fig.cell_info) {\n",
       "        console.error(\"Failed to find cell for figure\", id, fig);\n",
       "        return;\n",
       "    }\n",
       "\n",
       "    var output_index = fig.cell_info[2]\n",
       "    var cell = fig.cell_info[0];\n",
       "\n",
       "};\n",
       "\n",
       "mpl.figure.prototype.handle_close = function(fig, msg) {\n",
       "    // Update the output cell to use the data from the current canvas.\n",
       "    fig.push_to_output();\n",
       "    var dataURL = fig.canvas.toDataURL();\n",
       "    // Re-enable the keyboard manager in IPython - without this line, in FF,\n",
       "    // the notebook keyboard shortcuts fail.\n",
       "    IPython.keyboard_manager.enable()\n",
       "    $(fig.parent_element).html('<img src=\"' + dataURL + '\">');\n",
       "    fig.send_message('closing', {});\n",
       "    fig.ws.close()\n",
       "}\n",
       "\n",
       "mpl.figure.prototype.push_to_output = function(remove_interactive) {\n",
       "    // Turn the data on the canvas into data in the output cell.\n",
       "    var dataURL = this.canvas.toDataURL();\n",
       "    this.cell_info[1]['text/html'] = '<img src=\"' + dataURL + '\">';\n",
       "}\n",
       "\n",
       "mpl.figure.prototype.updated_canvas_event = function() {\n",
       "    // Tell IPython that the notebook contents must change.\n",
       "    IPython.notebook.set_dirty(true);\n",
       "    this.send_message(\"ack\", {});\n",
       "    var fig = this;\n",
       "    // Wait a second, then push the new image to the DOM so\n",
       "    // that it is saved nicely (might be nice to debounce this).\n",
       "    setTimeout(function () { fig.push_to_output() }, 1000);\n",
       "}\n",
       "\n",
       "mpl.figure.prototype._init_toolbar = function() {\n",
       "    var fig = this;\n",
       "\n",
       "    var nav_element = $('<div/>')\n",
       "    nav_element.attr('style', 'width: 100%');\n",
       "    this.root.append(nav_element);\n",
       "\n",
       "    // Define a callback function for later on.\n",
       "    function toolbar_event(event) {\n",
       "        return fig.toolbar_button_onclick(event['data']);\n",
       "    }\n",
       "    function toolbar_mouse_event(event) {\n",
       "        return fig.toolbar_button_onmouseover(event['data']);\n",
       "    }\n",
       "\n",
       "    for(var toolbar_ind in mpl.toolbar_items){\n",
       "        var name = mpl.toolbar_items[toolbar_ind][0];\n",
       "        var tooltip = mpl.toolbar_items[toolbar_ind][1];\n",
       "        var image = mpl.toolbar_items[toolbar_ind][2];\n",
       "        var method_name = mpl.toolbar_items[toolbar_ind][3];\n",
       "\n",
       "        if (!name) { continue; };\n",
       "\n",
       "        var button = $('<button class=\"btn btn-default\" href=\"#\" title=\"' + name + '\"><i class=\"fa ' + image + ' fa-lg\"></i></button>');\n",
       "        button.click(method_name, toolbar_event);\n",
       "        button.mouseover(tooltip, toolbar_mouse_event);\n",
       "        nav_element.append(button);\n",
       "    }\n",
       "\n",
       "    // Add the status bar.\n",
       "    var status_bar = $('<span class=\"mpl-message\" style=\"text-align:right; float: right;\"/>');\n",
       "    nav_element.append(status_bar);\n",
       "    this.message = status_bar[0];\n",
       "\n",
       "    // Add the close button to the window.\n",
       "    var buttongrp = $('<div class=\"btn-group inline pull-right\"></div>');\n",
       "    var button = $('<button class=\"btn btn-mini btn-danger\" href=\"#\" title=\"Close figure\"><i class=\"fa fa-times icon-remove icon-large\"></i></button>');\n",
       "    button.click(function (evt) { fig.handle_close(fig, {}); } );\n",
       "    button.mouseover('Close figure', toolbar_mouse_event);\n",
       "    buttongrp.append(button);\n",
       "    var titlebar = this.root.find($('.ui-dialog-titlebar'));\n",
       "    titlebar.prepend(buttongrp);\n",
       "}\n",
       "\n",
       "\n",
       "mpl.figure.prototype._canvas_extra_style = function(el){\n",
       "    // this is important to make the div 'focusable\n",
       "    el.attr('tabindex', 0)\n",
       "    // reach out to IPython and tell the keyboard manager to turn it's self\n",
       "    // off when our div gets focus\n",
       "\n",
       "    // location in version 3\n",
       "    if (IPython.notebook.keyboard_manager) {\n",
       "        IPython.notebook.keyboard_manager.register_events(el);\n",
       "    }\n",
       "    else {\n",
       "        // location in version 2\n",
       "        IPython.keyboard_manager.register_events(el);\n",
       "    }\n",
       "\n",
       "}\n",
       "\n",
       "mpl.figure.prototype._key_event_extra = function(event, name) {\n",
       "    var manager = IPython.notebook.keyboard_manager;\n",
       "    if (!manager)\n",
       "        manager = IPython.keyboard_manager;\n",
       "\n",
       "    // Check for shift+enter\n",
       "    if (event.shiftKey && event.which == 13) {\n",
       "        this.canvas_div.blur();\n",
       "        event.shiftKey = false;\n",
       "        // Send a \"J\" for go to next cell\n",
       "        event.which = 74;\n",
       "        event.keyCode = 74;\n",
       "        manager.command_mode();\n",
       "        manager.handle_keydown(event);\n",
       "    }\n",
       "}\n",
       "\n",
       "mpl.figure.prototype.handle_save = function(fig, msg) {\n",
       "    fig.ondownload(fig, null);\n",
       "}\n",
       "\n",
       "\n",
       "mpl.find_output_cell = function(html_output) {\n",
       "    // Return the cell and output element which can be found *uniquely* in the notebook.\n",
       "    // Note - this is a bit hacky, but it is done because the \"notebook_saving.Notebook\"\n",
       "    // IPython event is triggered only after the cells have been serialised, which for\n",
       "    // our purposes (turning an active figure into a static one), is too late.\n",
       "    var cells = IPython.notebook.get_cells();\n",
       "    var ncells = cells.length;\n",
       "    for (var i=0; i<ncells; i++) {\n",
       "        var cell = cells[i];\n",
       "        if (cell.cell_type === 'code'){\n",
       "            for (var j=0; j<cell.output_area.outputs.length; j++) {\n",
       "                var data = cell.output_area.outputs[j];\n",
       "                if (data.data) {\n",
       "                    // IPython >= 3 moved mimebundle to data attribute of output\n",
       "                    data = data.data;\n",
       "                }\n",
       "                if (data['text/html'] == html_output) {\n",
       "                    return [cell, data, j];\n",
       "                }\n",
       "            }\n",
       "        }\n",
       "    }\n",
       "}\n",
       "\n",
       "// Register the function which deals with the matplotlib target/channel.\n",
       "// The kernel may be null if the page has been refreshed.\n",
       "if (IPython.notebook.kernel != null) {\n",
       "    IPython.notebook.kernel.comm_manager.register_target('matplotlib', mpl.mpl_figure_comm);\n",
       "}\n"
      ],
      "text/plain": [
       "<IPython.core.display.Javascript object>"
      ]
     },
     "metadata": {},
     "output_type": "display_data"
    },
    {
     "data": {
      "text/html": [
       "<img src=\"data:image/png;base64,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\">"
      ],
      "text/plain": [
       "<IPython.core.display.HTML object>"
      ]
     },
     "metadata": {},
     "output_type": "display_data"
    }
   ],
   "source": [
    "#Voorbeeld spanning-stroom curve van een weerstand\n",
    "\n",
    "def plotUICurve(R=1):\n",
    "    if R == 0:\n",
    "        R = 1e-10\n",
    "    U = np.linspace(-10,10,100)\n",
    "    I = U/R\n",
    "    plt.plot(U,I,'-')\n",
    "    plt.xlabel('U (V)')\n",
    "    plt.ylabel('I (A)')\n",
    "    plt.axis('equal')\n",
    "\n",
    "for i in range(1,10,2):\n",
    "    plotUICurve(R=i)\n",
    "#[plotUICurve(i) for i in np.arange(1,20,0.1)]\n",
    "#interact(plotUICurve,R=1)"
   ]
  },
  {
   "cell_type": "code",
   "execution_count": 13,
   "metadata": {
    "collapsed": false
   },
   "outputs": [
    {
     "data": {
      "image/png": "[encoded data removed]",
      "text/plain": [
       "<IPython.core.display.Image object>"
      ]
     },
     "execution_count": 13,
     "metadata": {},
     "output_type": "execute_result"
    }
   ],
   "source": [
    "%%circuitikz filename=circuit2 dpi=200 options=american\n",
    "\n",
    "\\begin{circuitikz}\n",
    "    \\draw (0,0)\n",
    "    to[V,v=$12~V$] (0,3) \n",
    "    to[R, l = $R_1$] (3,3)\n",
    "        %      to[R, l=$R_1$, v=$U_{R_1}$, i = $I_1$] (3,3) \n",
    "      (0,0)\n",
    "      to[short] (3,0)\n",
    "      to[V,v=$10~V$] (3,3)\n",
    "    ;\n",
    "\\end{circuitikz}"
   ]
  },
  {
   "cell_type": "code",
   "execution_count": 14,
   "metadata": {
    "collapsed": false
   },
   "outputs": [
    {
     "data": {
      "image/png": "[encoded data removed]",
      "text/plain": [
       "<IPython.core.display.Image object>"
      ]
     },
     "execution_count": 14,
     "metadata": {},
     "output_type": "execute_result"
    }
   ],
   "source": [
    "%%circuitikz filename=circuit4 dpi=175 options=american\n",
    "\n",
    "\\begin{circuitikz}\n",
    "      \\draw (0,0)\n",
    "      to[V,v=$U_1$] (0,3) \n",
    "      to[R, l^=$R_1$, v_=$U_{R_1}$, i=$I_1$] (3,3)\n",
    "      to [R, l=$R_2$, v=$U_{R_2}$, i=$I_2$] (3,0)\n",
    "      to[short] (0,0) \n",
    "      \n",
    "      (3,0) \n",
    "      to[short] (6,0)\n",
    "      to[V, v=$U_2$] (6,3)\n",
    "      to[R, l_=$R_3$, v^=$U_{R_3}$, i_=$I_3$] (3,3)\n",
    "      ;\n",
    "\\end{circuitikz}"
   ]
  },
  {
   "cell_type": "markdown",
   "metadata": {
    "collapsed": true
   },
   "source": [
    "Neem aan dat:\n",
    "- $U_1$ = $8~V$\n",
    "- $U_2$ = $6~V$\n",
    "- $R_1$ = $1~\\Omega$\n",
    "- $R_2$ = $2~\\Omega$\n",
    "- $R_3$ = $3~\\Omega$\n",
    "\n",
    "1. Bereken de stroom $I_2$\n",
    "2. Bereken de spanning $U_{R_3}$"
   ]
  },
  {
   "cell_type": "markdown",
   "metadata": {},
   "source": [
    "## Bekende OnBekende methode (BOB)"
   ]
  },
  {
   "cell_type": "markdown",
   "metadata": {},
   "source": [
    "Zowel bron $U_1$ als bron $U_2$ zorgen dat er een stroom gaan lopen ($I_1$ en $I_3$).\n",
    "Deze komen op het knooppunt samen wat resulteert in een gezamenlijke stroom $I_2$.\n",
    "Volgende de definitie volgt dan:\n",
    "\n",
    "\\begin{equation}\n",
    "I_2 = I_1 + I_3\n",
    "\\end{equation}\n",
    "\n",
    "De individuele stromen kan je berekenen via de wet van Ohm:\n",
    "\n",
    "\\begin{aligned}\n",
    "I_1 & = \\dfrac{U_1-U_{R_2}}{R_1} \\\\\n",
    "I_2 & = \\dfrac{U_{R_2}}{R_2} \\\\\n",
    "I_3 & = \\dfrac{U_2-U_{R_2}}{R_3}\n",
    "\\end{aligned}\n",
    "\n"
   ]
  },
  {
   "cell_type": "code",
   "execution_count": 15,
   "metadata": {
    "collapsed": false
   },
   "outputs": [
    {
     "data": {
      "image/png": "[encoded data removed]",
      "text/plain": [
       "<IPython.core.display.Image object>"
      ]
     },
     "execution_count": 15,
     "metadata": {},
     "output_type": "execute_result"
    }
   ],
   "source": [
    "%%circuitikz filename=circuit4 dpi=175 options=american\n",
    "\n",
    "\\begin{circuitikz}\n",
    "      \\draw (0,0)\n",
    "      to[I,i=$I_A$] (0,3) \n",
    "      to[short] (3,3)\n",
    "      to [R, l=$R_1$, v=$U_{R_1}$, i=$I_1$] (3,0)\n",
    "      to[short] (0,0) \n",
    "      \n",
    "      (3,3) \n",
    "      to[V,v=$U_1$] (6,3)\n",
    "      to[R, l_=$R_2$, v^=$U_{R_2}$, i_=$I_2$] (6,0)\n",
    "      to[short] (3,0)\n",
    "      ;\n",
    "\\end{circuitikz}"
   ]
  },
  {
   "cell_type": "markdown",
   "metadata": {
    "collapsed": true
   },
   "source": [
    "Neem aan dat:\n",
    "- $U_1$ = $8~V$\n",
    "- $I_A$ = $6~A$\n",
    "- $R_1$ = 4 $\\Omega$\n",
    "- $R_2$ = 12 $\\Omega$\n",
    "\n",
    "1. Bereken de stroom $I_1$ en $I_2$"
   ]
  },
  {
   "cell_type": "markdown",
   "metadata": {
    "collapsed": true
   },
   "source": [
    "## Extra links:\n",
    "\n",
    "- [Wikiversity: Electric Circuit](https://en.wikiversity.org/wiki/Electric_Circuit_Analysis)\n",
    "- [Pearson Floyd](https://media.pearsoncmg.com/bc/abp/floyd/)"
   ]
  },
  {
   "cell_type": "markdown",
   "metadata": {},
   "source": [
    "--------------------"
   ]
  },
  {
   "cell_type": "markdown",
   "metadata": {
    "collapsed": true
   },
   "source": [
    "# $SUCCES = (Voorbereiding \\cdot Geluk)^{Motivatie}$"
   ]
  }
 ],
 "metadata": {
  "kernelspec": {
   "display_name": "Python 3",
   "language": "python",
   "name": "python3"
  },
  "language_info": {
   "codemirror_mode": {
    "name": "ipython",
    "version": 3
   },
   "file_extension": ".py",
   "mimetype": "text/x-python",
   "name": "python",
   "nbconvert_exporter": "python",
   "pygments_lexer": "ipython3",
   "version": "3.5.0"
  }
 },
 "nbformat": 4,
 "nbformat_minor": 0
}
